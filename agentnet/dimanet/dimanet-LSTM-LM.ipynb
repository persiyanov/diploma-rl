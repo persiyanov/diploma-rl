{
 "cells": [
  {
   "cell_type": "code",
   "execution_count": 1,
   "metadata": {
    "collapsed": false
   },
   "outputs": [],
   "source": [
    "%load_ext autoreload\n",
    "%autoreload 2"
   ]
  },
  {
   "cell_type": "code",
   "execution_count": 1,
   "metadata": {
    "collapsed": true
   },
   "outputs": [],
   "source": [
    "from mymodule.data_stuff import *"
   ]
  },
  {
   "cell_type": "code",
   "execution_count": 3,
   "metadata": {
    "collapsed": false
   },
   "outputs": [],
   "source": [
    "from collections import deque\n",
    "import pickle\n",
    "\n",
    "def read_all_contexts(context_size=2, verbose=100000):\n",
    "    with open('./open_subtitles_en_raw') as fin:\n",
    "        lines = []\n",
    "        for l in fin:\n",
    "            lines.append(l.strip())\n",
    "    contexts = []\n",
    "    curr_context = deque(lines[:context_size], context_size)\n",
    "    curr_answer = lines[context_size]\n",
    "    \n",
    "    t = 0\n",
    "    for line in lines[context_size+1:]:\n",
    "        contexts.append({'context':list(curr_context), 'answer': curr_answer})\n",
    "\n",
    "        if t % verbose == 0:\n",
    "            print(t)\n",
    "        curr_context.append(curr_answer)\n",
    "        curr_answer = line.strip()\n",
    "\n",
    "        t += 1\n",
    "    return contexts"
   ]
  },
  {
   "cell_type": "code",
   "execution_count": 4,
   "metadata": {
    "collapsed": false
   },
   "outputs": [],
   "source": [
    "with open('contexts.pkl', 'rb') as fin:\n",
    "    contexts = pickle.load(fin)"
   ]
  },
  {
   "cell_type": "code",
   "execution_count": 5,
   "metadata": {
    "collapsed": true
   },
   "outputs": [],
   "source": [
    "import tqdm"
   ]
  },
  {
   "cell_type": "code",
   "execution_count": 7,
   "metadata": {
    "collapsed": false
   },
   "outputs": [
    {
     "name": "stderr",
     "output_type": "stream",
     "text": [
      "100%|██████████| 18845078/18845078 [30:02<00:00, 10453.51it/s]\n"
     ]
    }
   ],
   "source": [
    "maxlen = 0\n",
    "for i in tqdm.trange(len(contexts)):\n",
    "    maxlen = max(len(preprocess(contexts[i]['context'])), maxlen)"
   ]
  },
  {
   "cell_type": "code",
   "execution_count": 8,
   "metadata": {
    "collapsed": false
   },
   "outputs": [
    {
     "ename": "SyntaxError",
     "evalue": "Missing parentheses in call to 'print' (<ipython-input-8-a0bf52e124cb>, line 1)",
     "output_type": "error",
     "traceback": [
      "\u001b[0;36m  File \u001b[0;32m\"<ipython-input-8-a0bf52e124cb>\"\u001b[0;36m, line \u001b[0;32m1\u001b[0m\n\u001b[0;31m    print maxlen\u001b[0m\n\u001b[0m               ^\u001b[0m\n\u001b[0;31mSyntaxError\u001b[0m\u001b[0;31m:\u001b[0m Missing parentheses in call to 'print'\n"
     ]
    }
   ],
   "source": [
    "print maxlen"
   ]
  },
  {
   "cell_type": "code",
   "execution_count": null,
   "metadata": {
    "collapsed": true
   },
   "outputs": [],
   "source": [
    "plt.hist(lens)"
   ]
  },
  {
   "cell_type": "code",
   "execution_count": 3,
   "metadata": {
    "collapsed": false
   },
   "outputs": [
    {
     "data": {
      "text/plain": [
       "{'answer': 'Hey, Nick.',\n",
       " 'context': ['Kids can get pretty much anything they want in the yard, as long as they can afford it.',\n",
       "  \"'Cause everything comes with a price.\"]}"
      ]
     },
     "execution_count": 3,
     "metadata": {},
     "output_type": "execute_result"
    }
   ],
   "source": [
    "contexts[0]"
   ]
  },
  {
   "cell_type": "markdown",
   "metadata": {},
   "source": [
    "# Actor-Critic Dialogue Model \n",
    "\n",
    "**! (symbolic expressions start from here)**"
   ]
  },
  {
   "cell_type": "code",
   "execution_count": 16,
   "metadata": {
    "collapsed": false
   },
   "outputs": [
    {
     "name": "stdout",
     "output_type": "stream",
     "text": [
      "env: THEANO_FLAGS=device=gpu4,floatX=float32,exception_verbosity=high,lib.cnmem=0.8\n"
     ]
    },
    {
     "name": "stderr",
     "output_type": "stream",
     "text": [
      "Using gpu device 4: GeForce GTX 1080 (CNMeM is enabled with initial size: 80.0% of memory, cuDNN 5105)\n"
     ]
    }
   ],
   "source": [
    "%env THEANO_FLAGS=device=gpu4,floatX=float32,exception_verbosity=high,lib.cnmem=0.8\n",
    "from warnings import warn\n",
    "import numpy as np\n",
    "import theano\n",
    "import theano.tensor as T\n",
    "from collections import OrderedDict\n",
    "import lasagne"
   ]
  },
  {
   "cell_type": "code",
   "execution_count": 17,
   "metadata": {
    "collapsed": false
   },
   "outputs": [],
   "source": [
    "GRAD_CLIP = 5\n",
    "N_LSTM_UNITS = 1024\n",
    "EMB_SIZE = 512\n",
    "BOTTLENECK_UNITS = 256\n",
    "\n",
    "TEMPERATURE = theano.shared(np.float32(1.), name='temperature')"
   ]
  },
  {
   "cell_type": "markdown",
   "metadata": {},
   "source": [
    "## Encoder\n",
    "\n",
    "* Just convolves sequence of input words into final hidden vector (so outputs [batch_size, N_LSTM_UNITS])"
   ]
  },
  {
   "cell_type": "code",
   "execution_count": 18,
   "metadata": {
    "collapsed": false
   },
   "outputs": [],
   "source": [
    "from lasagne.layers import *\n",
    "\n",
    "class Enc:\n",
    "    ### THEANO GRAPH INPUT ###\n",
    "    input_phrase = T.imatrix(\"encoder phrase tokens\")\n",
    "    ##########################\n",
    "    \n",
    "    l_in = InputLayer((None, None), input_phrase, name='context input')\n",
    "    l_mask = InputLayer((None, None), T.neq(input_phrase, PAD_ix), name='context mask')\n",
    "    \n",
    "    l_emb = EmbeddingLayer(l_in, N_TOKENS, EMB_SIZE, name=\"context embedding\")\n",
    "    \n",
    "    \n",
    "    ####LSTMLayer with CORRECT outputgate####\n",
    "    \n",
    "    l_lstm = LSTMLayer(l_emb,\n",
    "                       N_LSTM_UNITS,\n",
    "                       name='encoder_lstm',\n",
    "                       grad_clipping=GRAD_CLIP,\n",
    "                       mask_input=l_mask,\n",
    "                       only_return_final=True,\n",
    "                       peepholes=False)\n",
    "    \n",
    "    output = l_lstm"
   ]
  },
  {
   "cell_type": "markdown",
   "metadata": {},
   "source": [
    "## This defines one step of decoder.\n",
    "\n",
    "* Decoder takes next things as input (at each tick!): ``(prev_cell, prev_hid, inp_word, encoder_output)``\n",
    "* Decoder makes computations and output: ``(next_cell, next_hid, next_word)`` which will be passed as inputs at the next tick."
   ]
  },
  {
   "cell_type": "code",
   "execution_count": 19,
   "metadata": {
    "collapsed": false
   },
   "outputs": [],
   "source": [
    "from agentnet import Recurrence\n",
    "from agentnet.resolver import  ProbabilisticResolver\n",
    "from agentnet.memory import LSTMCell\n",
    "\n",
    "class Dec:\n",
    "    # Define inputs of decoder at each time step.\n",
    "    prev_cell = InputLayer((None, N_LSTM_UNITS), name='cell')\n",
    "    prev_hid = InputLayer((None, N_LSTM_UNITS), name='hid')\n",
    "    input_word = InputLayer((None,))\n",
    "    encoder_lstm = InputLayer((None, N_LSTM_UNITS), name='encoder')\n",
    "\n",
    "    \n",
    "    # Embed input word and use the same embeddings as in the encoder.\n",
    "    word_embedding = EmbeddingLayer(input_word, N_TOKENS, EMB_SIZE,\n",
    "                                    W=Enc.l_emb.W, name='emb')\n",
    "    \n",
    "    \n",
    "    # This is not WrongLSTMLayer! *Cell is used for one-tick networks.\n",
    "    new_cell, new_hid = LSTMCell(prev_cell, prev_hid,\n",
    "                                 input_or_inputs=[word_embedding, encoder_lstm],\n",
    "                                 name='decoder_lstm',\n",
    "                                 peepholes=False)\n",
    "    \n",
    "    # Define parts for new word prediction. Bottleneck is a hack for reducing time complexity.\n",
    "    bottleneck = DenseLayer(new_hid, BOTTLENECK_UNITS, nonlinearity=T.tanh, name='decoder intermediate')\n",
    "\n",
    "    \n",
    "    next_word_probs = DenseLayer(bottleneck, N_TOKENS,\n",
    "                                 nonlinearity=lambda probs: T.nnet.softmax(probs/TEMPERATURE),\n",
    "                                 name='decoder next word probas')\n",
    "\n",
    "    next_words = ProbabilisticResolver(next_word_probs, assume_normalized=True)"
   ]
  },
  {
   "cell_type": "markdown",
   "metadata": {},
   "source": [
    "## Generator unrolls decoder for ``n_steps``\n",
    "\n",
    "* It uses ``Recurrence`` class from ``agentnet``.\n",
    "\n",
    "* ``theano.scan`` fn takes arguments in order: ``seq1, seq2,..,output1,output2,..,nonseq1,nonseq2,...``\n",
    "* ``Recurrence`` unrolls ..."
   ]
  },
  {
   "cell_type": "code",
   "execution_count": 20,
   "metadata": {
    "collapsed": false,
    "scrolled": false
   },
   "outputs": [
    {
     "name": "stderr",
     "output_type": "stream",
     "text": [
      "/home/hedgedir/agentnet/agentnet/agent/recurrence.py:595: UserWarning: Warning: recurrent loop without unroll_scan got nonempty random state updates list. That happened because there is some source of randomness (e.g. dropout) inside recurrent step graph. To compile such graph, one must either call .get_automatic_updates() right after .get_output and pass these updates to a function, or use no_defalt_updates=True when compiling theano.function.\n",
      "  warn(\"Warning: recurrent loop without unroll_scan got nonempty random state updates list. That happened\"\n"
     ]
    }
   ],
   "source": [
    "class GenTest:\n",
    "    n_steps = theano.shared(25)\n",
    "    # This theano tensor is used as first input word for decoder.\n",
    "    bos_input_var = T.zeros((Enc.input_phrase.shape[0],), 'int32')+BOS_ix\n",
    "    \n",
    "    bos_input_layer = InputLayer((None,), bos_input_var, name=\"first input\")\n",
    "\n",
    "    recurrence = Recurrence(\n",
    "        # This means that encoder.output passed to decoder.encoder_lstm input at each tick.\n",
    "        input_nonsequences={Dec.encoder_lstm: Enc.output},\n",
    "        \n",
    "        # This defines how outputs moves to inputs at each tick in decoder. \n",
    "        # These corresponds to outputs in theano scan function.\n",
    "        state_variables=OrderedDict([(Dec.new_cell, Dec.prev_cell),\n",
    "                                     (Dec.new_hid, Dec.prev_hid),\n",
    "                                     (Dec.next_words, Dec.input_word)]),        \n",
    "        state_init={Dec.next_words: bos_input_layer},\n",
    "        n_steps=n_steps,\n",
    "        unroll_scan=False)\n",
    "    \n",
    "    weights = get_all_params(recurrence, trainable=True)\n",
    "    \n",
    "    recurrence_outputs = get_output(recurrence)\n",
    "        \n",
    "    ##### DECODER UNROLLED #####\n",
    "    # Theano tensor which represents sequence of generated words.\n",
    "    words_seq = recurrence_outputs[Dec.next_words]\n",
    "    \n",
    "    # Theano tensor which represents decoder hidden states.\n",
    "    dec_cell_seq = recurrence_outputs[Dec.new_cell]\n",
    "    ############################\n",
    "                                                 \n",
    "    generate = theano.function([Enc.input_phrase], [words_seq, dec_cell_seq],\n",
    "                               updates=recurrence.get_automatic_updates())\n",
    "    \n",
    "    \n",
    "    @staticmethod\n",
    "    def reply(phrase, max_len=25, **kwargs):\n",
    "        old_value = GenTest.n_steps.get_value()\n",
    "        \n",
    "        GenTest.n_steps.set_value(max_len)\n",
    "        phrase_ix = phrase2matrix([phrase],**kwargs)\n",
    "        answer_ix = GenTest.generate(phrase_ix)[0][0]\n",
    "        if EOS_ix in answer_ix:\n",
    "            answer_ix = answer_ix[:list(answer_ix).index(EOS_ix)]\n",
    "            \n",
    "        GenTest.n_steps.set_value(old_value)\n",
    "        return ' '.join(map(tokens.__getitem__, answer_ix))\n",
    "        "
   ]
  },
  {
   "cell_type": "markdown",
   "metadata": {},
   "source": [
    "## LM Trainer"
   ]
  },
  {
   "cell_type": "code",
   "execution_count": 21,
   "metadata": {
    "collapsed": false
   },
   "outputs": [
    {
     "name": "stderr",
     "output_type": "stream",
     "text": [
      "/home/hedgedir/agentnet/agentnet/agent/recurrence.py:301: UserWarning: You are giving Recurrence an input sequence of undefined length (None).\n",
      "Make sure it is always above <unspecified>(n_steps) you specified for recurrence\n",
      "  \"Make sure it is always above {}(n_steps) you specified for recurrence\".format(n_steps or \"<unspecified>\"))\n",
      "/home/hedgedir/agentnet/agentnet/agent/recurrence.py:595: UserWarning: Warning: recurrent loop without unroll_scan got nonempty random state updates list. That happened because there is some source of randomness (e.g. dropout) inside recurrent step graph. To compile such graph, one must either call .get_automatic_updates() right after .get_output and pass these updates to a function, or use no_defalt_updates=True when compiling theano.function.\n",
      "  warn(\"Warning: recurrent loop without unroll_scan got nonempty random state updates list. That happened\"\n"
     ]
    }
   ],
   "source": [
    "class GenTrain:\n",
    "    \"\"\"contains a recurrent loop where network is fed with reference answers instead of her own outputs.\n",
    "    Also contains some functions that train network in that mode.\"\"\"\n",
    "    \n",
    "    ### THEANO GRAPH INPUT. ###\n",
    "    reference_answers = T.imatrix(\"decoder reference answers\") # shape [batch_size, max_len]\n",
    "    ###########################\n",
    "    \n",
    "    bos_column = T.zeros((reference_answers.shape[0], 1), 'int32')+BOS_ix\n",
    "    reference_answers_bos = T.concatenate((bos_column, reference_answers), axis=1)  #prepend BOS\n",
    "    \n",
    "    l_ref_answers = InputLayer((None, None), reference_answers_bos, name='context input')\n",
    "    l_ref_mask = InputLayer((None, None), T.neq(reference_answers_bos, PAD_ix), name='context mask')\n",
    "    \n",
    "    recurrence = Recurrence(\n",
    "        input_nonsequences=OrderedDict([(Dec.encoder_lstm, Enc.output)]),\n",
    "        input_sequences=OrderedDict([(Dec.input_word, l_ref_answers)]),\n",
    "        state_variables=OrderedDict([(Dec.new_cell, Dec.prev_cell),\n",
    "                                     (Dec.new_hid, Dec.prev_hid)]),\n",
    "        tracked_outputs=[Dec.next_word_probs, Dec.next_words],\n",
    "        mask_input=l_ref_mask,\n",
    "        unroll_scan=False)\n",
    "    \n",
    "    recurrence_outputs = get_output(recurrence)\n",
    "    \n",
    "    P_seq = recurrence_outputs[Dec.next_word_probs]\n",
    "    \n",
    "    \n",
    "    ############################\n",
    "    ###loglikelihood training###\n",
    "    ############################\n",
    "    predicted_probas = P_seq[:, :-1].reshape((-1, N_TOKENS))+1e-6\n",
    "    target_labels = reference_answers.ravel()\n",
    "    \n",
    "    llh_loss = lasagne.objectives.categorical_crossentropy(predicted_probas, target_labels).mean()\n",
    "    \n",
    "    llh_updates = lasagne.updates.adam(llh_loss, GenTest.weights, 0.001)\n",
    "    \n",
    "    train_step = theano.function([Enc.input_phrase, reference_answers], llh_loss,\n",
    "                                 updates=llh_updates+recurrence.get_automatic_updates())\n",
    "    get_llh = theano.function([Enc.input_phrase, reference_answers], llh_loss, no_default_updates=True)"
   ]
  },
  {
   "cell_type": "markdown",
   "metadata": {},
   "source": [
    "### Training loop"
   ]
  },
  {
   "cell_type": "code",
   "execution_count": 22,
   "metadata": {
    "collapsed": true
   },
   "outputs": [],
   "source": [
    "from agentnet.utils.persistence import save,load\n",
    "# load(GenTest.recurrence,\"pretrained_network/weights.pcl\")"
   ]
  },
  {
   "cell_type": "code",
   "execution_count": 23,
   "metadata": {
    "collapsed": true
   },
   "outputs": [],
   "source": [
    "def iterate_minibatches(batch_size=64):\n",
    "    total_batches = len(contexts)//batch_size\n",
    "    for b in range(total_batches):\n",
    "        excerpt = contexts[b*batch_size:(b+1)*batch_size]\n",
    "        excerpt_context = [item['context'] for item in excerpt]\n",
    "        excerpt_answer = [item['answer'] for item in excerpt]\n",
    "        yield phrase2matrix(excerpt_context), phrase2matrix(excerpt_answer)\n",
    "        \n",
    "from IPython.display import clear_output\n",
    "import matplotlib.pyplot as plt\n",
    "%matplotlib inline\n",
    "\n",
    "test_phrases = [['Hello! How are you?'],\n",
    "                ['How old are you?'],\n",
    "                ['Are you fucking kidding me?'],\n",
    "                ['Suck. What are you doing?'], \n",
    "                ['You are piece of shit!!!'], \n",
    "                ['holy fucking crap. you are motherfucker']]\n",
    "\n",
    "\n",
    "BATCH_SIZE = 128\n",
    "N_EPOCHS = 100\n",
    "VERBOSITY = 10 # number of batches before printing\n",
    "NUM_BATCHES = len(contexts)//BATCH_SIZE\n",
    "\n",
    "SAVE_EVERY = 500\n",
    "\n",
    "f_log = open('log.txt', 'w')\n",
    "WEIGHTS_FILE = 'weights/LM_small.pkl'"
   ]
  },
  {
   "cell_type": "code",
   "execution_count": 13,
   "metadata": {
    "collapsed": false
   },
   "outputs": [
    {
     "data": {
      "text/plain": [
       "<agentnet.agent.recurrence.Recurrence at 0x7f8dd9230048>"
      ]
     },
     "execution_count": 13,
     "metadata": {},
     "output_type": "execute_result"
    }
   ],
   "source": [
    "load(GenTest.recurrence, WEIGHTS_FILE)"
   ]
  },
  {
   "cell_type": "code",
   "execution_count": null,
   "metadata": {
    "collapsed": true
   },
   "outputs": [],
   "source": [
    "loss_history = []\n",
    "# with open('loss_history.pkl', 'rb') as fin:\n",
    "#     loss_history = pickle.load(fin)"
   ]
  },
  {
   "cell_type": "code",
   "execution_count": null,
   "metadata": {
    "collapsed": false,
    "scrolled": true
   },
   "outputs": [
    {
     "name": "stdout",
     "output_type": "stream",
     "text": [
      "Loss:\t8.5311\n"
     ]
    }
   ],
   "source": [
    "for n_epoch in range(N_EPOCHS):\n",
    "    for nb,batch in enumerate(iterate_minibatches(BATCH_SIZE)):\n",
    "        ## Saving stuff.\n",
    "        if (n_epoch*NUM_BATCHES + nb + 1) % SAVE_EVERY == 0:\n",
    "            save(GenTest.recurrence, WEIGHTS_FILE)\n",
    "            f_log.write(\"\\nSAVED WEIGHTS!!!\\n\")\n",
    "        \n",
    "        ## Printing stuff.\n",
    "        if (n_epoch*NUM_BATCHES + nb + 1) % VERBOSITY == 0:\n",
    "            clear_output(wait=True)\n",
    "            f_log.write(\"Processed {}/{} epochs and {}/{} batches in current epoch\\n\".format(n_epoch, N_EPOCHS,\n",
    "                                                                                     nb+1, NUM_BATCHES))\n",
    "            f_log.write(\"Loss (averaged with last 10 batches): {0:.5f}\\n\".format(np.mean(loss_history[-10:])))\n",
    "            print(\"Loss:\\t{:.4f}\".format(np.mean(loss_history[-10:])))\n",
    "            \n",
    "            f_log.write(\"Answers on test phrases:\\n\")\n",
    "\n",
    "            for i in range(len(test_phrases)):\n",
    "                f_log.write(\"Phrase:\\t{}\\n\".format(test_phrases[i]))\n",
    "                f_log.write(\"Answer:\\t{}\\n\".format(GenTest.reply(test_phrases[i])))\n",
    "                f_log.write('---'*5+'\\n')\n",
    "            f_log.write('****'*10+'\\n')\n",
    "            \n",
    "            f_log.flush()\n",
    "            \n",
    "            with open('loss_history.pkl', 'wb') as fout:\n",
    "                pickle.dump(loss_history, fout)\n",
    "        \n",
    "        ## Training stuff.\n",
    "        batch_loss = GenTrain.train_step(batch[0], batch[1])\n",
    "    \n",
    "        loss_history.append(batch_loss)"
   ]
  },
  {
   "cell_type": "markdown",
   "metadata": {},
   "source": [
    "# Critic"
   ]
  },
  {
   "cell_type": "markdown",
   "metadata": {},
   "source": [
    "**Actor-Critic part**:\n",
    "* Decoder also tries to evaluate **V-function** at each tick. **State** is hidden cell of LSTM layer.\n",
    "* As a reward for being in state `s` and generating word `a` we take 1 if word `a` is obscene, 0 otherwise.\n",
    "\n",
    "* During training, we can compute these rewards trivially (we just need to collect a dictionary of obscene words).\n",
    "* We use TD updates [V(s) = V(s) + alpha \\* (R + V(s') - V(s))]; for function approximation, its equivalent to ``new_weights = old_weights - alpha * grad(MSE(targetV, approxV), old_weights)``"
   ]
  },
  {
   "cell_type": "code",
   "execution_count": 78,
   "metadata": {
    "collapsed": false
   },
   "outputs": [
    {
     "name": "stderr",
     "output_type": "stream",
     "text": [
      "/home/hedgedir/agentnet/agentnet/agent/recurrence.py:301: UserWarning: You are giving Recurrence an input sequence of undefined length (None).\n",
      "Make sure it is always above <TensorType(int64, scalar)>(n_steps) you specified for recurrence\n",
      "  \"Make sure it is always above {}(n_steps) you specified for recurrence\".format(n_steps or \"<unspecified>\"))\n"
     ]
    }
   ],
   "source": [
    "class Critic:\n",
    "    l_dec_cell = InputLayer((None, N_LSTM_UNITS), name='l_decoder_cell') # shape [batch_size, N_LSTM_UNITS]\n",
    "    \n",
    "    ### THEANO GRAPH INPUT. ###\n",
    "    dec_cell_seq = T.tensor3('decoder hidden cell sequence after recurrence') # shape [batch_size, n_steps, N_LSTM_UNITS]\n",
    "    ###########################\n",
    "    \n",
    "    l_dec_cell_seq = InputLayer((None, None, N_LSTM_UNITS), input_var=dec_cell_seq, name='l_decoder_cell_sequence')\n",
    "    \n",
    "    l_critic_values = DenseLayer(l_dec_cell, num_units=512, name=\"CRITIC__dense1\")\n",
    "    l_critic_values = DenseLayer(l_critic_values, num_units=256, name=\"CRITIC_dense2\")\n",
    "    l_critic_values = DenseLayer(l_critic_values, num_units=1, nonlinearity=None, name='CRITIC__values')\n",
    "    \n",
    "    recurrence = Recurrence(\n",
    "        input_sequences={l_dec_cell: l_dec_cell_seq},\n",
    "        tracked_outputs=[l_critic_values],\n",
    "        unroll_scan=False,\n",
    "        n_steps=GenTest.n_steps\n",
    "    )\n",
    "    \n",
    "    rec_outputs = get_output(recurrence)\n",
    "    \n",
    "    critic_values_seq = rec_outputs[l_critic_values]\n",
    "    # Now its shape [batch, n_steps, 1]. Reshape it to [batch, n_steps]\n",
    "    old_shape = critic_values_seq.shape\n",
    "    critic_values_seq = critic_values_seq.reshape((old_shape[0], old_shape[1]))\n",
    "    \n",
    "    predict = theano.function([dec_cell_seq], critic_values_seq, allow_input_downcast=True)\n",
    "    \n",
    "    weights = get_all_params(l_critic_values, trainable=True)"
   ]
  },
  {
   "cell_type": "code",
   "execution_count": 79,
   "metadata": {
    "collapsed": false,
    "scrolled": true
   },
   "outputs": [],
   "source": [
    "from agentnet.learning.generic import get_n_step_value_reference\n",
    "from theano.gradient import disconnected_grad\n",
    "\n",
    "class CriticTrainer:\n",
    "    td_n_steps = 3\n",
    "    \n",
    "    # We will obtain these values from calc_rewards() function.\n",
    "    rewards = T.matrix(name='rewards for each generated word') # shape [batch_size, n_steps]\n",
    "    is_alive = T.imatrix(name='is alive mask') # shape [batch_size, n_steps]\n",
    "    \n",
    "    V_predicted = Critic.critic_values_seq\n",
    "    \n",
    "    V_reference = get_n_step_value_reference(state_values=V_predicted,\n",
    "                                             rewards=rewards,\n",
    "                                             is_alive=is_alive,\n",
    "                                             n_steps=td_n_steps)\n",
    "    \n",
    "    # We must not propagate grads through target value (semi-gradient method).\n",
    "    V_reference = disconnected_grad(V_reference)\n",
    "    \n",
    "    td_loss = lasagne.objectives.squared_error(V_predicted, V_reference).mean()\n",
    "    td_updates = lasagne.updates.adam(td_loss, Critic.weights)\n",
    "    \n",
    "    train_step = theano.function([rewards, is_alive, Critic.dec_cell_seq], td_loss,\n",
    "                                 updates=td_updates,\n",
    "                                 allow_input_downcast=True)\n",
    "    \n",
    "    \n",
    "CT = CriticTrainer"
   ]
  },
  {
   "cell_type": "markdown",
   "metadata": {},
   "source": [
    "## Critic training\n",
    "\n",
    "__How do we train critic?__\n",
    "* Iterating over batches of data (it will be `Enc.input_phrase`)\n",
    "* Generating `GenTest.words_seq, GenTest.dec_cell_seq`.\n",
    "* Computing rewards and is_alive mask using `GenTest.words_seq`\n",
    "* Propagating gradients to critic calling `CT.train_step(rewards, is_alive, dec_cell_seq)`.\n",
    "\n",
    "That's it! Simple."
   ]
  },
  {
   "cell_type": "markdown",
   "metadata": {},
   "source": [
    "## Here we define how rewards are calculated based on generated sequences."
   ]
  },
  {
   "cell_type": "markdown",
   "metadata": {},
   "source": [
    "__Let's load obscene words list first__"
   ]
  },
  {
   "cell_type": "code",
   "execution_count": 82,
   "metadata": {
    "collapsed": false
   },
   "outputs": [
    {
     "name": "stdout",
     "output_type": "stream",
     "text": [
      "Some examples ['bitch', 'niggaz', 'shitdick', 'penis', 'sh!t', 'fuckwhit', 'knobead', 'nigger', 'nobjocky', 'pissin']\n",
      "Number of target words 154\n"
     ]
    }
   ],
   "source": [
    "with open('./obscene_words.txt') as fin:\n",
    "    target_words = set()\n",
    "    for line in fin:\n",
    "        words_in_line = line.strip().split()\n",
    "        if len(words_in_line) == 1:\n",
    "            target_words.update(words_in_line)\n",
    "            \n",
    "target_words.add('suck')\n",
    "target_words.add('goddamn')\n",
    "target_words.add('motherfucker')\n",
    "target_words.add('nigger')\n",
    "target_words.add('nigga')\n",
    "target_words.add('ass')\n",
    "target_words.add('crap')\n",
    "target_words.add('fucking')\n",
    "\n",
    "print(\"Some examples %s\" % list(target_words)[:10])\n",
    "\n",
    "target_idxs = set(filter(lambda x: x != UNK_ix, [token2idx[w] for w in target_words]))\n",
    "\n",
    "print(\"Number of target words %d\" % len(target_idxs))"
   ]
  },
  {
   "cell_type": "code",
   "execution_count": 81,
   "metadata": {
    "collapsed": true
   },
   "outputs": [],
   "source": [
    "def calc_rewards(generated_batch):\n",
    "    assert generated_batch.ndim == 2\n",
    "    rewards = np.zeros_like(generated_batch)\n",
    "    is_alive = np.zeros_like(generated_batch, dtype=np.int32)\n",
    "    \n",
    "    for i in range(generated_batch.shape[0]):\n",
    "        for j in range(generated_batch.shape[1]):\n",
    "            if generated_batch[i][j] == EOS_ix:\n",
    "                break\n",
    "            if generated_batch[i][j] in target_idxs:\n",
    "                rewards[i][j] = 1\n",
    "            is_alive[i][j] = 1\n",
    "    return rewards, is_alive"
   ]
  },
  {
   "cell_type": "markdown",
   "metadata": {},
   "source": [
    "## Training"
   ]
  },
  {
   "cell_type": "code",
   "execution_count": 75,
   "metadata": {
    "collapsed": true
   },
   "outputs": [],
   "source": [
    "with open('contexts.pkl', 'rb') as fin:\n",
    "    contexts = pickle.load(fin)"
   ]
  },
  {
   "cell_type": "code",
   "execution_count": 146,
   "metadata": {
    "collapsed": false
   },
   "outputs": [
    {
     "data": {
      "text/plain": [
       "{'answer': 'Hey, Nick.',\n",
       " 'context': ['Kids can get pretty much anything they want in the yard, as long as they can afford it.',\n",
       "  \"'Cause everything comes with a price.\"]}"
      ]
     },
     "execution_count": 146,
     "metadata": {},
     "output_type": "execute_result"
    }
   ],
   "source": [
    "contexts[0]"
   ]
  },
  {
   "cell_type": "code",
   "execution_count": 19,
   "metadata": {
    "collapsed": true
   },
   "outputs": [],
   "source": [
    "def iterate_minibatches(batch_size=64):\n",
    "    total_batches = len(contexts)//batch_size\n",
    "    for b in range(total_batches):\n",
    "        excerpt = contexts[b*batch_size:(b+1)*batch_size]\n",
    "        excerpt = [item['context'] for item in excerpt]\n",
    "        yield phrase2matrix(excerpt)"
   ]
  },
  {
   "cell_type": "code",
   "execution_count": 20,
   "metadata": {
    "collapsed": true
   },
   "outputs": [],
   "source": [
    "from IPython.display import clear_output\n",
    "import matplotlib.pyplot as plt\n",
    "%matplotlib inline"
   ]
  },
  {
   "cell_type": "code",
   "execution_count": 83,
   "metadata": {
    "collapsed": true
   },
   "outputs": [],
   "source": [
    "test_phrases = [['Hello! How are you?'],\n",
    "                ['How old are you?'],\n",
    "                ['Are you fucking kidding me?'],\n",
    "                ['Suck. What are you doing?'], \n",
    "                ['You are piece of shit!!!'], \n",
    "                ['holy fucking crap. you are motherfucker']]\n",
    "\n",
    "test_phrases_ids = phrase2matrix(test_phrases)"
   ]
  },
  {
   "cell_type": "code",
   "execution_count": 84,
   "metadata": {
    "collapsed": false,
    "scrolled": true
   },
   "outputs": [
    {
     "name": "stdout",
     "output_type": "stream",
     "text": [
      "Processed 0/100 epochs and 660/36806 batches in current epoch\n",
      "Loss (averaged with last 10 batches): 0.00164\n",
      "Avg reward: 0.00095\n",
      "Loss history:\n"
     ]
    },
    {
     "data": {
      "image/png": "[encoded data removed]",
      "text/plain": [
       "<matplotlib.figure.Figure at 0x7f6d518b8b38>"
      ]
     },
     "metadata": {},
     "output_type": "display_data"
    },
    {
     "name": "stdout",
     "output_type": "stream",
     "text": [
      "Answers on test phrases:\n",
      "Phrase:\t ['Hello! How are you?']\n",
      "Answer:\t\n",
      "\"i\"(0.013) \n",
      "\"'\"(0.010) \n",
      "\"m\"(0.010) \n",
      "\"not\"(0.008) \n",
      "\"welcome\"(0.012) \n",
      "\".\"(0.005) \n",
      "---------------\n",
      "Phrase:\t ['How old are you?']\n",
      "Answer:\t\n",
      "\"i\"(0.015) \n",
      "\"'\"(0.014) \n",
      "\"m\"(0.010) \n",
      "\"11\"(0.010) \n",
      "\".\"(0.005) \n",
      "---------------\n",
      "Phrase:\t ['Are you fucking kidding me?']\n",
      "Answer:\t\n",
      "\"all\"(0.048) \n",
      "\"right\"(0.012) \n",
      "\",\"(0.006) \n",
      "\"you\"(0.029) \n",
      "\"ready\"(0.065) \n",
      "\"for\"(0.046) \n",
      "\"the\"(0.007) \n",
      "\"rod\"(0.017) \n",
      "\"!\"(0.005) \n",
      "---------------\n",
      "Phrase:\t ['Suck. What are you doing?']\n",
      "Answer:\t\n",
      "\"it\"(0.040) \n",
      "\"'\"(0.010) \n",
      "\"s\"(0.010) \n",
      "\"something\"(0.012) \n",
      "\"you\"(0.005) \n",
      "\"like\"(0.008) \n",
      "\"?\"(0.007) \n",
      "---------------\n",
      "Phrase:\t ['You are piece of shit!!!']\n",
      "Answer:\t\n",
      "\"have\"(0.045) \n",
      "\"a\"(0.014) \n",
      "\"sharper\"(0.011) \n",
      "\"intervention\"(0.007) \n",
      "\",\"(0.005) \n",
      "\"doc\"(0.015) \n",
      "\".\"(0.006) \n",
      "---------------\n",
      "Phrase:\t ['holy fucking crap. you are motherfucker']\n",
      "Answer:\t\n",
      "\"really\"(0.050) \n",
      "\"?\"(0.018) \n",
      "---------------\n"
     ]
    },
    {
     "ename": "KeyboardInterrupt",
     "evalue": "",
     "output_type": "error",
     "traceback": [
      "\u001b[0;31m---------------------------------------------------------------------------\u001b[0m",
      "\u001b[0;31mKeyboardInterrupt\u001b[0m                         Traceback (most recent call last)",
      "\u001b[0;32m<ipython-input-84-a3392196c30e>\u001b[0m in \u001b[0;36m<module>\u001b[0;34m()\u001b[0m\n\u001b[1;32m     41\u001b[0m \u001b[0;34m\u001b[0m\u001b[0m\n\u001b[1;32m     42\u001b[0m         \u001b[0;31m## Training stuff.\u001b[0m\u001b[0;34m\u001b[0m\u001b[0;34m\u001b[0m\u001b[0m\n\u001b[0;32m---> 43\u001b[0;31m         \u001b[0mwords_seq\u001b[0m\u001b[0;34m,\u001b[0m \u001b[0mdec_cell_seq\u001b[0m \u001b[0;34m=\u001b[0m \u001b[0mGenTest\u001b[0m\u001b[0;34m.\u001b[0m\u001b[0mgenerate\u001b[0m\u001b[0;34m(\u001b[0m\u001b[0mbatch\u001b[0m\u001b[0;34m)\u001b[0m\u001b[0;34m\u001b[0m\u001b[0m\n\u001b[0m\u001b[1;32m     44\u001b[0m \u001b[0;34m\u001b[0m\u001b[0m\n\u001b[1;32m     45\u001b[0m         \u001b[0mrewards\u001b[0m\u001b[0;34m,\u001b[0m \u001b[0mis_alive\u001b[0m \u001b[0;34m=\u001b[0m \u001b[0mcalc_rewards\u001b[0m\u001b[0;34m(\u001b[0m\u001b[0mwords_seq\u001b[0m\u001b[0;34m)\u001b[0m\u001b[0;34m\u001b[0m\u001b[0m\n",
      "\u001b[0;32m/anaconda3/lib/python3.5/site-packages/theano/compile/function_module.py\u001b[0m in \u001b[0;36m__call__\u001b[0;34m(self, *args, **kwargs)\u001b[0m\n\u001b[1;32m    871\u001b[0m         \u001b[0;32mtry\u001b[0m\u001b[0;34m:\u001b[0m\u001b[0;34m\u001b[0m\u001b[0m\n\u001b[1;32m    872\u001b[0m             \u001b[0moutputs\u001b[0m \u001b[0;34m=\u001b[0m\u001b[0;31m\\\u001b[0m\u001b[0;34m\u001b[0m\u001b[0m\n\u001b[0;32m--> 873\u001b[0;31m                 \u001b[0mself\u001b[0m\u001b[0;34m.\u001b[0m\u001b[0mfn\u001b[0m\u001b[0;34m(\u001b[0m\u001b[0;34m)\u001b[0m \u001b[0;32mif\u001b[0m \u001b[0moutput_subset\u001b[0m \u001b[0;32mis\u001b[0m \u001b[0;32mNone\u001b[0m \u001b[0;32melse\u001b[0m\u001b[0;31m\\\u001b[0m\u001b[0;34m\u001b[0m\u001b[0m\n\u001b[0m\u001b[1;32m    874\u001b[0m                 \u001b[0mself\u001b[0m\u001b[0;34m.\u001b[0m\u001b[0mfn\u001b[0m\u001b[0;34m(\u001b[0m\u001b[0moutput_subset\u001b[0m\u001b[0;34m=\u001b[0m\u001b[0moutput_subset\u001b[0m\u001b[0;34m)\u001b[0m\u001b[0;34m\u001b[0m\u001b[0m\n\u001b[1;32m    875\u001b[0m         \u001b[0;32mexcept\u001b[0m \u001b[0mException\u001b[0m\u001b[0;34m:\u001b[0m\u001b[0;34m\u001b[0m\u001b[0m\n",
      "\u001b[0;32m/anaconda3/lib/python3.5/site-packages/theano/scan_module/scan_op.py\u001b[0m in \u001b[0;36mrval\u001b[0;34m(p, i, o, n, allow_gc)\u001b[0m\n\u001b[1;32m    955\u001b[0m         def rval(p=p, i=node_input_storage, o=node_output_storage, n=node,\n\u001b[1;32m    956\u001b[0m                  allow_gc=allow_gc):\n\u001b[0;32m--> 957\u001b[0;31m             \u001b[0mr\u001b[0m \u001b[0;34m=\u001b[0m \u001b[0mp\u001b[0m\u001b[0;34m(\u001b[0m\u001b[0mn\u001b[0m\u001b[0;34m,\u001b[0m \u001b[0;34m[\u001b[0m\u001b[0mx\u001b[0m\u001b[0;34m[\u001b[0m\u001b[0;36m0\u001b[0m\u001b[0;34m]\u001b[0m \u001b[0;32mfor\u001b[0m \u001b[0mx\u001b[0m \u001b[0;32min\u001b[0m \u001b[0mi\u001b[0m\u001b[0;34m]\u001b[0m\u001b[0;34m,\u001b[0m \u001b[0mo\u001b[0m\u001b[0;34m)\u001b[0m\u001b[0;34m\u001b[0m\u001b[0m\n\u001b[0m\u001b[1;32m    958\u001b[0m             \u001b[0;32mfor\u001b[0m \u001b[0mo\u001b[0m \u001b[0;32min\u001b[0m \u001b[0mnode\u001b[0m\u001b[0;34m.\u001b[0m\u001b[0moutputs\u001b[0m\u001b[0;34m:\u001b[0m\u001b[0;34m\u001b[0m\u001b[0m\n\u001b[1;32m    959\u001b[0m                 \u001b[0mcompute_map\u001b[0m\u001b[0;34m[\u001b[0m\u001b[0mo\u001b[0m\u001b[0;34m]\u001b[0m\u001b[0;34m[\u001b[0m\u001b[0;36m0\u001b[0m\u001b[0;34m]\u001b[0m \u001b[0;34m=\u001b[0m \u001b[0;32mTrue\u001b[0m\u001b[0;34m\u001b[0m\u001b[0m\n",
      "\u001b[0;32m/anaconda3/lib/python3.5/site-packages/theano/scan_module/scan_op.py\u001b[0m in \u001b[0;36mp\u001b[0;34m(node, args, outs)\u001b[0m\n\u001b[1;32m    944\u001b[0m                                                 \u001b[0margs\u001b[0m\u001b[0;34m,\u001b[0m\u001b[0;34m\u001b[0m\u001b[0m\n\u001b[1;32m    945\u001b[0m                                                 \u001b[0mouts\u001b[0m\u001b[0;34m,\u001b[0m\u001b[0;34m\u001b[0m\u001b[0m\n\u001b[0;32m--> 946\u001b[0;31m                                                 self, node)\n\u001b[0m\u001b[1;32m    947\u001b[0m         \u001b[0;32mexcept\u001b[0m \u001b[0;34m(\u001b[0m\u001b[0mImportError\u001b[0m\u001b[0;34m,\u001b[0m \u001b[0mtheano\u001b[0m\u001b[0;34m.\u001b[0m\u001b[0mgof\u001b[0m\u001b[0;34m.\u001b[0m\u001b[0mcmodule\u001b[0m\u001b[0;34m.\u001b[0m\u001b[0mMissingGXX\u001b[0m\u001b[0;34m)\u001b[0m\u001b[0;34m:\u001b[0m\u001b[0;34m\u001b[0m\u001b[0m\n\u001b[1;32m    948\u001b[0m             \u001b[0mp\u001b[0m \u001b[0;34m=\u001b[0m \u001b[0mself\u001b[0m\u001b[0;34m.\u001b[0m\u001b[0mexecute\u001b[0m\u001b[0;34m\u001b[0m\u001b[0m\n",
      "\u001b[0;32mtheano/scan_module/scan_perform.pyx\u001b[0m in \u001b[0;36mtheano.scan_module.scan_perform.perform (/root/.theano/compiledir_Linux-4.2--generic-x86_64-with-debian-jessie-sid-x86_64-3.5.2-64/scan_perform/mod.cpp:4490)\u001b[0;34m()\u001b[0m\n",
      "\u001b[0;32m/anaconda3/lib/python3.5/site-packages/theano/gof/op.py\u001b[0m in \u001b[0;36mrval\u001b[0;34m(p, i, o, n)\u001b[0m\n\u001b[1;32m    858\u001b[0m         \u001b[0;32mif\u001b[0m \u001b[0mparams\u001b[0m \u001b[0;32mis\u001b[0m \u001b[0mgraph\u001b[0m\u001b[0;34m.\u001b[0m\u001b[0mNoParams\u001b[0m\u001b[0;34m:\u001b[0m\u001b[0;34m\u001b[0m\u001b[0m\n\u001b[1;32m    859\u001b[0m             \u001b[0;31m# default arguments are stored in the closure of `rval`\u001b[0m\u001b[0;34m\u001b[0m\u001b[0;34m\u001b[0m\u001b[0m\n\u001b[0;32m--> 860\u001b[0;31m             \u001b[0;32mdef\u001b[0m \u001b[0mrval\u001b[0m\u001b[0;34m(\u001b[0m\u001b[0mp\u001b[0m\u001b[0;34m=\u001b[0m\u001b[0mp\u001b[0m\u001b[0;34m,\u001b[0m \u001b[0mi\u001b[0m\u001b[0;34m=\u001b[0m\u001b[0mnode_input_storage\u001b[0m\u001b[0;34m,\u001b[0m \u001b[0mo\u001b[0m\u001b[0;34m=\u001b[0m\u001b[0mnode_output_storage\u001b[0m\u001b[0;34m,\u001b[0m \u001b[0mn\u001b[0m\u001b[0;34m=\u001b[0m\u001b[0mnode\u001b[0m\u001b[0;34m)\u001b[0m\u001b[0;34m:\u001b[0m\u001b[0;34m\u001b[0m\u001b[0m\n\u001b[0m\u001b[1;32m    861\u001b[0m                 \u001b[0mr\u001b[0m \u001b[0;34m=\u001b[0m \u001b[0mp\u001b[0m\u001b[0;34m(\u001b[0m\u001b[0mn\u001b[0m\u001b[0;34m,\u001b[0m \u001b[0;34m[\u001b[0m\u001b[0mx\u001b[0m\u001b[0;34m[\u001b[0m\u001b[0;36m0\u001b[0m\u001b[0;34m]\u001b[0m \u001b[0;32mfor\u001b[0m \u001b[0mx\u001b[0m \u001b[0;32min\u001b[0m \u001b[0mi\u001b[0m\u001b[0;34m]\u001b[0m\u001b[0;34m,\u001b[0m \u001b[0mo\u001b[0m\u001b[0;34m)\u001b[0m\u001b[0;34m\u001b[0m\u001b[0m\n\u001b[1;32m    862\u001b[0m                 \u001b[0;32mfor\u001b[0m \u001b[0mo\u001b[0m \u001b[0;32min\u001b[0m \u001b[0mnode\u001b[0m\u001b[0;34m.\u001b[0m\u001b[0moutputs\u001b[0m\u001b[0;34m:\u001b[0m\u001b[0;34m\u001b[0m\u001b[0m\n",
      "\u001b[0;31mKeyboardInterrupt\u001b[0m: "
     ]
    }
   ],
   "source": [
    "BATCH_SIZE = 512\n",
    "N_EPOCHS = 100\n",
    "VERBOSITY = 10 # number of batches before printing\n",
    "NUM_BATCHES = len(contexts)//BATCH_SIZE\n",
    "\n",
    "\n",
    "loss_history = []\n",
    "rewards_history = []\n",
    "for n_epoch in range(N_EPOCHS):\n",
    "    for nb,batch in enumerate(iterate_minibatches(BATCH_SIZE)):\n",
    "        ## Printing stuff.\n",
    "        if (n_epoch*NUM_BATCHES + nb + 1) % VERBOSITY == 0:\n",
    "            clear_output(wait=True)\n",
    "            print(\"Processed {}/{} epochs and {}/{} batches in current epoch\".format(n_epoch, N_EPOCHS,\n",
    "                                                                                     nb+1, NUM_BATCHES))\n",
    "            print(\"Loss (averaged with last 10 batches): {0:.5f}\".format(np.mean(loss_history[-10:])))\n",
    "            print(\"Avg reward: {0:.5f}\".format(np.mean(rewards_history[-10:])))\n",
    "            print(\"Loss history:\")\n",
    "            plt.plot(loss_history)\n",
    "            plt.show()\n",
    "            \n",
    "            print(\"Answers on test phrases:\")\n",
    "            words_seq, dec_cell_seq = GenTest.generate(test_phrases_ids)\n",
    "            critic_values = Critic.predict(dec_cell_seq)\n",
    "            \n",
    "            answers = []\n",
    "            for i in range(words_seq.shape[0]):\n",
    "                answer = words_seq[i]\n",
    "                if EOS_ix in answer:\n",
    "                    answer = answer[:list(answer).index(EOS_ix)]\n",
    "                answers.append([tokens[idx] for idx in answer])\n",
    "            \n",
    "            for i in range(len(test_phrases)):\n",
    "                print(\"Phrase:\\t\", test_phrases[i])\n",
    "                answer_tok_critic_value = zip(answers[i], critic_values[i])\n",
    "                print(\"Answer:\\t\",)\n",
    "                for tok,value in answer_tok_critic_value:\n",
    "                    print('\"{}\"({:.3f}) '.format(tok, value),)\n",
    "                print('---'*5)\n",
    "            \n",
    "        \n",
    "        ## Training stuff.\n",
    "        words_seq, dec_cell_seq = GenTest.generate(batch)\n",
    "        \n",
    "        rewards, is_alive = calc_rewards(words_seq)\n",
    "        \n",
    "        batch_loss = CriticTrainer.train_step(rewards, is_alive, dec_cell_seq)\n",
    "        \n",
    "        loss_history.append(batch_loss)\n",
    "        rewards_history.append(np.mean(rewards))"
   ]
  },
  {
   "cell_type": "markdown",
   "metadata": {},
   "source": [
    "## Some answer generations"
   ]
  },
  {
   "cell_type": "code",
   "execution_count": 74,
   "metadata": {
    "collapsed": false
   },
   "outputs": [
    {
     "name": "stdout",
     "output_type": "stream",
     "text": [
      "i ' m not a fan of the play .\n",
      "i don ' t know .\n",
      "the video .\n",
      "uh , uh , i ' m just gonna go with the . . .\n",
      "that is . . .\n"
     ]
    }
   ],
   "source": [
    "TEMPERATURE.set_value(np.float32(0.5))\n",
    "for i in range(5):\n",
    "    print(GenTest.reply([\"what is your favorite show?\"], 20))\n",
    "    \n",
    "TEMPERATURE.set_value(np.float32(1))"
   ]
  },
  {
   "cell_type": "code",
   "execution_count": 105,
   "metadata": {
    "collapsed": false
   },
   "outputs": [
    {
     "name": "stderr",
     "output_type": "stream",
     "text": [
      "/home/hedgedir/agentnet/agentnet/agent/recurrence.py:188: UserWarning: State_variables recommended type is OrderedDict.\n",
      "                Otherwise, order of agent state outputs from get_sessions and get_agent_reaction methods\n",
      "                may depend on python configuration.\n",
      "\n",
      "                Current order is: [<lasagne.layers.merge.ElemwiseMergeLayer object at 0x7f0176a7cc88>, <lasagne.layers.special.NonlinearityLayer object at 0x7f0176a7cc50>]\n",
      "                You may find OrderedDict in standard collections module: from collections import OrderedDict\n",
      "                \n",
      "  \"\"\".format(state_variables=list(self.state_variables.keys())))\n",
      "/home/hedgedir/agentnet/agentnet/agent/recurrence.py:301: UserWarning: You are giving Recurrence an input sequence of undefined length (None).\n",
      "Make sure it is always above <unspecified>(n_steps) you specified for recurrence\n",
      "  \"Make sure it is always above {}(n_steps) you specified for recurrence\".format(n_steps or \"<unspecified>\"))\n",
      "INFO (theano.gof.compilelock): Refreshing lock /root/.theano/compiledir_Linux-4.2--generic-x86_64-with-debian-jessie-sid-x86_64-3.5.2-64/lock_dir/lock\n",
      "INFO (theano.gof.compilelock): Refreshing lock /root/.theano/compiledir_Linux-4.2--generic-x86_64-with-debian-jessie-sid-x86_64-3.5.2-64/lock_dir/lock\n",
      "INFO (theano.gof.compilelock): Refreshing lock /root/.theano/compiledir_Linux-4.2--generic-x86_64-with-debian-jessie-sid-x86_64-3.5.2-64/lock_dir/lock\n",
      "INFO (theano.gof.compilelock): Refreshing lock /root/.theano/compiledir_Linux-4.2--generic-x86_64-with-debian-jessie-sid-x86_64-3.5.2-64/lock_dir/lock\n"
     ]
    }
   ],
   "source": [
    "import lasagne \n",
    "class trainer:\n",
    "    \"\"\"contains a recurrent loop where network is fed with reference answers instead of her own outputs.\n",
    "    Also contains some functions that train network in that mode.\"\"\"\n",
    "    #training recurrence\n",
    "    reference_answers = T.imatrix(\"decoder reference answers\")\n",
    "    \n",
    "    bos_column = T.zeros((reference_answers.shape[0], 1), 'int32')+BOS_ix\n",
    "    reference_answers_bos = T.concatenate((bos_column, reference_answers ), axis=1)  #prepend BOS\n",
    "        \n",
    "    l_ref = InputLayer((None, None), reference_answers_bos, name='context input')\n",
    "    l_ref_mask = InputLayer((None, None), T.neq(reference_answers_bos, PAD_ix),'context mask')\n",
    "\n",
    "    recurrence = Recurrence(input_sequences={decoder.inp_word: l_ref},\n",
    "                            input_nonsequences={decoder.encoder_lstm: encoder.output},\n",
    "                            state_variables={decoder.new_cell: decoder.prev_cell,\n",
    "                                             decoder.new_hid: decoder.prev_hid},\n",
    "                            tracked_outputs=[decoder.next_word_probs],#<ADDWHATEVERYOUWANT>,]\n",
    "                            mask_input=l_ref_mask,\n",
    "                            unroll_scan=False)\n",
    "    \n",
    "    \n",
    "    P_seq = get_output(recurrence[decoder.next_word_probs])\n",
    "    #V_seq = whateveryouadded\n",
    "    \n",
    "    ############################\n",
    "    ###loglikelihood training###\n",
    "    ############################\n",
    "    predicted_probas = P_seq[:, :-1].reshape((-1, N_TOKENS))+1e-6\n",
    "    target_values = reference_answers.ravel()\n",
    "    llh = lasagne.objectives.categorical_crossentropy(predicted_probas, target_values)\n",
    "    llh_loss = llh.mean()\n",
    "\n",
    "    #only train over generator weights since state value estimator does not influence likelihood (disconnected)\n",
    "    llh_updates = lasagne.updates.adam(llh_loss, generator.weights, 0.001)\n",
    "\n",
    "    train_llh_step = theano.function([encoder.input_phrase, reference_answers], llh_loss, updates=llh_updates)\n",
    "    get_llh = theano.function([encoder.input_phrase, reference_answers], llh)\n",
    "\n",
    "    \n"
   ]
  },
  {
   "cell_type": "code",
   "execution_count": null,
   "metadata": {
    "collapsed": true
   },
   "outputs": [],
   "source": []
  }
 ],
 "metadata": {
  "anaconda-cloud": {},
  "kernelspec": {
   "display_name": "Python [conda root]",
   "language": "python",
   "name": "conda-root-py"
  },
  "language_info": {
   "codemirror_mode": {
    "name": "ipython",
    "version": 3
   },
   "file_extension": ".py",
   "mimetype": "text/x-python",
   "name": "python",
   "nbconvert_exporter": "python",
   "pygments_lexer": "ipython3",
   "version": "3.5.2"
  }
 },
 "nbformat": 4,
 "nbformat_minor": 0
}
