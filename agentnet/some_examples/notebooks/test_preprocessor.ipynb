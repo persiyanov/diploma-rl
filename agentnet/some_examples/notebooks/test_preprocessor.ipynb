{
 "cells": [
  {
   "cell_type": "code",
   "execution_count": 1,
   "metadata": {
    "collapsed": false
   },
   "outputs": [],
   "source": [
    "%load_ext autoreload\n",
    "%autoreload 2\n",
    "import sys\n",
    "sys.path.append(\"..\")"
   ]
  },
  {
   "cell_type": "code",
   "execution_count": 2,
   "metadata": {
    "collapsed": false
   },
   "outputs": [
    {
     "name": "stderr",
     "output_type": "stream",
     "text": [
      "100%|██████████| 7285/7285 [00:03<00:00, 2116.99it/s]"
     ]
    },
    {
     "name": "stdout",
     "output_type": "stream",
     "text": [
      "23281 out of 23281 tokens, coverage=1.00000)\n"
     ]
    },
    {
     "name": "stderr",
     "output_type": "stream",
     "text": [
      "\n"
     ]
    }
   ],
   "source": [
    "from utils.southpark import get_conversations\n",
    "conversations = get_conversations(\"/srv/hd7/jheuristic/cartman/sp.json\")\n",
    "    \n",
    "from utils.preprocessor import Preprocessor\n",
    "\n",
    "preproc = Preprocessor.from_conversations(conversations,verbose=True)\n"
   ]
  },
  {
   "cell_type": "code",
   "execution_count": 3,
   "metadata": {
    "collapsed": false
   },
   "outputs": [
    {
     "data": {
      "text/plain": [
       "u'hello , mr freeman .'"
      ]
     },
     "execution_count": 3,
     "metadata": {},
     "output_type": "execute_result"
    }
   ],
   "source": [
    "preproc.ix_to_phrase(preproc.phrase_to_ix(\"hello, mr freeman.\",10))"
   ]
  },
  {
   "cell_type": "code",
   "execution_count": 4,
   "metadata": {
    "collapsed": false,
    "scrolled": true
   },
   "outputs": [
    {
     "data": {
      "text/plain": [
       "(array([ 37195.,  22930.,   7522.,   2504.,   1032.,    401.,    178.,\n",
       "            82.,     39.,     40.]),\n",
       " array([   0.,   10.,   20.,   30.,   40.,   50.,   60.,   70.,   80.,\n",
       "          90.,  100.]),\n",
       " <a list of 10 Patch objects>)"
      ]
     },
     "execution_count": 4,
     "metadata": {},
     "output_type": "execute_result"
    },
    {
     "data": {
      "image/png": "[encoded data removed]",
      "text/plain": [
       "<matplotlib.figure.Figure at 0x7183a50>"
      ]
     },
     "metadata": {},
     "output_type": "display_data"
    }
   ],
   "source": [
    "import matplotlib.pyplot as plt\n",
    "%matplotlib inline\n",
    "\n",
    "from operator import add\n",
    "phrases = reduce(add,conversations)\n",
    "phrase_tokens = [preproc.tokenizer.tokenize(preproc.preprocess_phrase(line)) for sp,line in phrases]\n",
    "plt.hist(map(len,phrase_tokens),\n",
    "         range=(0,100)\n",
    "        )"
   ]
  },
  {
   "cell_type": "code",
   "execution_count": 25,
   "metadata": {
    "collapsed": false
   },
   "outputs": [
    {
     "name": "stderr",
     "output_type": "stream",
     "text": [
      "100%|██████████| 7285/7285 [00:04<00:00, 1783.49it/s]\n"
     ]
    }
   ],
   "source": [
    "convs_ix = list(preproc.preprocess_conversations(conversations,verbose=True,max_len=10))"
   ]
  },
  {
   "cell_type": "code",
   "execution_count": 28,
   "metadata": {
    "collapsed": false
   },
   "outputs": [],
   "source": [
    "from utils.generate import get_samples_with_context,get_phrase_pairs,iterate_minibatches\n",
    "pairs = get_phrase_pairs(convs_ix,speaker_filter=lambda sp1,sp2:'cartman' in sp2)\n",
    "triples = get_samples_with_context(convs_ix,speaker_filter=lambda sp1,sp2:'cartman' in sp2,padder=preproc.token_to_ix[\"PAD\"])"
   ]
  },
  {
   "cell_type": "code",
   "execution_count": 48,
   "metadata": {
    "collapsed": false
   },
   "outputs": [
    {
     "name": "stdout",
     "output_type": "stream",
     "text": [
      "> welcome ! welcome everyone ! please enjoy ! the\n",
      "> cartman , what the hell is all this ?\n",
      "> our platinum album ceremony . i spared no expense\n",
      "but you spent all the money we made !\n",
      "we're faith plus one , token , there'll be\n",
      "\n",
      "> and\n",
      "> hey terrance ! looks like this might be a\n",
      "> it sure does phillip . no one will oppress\n",
      "aaaaah !\n",
      "did you guys see that ? that was sweet\n",
      "\n",
      "> come around here , ben !\n",
      "> mom ! dad !\n",
      "> son !\n",
      "oh , son !\n",
      "what's goin' on ?\n",
      "\n",
      "> well let's just suck it up , guys .\n",
      "> alright mccormick , let's start with you . climb\n",
      "> heheh ! look at kenny . he's so poor\n",
      "alright , let's go broflovski .\n",
      "heheheheheh ! look you guys , a jew on\n",
      "\n",
      "> freeze myself . if i freeze myself , then\n",
      "> no .\n",
      "> it's simple science , kyle .\n",
      "you'll die , retard !\n",
      "i'll die waiting for the wii to come out\n",
      "\n",
      "> well , why do i have to dress up\n",
      "> 'cause old ladies are fat and you are ,\n",
      "> ee -\n",
      "come on , cartman , the way we're filming\n",
      "they better not !\n",
      "\n"
     ]
    }
   ],
   "source": [
    "for i,(cb,xb,yb) in enumerate(iterate_minibatches(triples.T,100,shuffle=True)):\n",
    "    if i>5:break\n",
    "    \n",
    "    for line in cb[0]:\n",
    "        print '>',preproc.ix_to_phrase(line)\n",
    "    print preproc.ix_to_phrase(xb[0])\n",
    "    print preproc.ix_to_phrase(yb[0])\n",
    "    print\n"
   ]
  },
  {
   "cell_type": "code",
   "execution_count": 52,
   "metadata": {
    "collapsed": false
   },
   "outputs": [
    {
     "data": {
      "text/plain": [
       "(3, 10)"
      ]
     },
     "execution_count": 52,
     "metadata": {},
     "output_type": "execute_result"
    }
   ],
   "source": []
  }
 ],
 "metadata": {
  "kernelspec": {
   "display_name": "Python 2",
   "language": "python",
   "name": "python2"
  },
  "language_info": {
   "codemirror_mode": {
    "name": "ipython",
    "version": 2
   },
   "file_extension": ".py",
   "mimetype": "text/x-python",
   "name": "python",
   "nbconvert_exporter": "python",
   "pygments_lexer": "ipython2",
   "version": "2.7.3"
  }
 },
 "nbformat": 4,
 "nbformat_minor": 0
}
