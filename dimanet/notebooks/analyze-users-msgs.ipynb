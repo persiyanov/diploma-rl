{
 "cells": [
  {
   "cell_type": "code",
   "execution_count": 1,
   "metadata": {},
   "outputs": [
    {
     "name": "stdout",
     "output_type": "stream",
     "text": [
      "env: THEANO_FLAGS=device=gpu0,lib.cnmem=0.9,floatX=float32\n",
      "env: USER_EMB_SIZE=256\n"
     ]
    }
   ],
   "source": [
    "%env THEANO_FLAGS=device=gpu0,lib.cnmem=0.9,floatX=float32\n",
    "%env USER_EMB_SIZE=256\n",
    "import sys"
   ]
  },
  {
   "cell_type": "code",
   "execution_count": 2,
   "metadata": {
    "collapsed": true
   },
   "outputs": [],
   "source": [
    "sys.path.insert(0, '../')"
   ]
  },
  {
   "cell_type": "code",
   "execution_count": 3,
   "metadata": {},
   "outputs": [
    {
     "name": "stderr",
     "output_type": "stream",
     "text": [
      "WARNING (theano.sandbox.cuda): The cuda backend is deprecated and will be removed in the next release (v0.10).  Please switch to the gpuarray backend. You can get more information about how to switch at this URL:\n",
      " https://github.com/Theano/Theano/wiki/Converting-to-the-new-gpu-back-end%28gpuarray%29\n",
      "\n",
      "Using gpu device 0: GeForce GTX 1080 (CNMeM is enabled with initial size: 90.0% of memory, cuDNN 5110)\n"
     ]
    }
   ],
   "source": [
    "from mymodule.neural.seq2seq import *\n",
    "from mymodule.base_stuff import Vocab, phrase2matrix\n",
    "from mymodule.neural.discriminator import DssmModel\n",
    "from agentnet.utils.persistence import load, save\n",
    "import codecs\n",
    "from __future__ import unicode_literals\n",
    "from copy import deepcopy\n",
    "from tqdm import tqdm"
   ]
  },
  {
   "cell_type": "code",
   "execution_count": 4,
   "metadata": {},
   "outputs": [
    {
     "data": {
      "text/plain": [
       "<lasagne.layers.noise.DropoutLayer at 0x7f9c18ea9450>"
      ]
     },
     "execution_count": 4,
     "metadata": {},
     "output_type": "execute_result"
    }
   ],
   "source": [
    "vocab_path = '../twitter_data/tokens.txt'\n",
    "vocab = Vocab.read_from_file(vocab_path)\n",
    "dssm_model = DssmModel(vocab, 1000)\n",
    "load(dssm_model.l_user_semantic, '../weights/dssm_model_l_user_semantic.pkl')\n",
    "load(dssm_model.l_utt_semantic, '../weights/dssm_model_l_utt_semantic.pkl')"
   ]
  },
  {
   "cell_type": "code",
   "execution_count": 5,
   "metadata": {
    "collapsed": true
   },
   "outputs": [],
   "source": [
    "uid2msgs = {}\n",
    "\n",
    "with codecs.open('../twitter_data/dssm_data_selected_users', encoding='utf8') as fin:\n",
    "    for line in fin:\n",
    "        id_, msg = line.strip().split('\\t')\n",
    "        if id_ in uid2msgs:\n",
    "            uid2msgs[id_].append(msg)\n",
    "        else:\n",
    "            uid2msgs[id_] = [msg]\n",
    "            \n",
    "all_ids = sorted(map(int, uid2msgs.keys()))"
   ]
  },
  {
   "cell_type": "code",
   "execution_count": 6,
   "metadata": {
    "collapsed": true,
    "scrolled": false
   },
   "outputs": [],
   "source": [
    "def print_users_msgs(users=None):\n",
    "    users = users or all_ids\n",
    "    for id_ in users[:100]:\n",
    "        print \"******** EXAMPLE MESSAGES OF USER {} *********\".format(id_)\n",
    "        print\n",
    "        for i in xrange(min(15, len(uid2msgs[str(id_)]))):\n",
    "            print uid2msgs[str(id_)][i]\n",
    "        print"
   ]
  },
  {
   "cell_type": "code",
   "execution_count": 7,
   "metadata": {
    "scrolled": true
   },
   "outputs": [
    {
     "name": "stdout",
     "output_type": "stream",
     "text": [
      "******** EXAMPLE MESSAGES OF USER 11 *********\n",
      "\n",
      "со школьниками же такого не может быть)\n",
      "))))) блин как мило боже))))))\n",
      "ахаха \"ебучий губернатор\"))))\n",
      "везука\n",
      "ОЛЕГ НУ КАКОГО Ж ХРЕНА!!!!\n",
      "беру!ХD\n",
      "зарплату задерживают)) кот и так лучше меня кушает)))\n",
      "ДА!)\n",
      "ахахаха\n",
      "просто кажусь наверное))\n",
      "я не в теме вапще))\n",
      "ну я там нигде не ржала надо сказать... наверное надо было слушать. я читала.\n",
      "сомнительно ))\n",
      "другая россия просто в ватный храм превратилась.\n",
      "суббота же))))\n",
      "\n",
      "******** EXAMPLE MESSAGES OF USER 13 *********\n",
      "\n",
      "лишь бы привитая была\n",
      "это точно ))\n",
      "как выходной проведешь , на сопках ?:))\n",
      "ну что дорогая, где там наши гостиницы ?:))\n",
      "точно\n",
      "это точно ))\n",
      "и в театр тоже :))\n",
      "норм, полет нормальный\n",
      "Ленусик, мне пора:-)\n",
      "ага, заезжай как нибудь :-)\n",
      "доброе сударь ))\n",
      "гыы\n",
      "мерси и тебя сударь ))\n",
      "это история, но я ее не осуждаю\n",
      "ага\n",
      "\n",
      "******** EXAMPLE MESSAGES OF USER 24 *********\n",
      "\n",
      "Пасутся в Одноклассниках,а в Тви Каркают:)\n",
      "Мячик Хоккеить!;)))\n",
      "Согласен!!!!!!Гне они Все были?В дивизиях Вермахта...!!!!\n",
      "Не правда!У них что-то есть!!)))\n",
      "Вы бы перед тем как вонь поднимать Всю переписку почитали!!!Там четко написано о Чечне!!!!\n",
      "Эти хоть рубахи носили!!!!!!!!!!!\n",
      "Солдаты-Дезертиры,Генерал-Самоубийца,Вертолет-Сука и Сволочь!))\n",
      "А это Я!)))))Балуюсь))\n",
      "Не забудь про остатки!!!Которые тоже ...!;))))))))\n",
      "Я знаю))))\n",
      "ну да)))))\n",
      "Ура!!!)))\n",
      "Как водится!;)))\n",
      "Нам пень не нужен))))))\n",
      "Не мир сошёл сума,а элиты,которые захотели быть с Западом,а не с нами!!!Вот главная причина\n",
      "\n",
      "******** EXAMPLE MESSAGES OF USER 71 *********\n",
      "\n",
      ". В Крыму Архиглобальное Воровство Денег Пенсионеров и Обездоленных Детей! Эта Война Ведётся На Бюджет РФ\n",
      "Нда с Чего, Вы взяли, что жена Резника Интеллигентная&gt;Да Еще и Женщина? Она Тупая ВАТНИЦА! Гей\n",
      "Прокляты Обе! Повторяю Негодяйка лицемерная Пособница Всех Преступлений Вас Всех Будут Судить в Гааге!\n",
      "Никита, требуем Зрелисч\n",
      "володин это один из идеологов едросов(( партия Жуликов, Воров - войны и Убийц!!(\n",
      "Ггггг в Личку Тя Зовут Шо Не понятного ;))\n",
      ". Мне когда на улице* делаютЗамечание за мат в Приличной форме ИнтеллигентныеДевы Я тоже, Извиняюсь)\n",
      "Сука помой уши вынь хуй изо рта!! И отсоси у с прохановым!!! Дебил ватный!\n",
      "АХАХАХХАХА !))) Стопицот % 5+++++ Баллов\n",
      "Правильно Мыслишь, Детка!!! !!))) А, ты сука ебучая !!!!!!!!!!!!!((((((((((((\n",
      "да он ей никак - на подходил(( всего лишь.. эт было видно\n",
      "Я ТВОЙ РОТ ЕБАЛ ПЕДРИЛА ТЫ КРЫМСКАЯ!!! НАХУЙ МНЕ КРЫМ УКРАИНСКИЙ??? ОДНИ ПРОБЛЕМЫ! НО, БОЛЬШЕ ВСЕГО ПРОБЛЕМЫ У ВАС ПИДРОТНИКОВ!!\n",
      ")))) 227 ретвитов Счёт ретвитов ты долбаёб у тебя 196 ретвитов - ты проиграл !! Маца блять!!!\n",
      "Деда Хасана - Убить - Невозможно!!! Пока - Сам - Чего Как... Новость Дня !!!\n",
      "МЛРД% )))))) ХУЛЕ ЭТОЖ ВАТНИК\n",
      "\n",
      "******** EXAMPLE MESSAGES OF USER 74 *********\n",
      "\n",
      "он же мертвый!!!!!\n",
      "чмоке!!!!!\n",
      "чмоке!!!!!!!!!!!\n",
      "о!\n",
      "на месяц не хватит\n",
      "он логически мыслит\n",
      "ой блин! Сабралесь эстЭты)))\n",
      "привет всем)))\n",
      "ахахахахахах\n",
      "ггггг\n",
      "да для нас это норм состояние )))\n",
      "сегодня репетиция)))) мальчики наши развлекаются ;)))\n",
      "привет с кем не видедись исчО)))\n",
      "ты ебало завали утырок\n",
      "доброе утро))))\n",
      "\n",
      "******** EXAMPLE MESSAGES OF USER 79 *********\n",
      "\n",
      "сука да я сама сейчас все смотрю в 480 потому что другое и так нихуя не грузит ааа\n",
      "да(\n",
      "знаю одну знаменитость на которую кот нарыгал\n",
      "че\n",
      "о спасибо!\n",
      "будут *\n",
      "НУ ШО\n",
      "останься!!!!!1!1!1\n",
      "оруУ\n",
      "прости((\n",
      "а ну лан во они тупые бесят\n",
      "Та ну не оч\n",
      "Блин ну а че\n",
      "ой та грустинка напала такая((\n",
      "во всем нужно искать компромисс!\n",
      "\n",
      "******** EXAMPLE MESSAGES OF USER 80 *********\n",
      "\n",
      "Добрый вечер! Укажите, пожалуйста, точный адрес (нас. пункт, улицу, номер дома), в чем именно заключается сложность. Проверим.\n",
      "коллеги, обратите внимание.\n",
      "Добрый день. Уточните, пожалуйста, по какой причине у Вас сложилось такое мнение?\n",
      "\"МегаФон-Банк\".В ближайшее время ситуация будет исправлена! Приношу свои извинения от лица Компании за доставленные неудобства!\n",
      "Проверьте, пожалуйста,\n",
      "Коллеги, просьба проверить.\n",
      ", приносим извинения за доставленные неудобства.Коллеги , просьба обратить внимание.\n",
      ". Вы можете отправить нам письмо на эл.почту servicemoscow , проверим информацию.\n",
      "коллеги обратите внимание.\n",
      "связи. Ответственные специалисты делают всё возможное, чтобы ситуация была нормализована в самые кратчайшие сроки. От лица =&gt;\n",
      "У вызывающего абонента есть 2 секунды, чтобы прервать соединение, тогда этот вызов на голосовую почту будет =&gt;\n",
      "если у Вас будут возникать сложности при использовании услуг, Вы всегда можете обратиться к нашим коллегам ,=&gt;\n",
      "напишите, пожалуйста, Ваш точный адрес (город, улица, дом), проверю работу оборудования сети.\n",
      "коллеги, проверьте, пожалуйста.\n",
      ", коллеги, , обратите внимание.\n",
      "\n"
     ]
    }
   ],
   "source": [
    "print_users_msgs([11, 13, 24, 71, 74, 79, 80])"
   ]
  },
  {
   "cell_type": "code",
   "execution_count": 6,
   "metadata": {},
   "outputs": [
    {
     "data": {
      "text/plain": [
       "0.075346462"
      ]
     },
     "execution_count": 6,
     "metadata": {},
     "output_type": "execute_result"
    }
   ],
   "source": [
    "dssm_model.similarity(13, 'та шо тебе надо')"
   ]
  },
  {
   "cell_type": "code",
   "execution_count": 21,
   "metadata": {},
   "outputs": [
    {
     "data": {
      "text/plain": [
       "0.0"
      ]
     },
     "execution_count": 21,
     "metadata": {},
     "output_type": "execute_result"
    }
   ],
   "source": [
    "dssm_model.similarity(80, 'шо тебе надо')"
   ]
  },
  {
   "cell_type": "code",
   "execution_count": 17,
   "metadata": {
    "collapsed": true
   },
   "outputs": [],
   "source": [
    "def find_most_similar(uid):\n",
    "    u2msgs = uid2msgs.iteritems()\n",
    "    id_msg_score = []\n",
    "    for id_, msgs in tqdm(u2msgs):\n",
    "        for msg in msgs:\n",
    "            score = dssm_model.similarity(uid, msg)\n",
    "            id_msg_score.append((id_, msg, score))\n",
    "    return sorted(id_msg_score, key=lambda x: x[2], reverse=True)"
   ]
  },
  {
   "cell_type": "code",
   "execution_count": null,
   "metadata": {
    "scrolled": true
   },
   "outputs": [
    {
     "name": "stderr",
     "output_type": "stream",
     "text": [
      "1000it [47:39,  2.26s/it]\n"
     ]
    }
   ],
   "source": [
    "id_msg_score = find_most_similar(79)"
   ]
  },
  {
   "cell_type": "code",
   "execution_count": 22,
   "metadata": {},
   "outputs": [
    {
     "name": "stderr",
     "output_type": "stream",
     "text": [
      "1000it [50:03,  2.22s/it]\n"
     ]
    }
   ],
   "source": [
    "id_msg_score2 = find_most_similar(80)"
   ]
  },
  {
   "cell_type": "code",
   "execution_count": 16,
   "metadata": {
    "scrolled": false
   },
   "outputs": [
    {
     "name": "stdout",
     "output_type": "stream",
     "text": [
      "12\t1.00\tаа жаль\n",
      "974\t1.00\tэмммм круто наверное\n",
      "736\t1.00\tАА СОРЯН\n",
      "443\t1.00\tбазару нет\n",
      "79\t1.00\tблин класс\n",
      "37\t1.00\tхз че это\n",
      "141\t1.00\tскучна\n",
      "917\t1.00\tнет у нас завтра пары поставили\n",
      "431\t1.00\tаааааа ясн\n",
      "501\t1.00\t19 р было в дикси\n",
      "256\t1.00\tнет щас секс приедет\n",
      "621\t1.00\tплавали знаем за 200\n",
      "39\t1.00\tок а ты кто\n",
      "230\t1.00\tнет зай\n",
      "772\t1.00\tЗАТКНИСЬ ПРОШУ НЕТ\n",
      "516\t1.00\tнет мне одиноко без вас\n",
      "446\t1.00\tзаткнись говно\n",
      "935\t1.00\tв моем возрасте она уже была замужем\n",
      "458\t1.00\tи про мя\n",
      "39\t1.00\tнит вы еще не готовы\n",
      "810\t1.00\tок спс\n",
      "96\t1.00\tок спс\n",
      "10\t1.00\tок спс\n",
      "659\t1.00\tок спс\n",
      "659\t1.00\tок спс\n",
      "571\t1.00\tок спс\n",
      "462\t1.00\tок спс\n",
      "959\t1.00\tхорошенький епты\n",
      "788\t1.00\tнадо организовать пункт проката\n",
      "593\t1.00\tнет моих зай Некоторые тут, а другие нет\n",
      "495\t1.00\tблин кошмар\n",
      "740\t1.00\t50 оттенков серого\n",
      "571\t1.00\tнет спс\n",
      "12\t1.00\tааа ясн\n",
      "12\t1.00\tааа ясн\n",
      "12\t1.00\tааа ясн\n",
      "571\t1.00\tсам ы лох\n",
      "615\t1.00\tблин палево\n",
      "643\t1.00\tЛиза заеб\n",
      "266\t1.00\tДА! обнял\n",
      "266\t1.00\tда! Обнял\n",
      "477\t1.00\tне обижай Киру(\n",
      "45\t1.00\t“ там слишком опасно не ходи туда”забота\n",
      "79\t1.00\tты всегда про мя забываешь\n",
      "745\t1.00\tдрочу\n",
      "284\t1.00\tвидела тебя вчера ХВАТИТ ВРАТЬ\n",
      "435\t1.00\tне ссы ментам не сдам\n",
      "847\t1.00\tспс крошка\n",
      "733\t1.00\tсрочно гриль купи\n",
      "489\t1.00\tне хоти\n",
      "266\t1.00\tбратан не понял ваще\n",
      "230\t1.00\tхаха ебанько она значит\n",
      "663\t1.00\tне пугай мя\n",
      "663\t1.00\tОХУЕЛИ МРАЗИ\n",
      "37\t1.00\t“ мудак мудака видит издалека” все так\n",
      "63\t1.00\tго набери плз\n",
      "810\t1.00\tмоя бабка тож\n",
      "978\t1.00\tты же сам не хочешь знать в ближайшие 18 лет\n",
      "999\t1.00\tя не дрочу\n",
      "955\t1.00\tреал трансхаер:со спины на жопу\n",
      "953\t1.00\tнаглый он\n",
      "589\t1.00\tудали это\n",
      "908\t1.00\tого ты что из беларуси\n",
      "213\t1.00\tв ватсап\n",
      "176\t1.00\tес ес\n",
      "141\t1.00\tваря\n",
      "169\t1.00\tприезжай ко мне помыть посуду\n",
      "741\t1.00\tи йа\n",
      "741\t1.00\tи йа\n",
      "511\t1.00\tи йа\n",
      "527\t1.00\tна час игин наверное\n",
      "2\t1.00\tЗахар ты пи да рас\n",
      "105\t1.00\tфоточку плес\n",
      "999\t1.00\tпозавчера в своих босаножках я в клубе прыгала\n",
      "215\t1.00\tа у меня завтра нет самостоятельной\n",
      "382\t1.00\tне надо зависти Василий\n",
      "284\t1.00\tблин супер\n",
      "718\t1.00\tГУФ\n",
      "207\t1.00\tДР скоро\n",
      "39\t1.00\tстатус гомо\n",
      "17\t1.00\tмой год рождения\n",
      "255\t1.00\tне оч люблю пивас\n",
      "619\t1.00\tой такая же хуйня\n",
      "935\t1.00\tнно, провал провальный\n",
      "79\t1.00\tне слушай ее я саша\n",
      "63\t1.00\tкласс добился нытик\n",
      "159\t1.00\tну ты меня с этим алкашом не сравнивай\n",
      "772\t1.00\tпокеда райт\n",
      "718\t1.00\tда я чмо и не посмотрела\n",
      "489\t1.00\tЙА УВИДЕЛ\n",
      "79\t1.00\tи мя\n",
      "562\t1.00\tрешается кто вылетит\n",
      "209\t1.00\tч не говорю глупости\n",
      "704\t1.00\tкрасава Победителей не судят че\n",
      "908\t1.00\tя в июне сменю\n",
      "599\t0.99\tо р у\n",
      "337\t0.99\tо р у\n",
      "514\t0.99\tо р у\n",
      "692\t0.99\tО Р У\n",
      "25\t0.99\tУХОДИ\n",
      "213\t0.99\tуходи\n",
      "564\t0.99\tуходи\n",
      "903\t0.99\tПИЗДЕЦ ТЫ ЧТО ЕЩЕ НЕ В ТЕМЕ!? ЩА ПОКАЖУ\n",
      "959\t0.99\tваще намана\n",
      "847\t0.99\tвот так смотреть и спускаться с небес на землю а что поделаешь\n",
      "556\t0.99\tда тож сча пойду\n",
      "810\t0.99\tН Е Н А В И Ж У\n",
      "475\t0.99\tблджад а я заново прохожу\n",
      "45\t0.99\tмы тусим тусим тусим\n",
      "571\t0.99\tха лох\n",
      "571\t0.99\tха лох\n",
      "974\t0.99\tпфффф Норм\n",
      "716\t0.99\tсобираюсь утопить его в кофе\n",
      "871\t0.99\tче в гости не хочешь,сучара\n",
      "891\t0.99\tпопроси из громкоговорителя включить\n",
      "888\t0.99\tчьи-то мозги\n",
      "213\t0.99\t21:30 или 21:35\n",
      "959\t0.99\tПОХуй моя\n",
      "602\t0.99\tхуй ты\n",
      "602\t0.99\tхуй ты\n",
      "602\t0.99\tхуй ты\n",
      "602\t0.99\tхуй ты\n",
      "602\t0.99\tхуй ты\n",
      "709\t0.99\tмой ник знаешь\n",
      "91\t0.99\tувидела\n",
      "590\t0.99\tблять я сюда переехал\n",
      "642\t0.99\tго бухать\n",
      "589\t0.99\tго бухать\n",
      "45\t0.99\tудачки\n",
      "998\t0.99\tудачки\n",
      "875\t0.99\tладно ша\n",
      "908\t0.99\tты супер телка похожа на бомжа из моего подъезда я б с тобой потрахался\n",
      "52\t0.99\tмне нет дел до посторонних\n",
      "449\t0.99\tЬЫ НЕ ХОЧЕШЬ ИГРАТЬ СО МНОЙ\n",
      "756\t0.99\tлесби это только девочки, а би это и мальчики и девочки нравятся\n",
      "25\t0.99\tНЕТ Я ЖРУ\n",
      "45\t0.99\tПозвонишь\n",
      "63\t0.99\tпозвонишь\n",
      "571\t0.99\tче не веришь\n",
      "621\t0.99\tче сладкая чтоли\n",
      "911\t0.99\tаватара много в жизни не бывает\n",
      "621\t0.99\tо ты на трассе\n",
      "209\t0.99\tпритягиваю к себе и целую твои глазки\n",
      "772\t0.99\tдавайте поможем даше найти кровать\n",
      "833\t0.99\tс НГ тя ЗАЙКА\n",
      "255\t0.99\tнет нихуя\n",
      "39\t0.99\tты думаешь ты шутишь сейчас ТЫ ДУМАЕШЬ ТЫ ШУТИШЬ\n",
      "794\t0.99\tвсе хорошо катюш\n",
      "994\t0.99\tполучается я на одного человека так хуй кладу\n",
      "217\t0.99\tсамокритика еще никому не помешала\n",
      "741\t0.99\tути наивная\n",
      "435\t0.99\tпикча потерялась\n",
      "239\t0.99\tя вещи не порчу\n",
      "840\t0.99\tБыстро ты однако\n",
      "593\t0.99\tу мя там ничего нет\n",
      "620\t0.99\tРядом живу Чо та долго едут\n",
      "709\t0.99\tдурная ?\n",
      "810\t0.99\tаа((\n",
      "20\t0.99\tой не надо пиздеть только\n",
      "75\t0.99\tтож думала\n",
      "999\t0.99\tя ебнулся\n",
      "45\t0.99\tты че сука злой такой\n",
      "2\t0.99\tзаткнись дура\n",
      "847\t0.99\tу нас за 200 баксов как говорила моя няня обезьяна жопу не покажет\n",
      "25\t0.99\tела\n",
      "79\t0.99\tПолночь в Париже\n",
      "72\t0.99\tда поебать\n",
      "589\t0.99\tВЕРЬ КОМУ ХОЧЕШЬ\n",
      "898\t0.99\tдак блин\n",
      "277\t0.99\tзапутал меня отстань\n",
      "615\t0.99\tв ИЮЛЕ\n",
      "883\t0.99\tв июле\n",
      "990\t0.99\tона тоже красотка\n",
      "79\t0.99\tsuper ставлю класс\n",
      "745\t0.99\tты моя мудрая девочка\n",
      "111\t0.99\tзаткнись и слушай когда старшие говорят\n",
      "495\t0.99\tты ещё дебют твайс в сентябре ждала\n",
      "37\t0.99\tама дёрти бич\n",
      "571\t0.99\tзабей в поиске\n",
      "495\t0.99\tили приеду в LA и отпизжу\n",
      "820\t0.99\tда а Че нет что ли\n",
      "948\t0.99\tне прибедняйся\n",
      "571\t0.99\tу мя есть\n",
      "953\t0.99\tна мед сестру\n",
      "246\t0.99\tВан Ден Хугенбанд засмеялся\n",
      "875\t0.99\tче где\n",
      "674\t0.99\tмое жизненное кредо\n",
      "63\t0.99\tаа аккуратнее\n",
      "249\t0.99\tо нём я писала в соседнем твите про коррупцию\n",
      "635\t0.99\tБольшое спасибо =D\n",
      "635\t0.99\tБольшое спасибо =D\n",
      "277\t0.99\tоч хорошо\n",
      "31\t0.99\tоч хорошо\n",
      "1\t0.99\tоч хорошо\n",
      "45\t0.99\tтвою я бы еще лет 10 не видела\n",
      "102\t0.99\tты не о том думаешь\n",
      "631\t0.99\tарр\n",
      "489\t0.99\tарр\n",
      "489\t0.99\tарр\n",
      "255\t0.99\tвообще нзч\n"
     ]
    }
   ],
   "source": [
    "for id_, msg, score in id_msg_score[:200]:\n",
    "    print \"{}\\t{:.2f}\\t{}\".format(id_, score, msg)"
   ]
  },
  {
   "cell_type": "markdown",
   "metadata": {},
   "source": [
    "## Prepare data for DSSM training"
   ]
  },
  {
   "cell_type": "code",
   "execution_count": 25,
   "metadata": {},
   "outputs": [
    {
     "name": "stderr",
     "output_type": "stream",
     "text": [
      "10329968it [02:46, 62117.55it/s]\n"
     ]
    }
   ],
   "source": [
    "with codecs.open('../twitter_data/yt_twitter_chains_3', encoding='utf8') as fin, codecs.open('../twitter_data/dssm_data_selected_users', 'w', encoding='utf8') as fout:\n",
    "    fin.readline() # read \"value\" line\n",
    "    for line in tqdm(fin):\n",
    "        msgs = line.strip().split('\\\\t')\n",
    "        last_msg = msgs[-1]\n",
    "        uid = last_msg.split()[0]\n",
    "        msg = ' '.join(last_msg.split()[1:])\n",
    "        if uid in selected_uids:\n",
    "            fout.write(\"{}\\t{}\\n\".format(selected_uids[uid], msg))"
   ]
  },
  {
   "cell_type": "markdown",
   "metadata": {},
   "source": [
    "## Prepare data for finetuning on user `24203097`"
   ]
  },
  {
   "cell_type": "code",
   "execution_count": 9,
   "metadata": {
    "collapsed": true
   },
   "outputs": [],
   "source": [
    "def strip_uids(chain):\n",
    "    \"\"\"chain: \"123 привет\\t321 приветики!\\t123 как делищи?\"\n",
    "    \"\"\"\n",
    "    msgs = chain.strip().split('\\\\t')\n",
    "    msgs = [' '.join(msg.split()[1:]) for msg in msgs]\n",
    "    return '\\\\t'.join(msgs)"
   ]
  },
  {
   "cell_type": "code",
   "execution_count": 45,
   "metadata": {},
   "outputs": [
    {
     "name": "stderr",
     "output_type": "stream",
     "text": [
      "10329968it [02:57, 58358.47it/s]\n"
     ]
    }
   ],
   "source": [
    "UID = '24203097'\n",
    "with codecs.open('../twitter_data/yt_twitter_chains_3', encoding='utf8') as fin, codecs.open('../twitter_data/user_{}_chains'.format(UID), 'w', encoding='utf8') as fout:\n",
    "    fin.readline() # read \"value\" line\n",
    "    for line in tqdm(fin):\n",
    "        msgs = line.strip().split('\\\\t')\n",
    "        last_msg = msgs[-1]\n",
    "        uid = last_msg.split()[0]\n",
    "        msg = ' '.join(last_msg.split()[1:])\n",
    "        if uid == UID:\n",
    "            fout.write(strip_uids(line)+'\\n')"
   ]
  },
  {
   "cell_type": "markdown",
   "metadata": {},
   "source": [
    "## Prepare data for finetuning on all users using dssm score"
   ]
  },
  {
   "cell_type": "code",
   "execution_count": 46,
   "metadata": {},
   "outputs": [
    {
     "name": "stderr",
     "output_type": "stream",
     "text": [
      "10329968it [04:21, 39460.93it/s]\n"
     ]
    }
   ],
   "source": [
    "with codecs.open('../twitter_data/yt_twitter_chains_3', encoding='utf8') as fin, codecs.open('../twitter_data/selected_user_chains', 'w', encoding='utf8') as fout:\n",
    "    fin.readline() # read \"value\" line\n",
    "    for line in tqdm(fin):\n",
    "        uid = line.strip().split('\\\\t')[-1].split()[0]\n",
    "        msg = strip_uids(line)\n",
    "        if uid in selected_uids:\n",
    "            fout.write(u\"{}\\t{}\\n\".format(selected_uids[uid], msg))"
   ]
  },
  {
   "cell_type": "code",
   "execution_count": null,
   "metadata": {
    "collapsed": true
   },
   "outputs": [],
   "source": [
    "counter.most_common(1)"
   ]
  },
  {
   "cell_type": "code",
   "execution_count": 41,
   "metadata": {},
   "outputs": [
    {
     "data": {
      "text/plain": [
       "788178"
      ]
     },
     "execution_count": 41,
     "metadata": {},
     "output_type": "execute_result"
    }
   ],
   "source": [
    "len(selected_chains)"
   ]
  }
 ],
 "metadata": {
  "kernelspec": {
   "display_name": "Python [default]",
   "language": "python",
   "name": "python2"
  },
  "language_info": {
   "codemirror_mode": {
    "name": "ipython",
    "version": 2
   },
   "file_extension": ".py",
   "mimetype": "text/x-python",
   "name": "python",
   "nbconvert_exporter": "python",
   "pygments_lexer": "ipython2",
   "version": "2.7.13"
  }
 },
 "nbformat": 4,
 "nbformat_minor": 2
}
