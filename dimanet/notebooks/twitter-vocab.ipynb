{
 "cells": [
  {
   "cell_type": "code",
   "execution_count": 11,
   "metadata": {
    "collapsed": true
   },
   "outputs": [],
   "source": [
    "from __future__ import unicode_literals\n",
    "\n",
    "import codecs\n",
    "import json\n",
    "import re\n",
    "import string\n",
    "\n",
    "from collections import Counter"
   ]
  },
  {
   "cell_type": "code",
   "execution_count": 12,
   "metadata": {
    "collapsed": true
   },
   "outputs": [],
   "source": [
    "fin = codecs.open('../twitter_data/twitter_normed_dialogues', encoding='utf8')"
   ]
  },
  {
   "cell_type": "code",
   "execution_count": 13,
   "metadata": {
    "collapsed": true
   },
   "outputs": [],
   "source": [
    "def build_vocab(fin):\n",
    "    counter = Counter()\n",
    "    for lineno, line in enumerate(fin):\n",
    "        if lineno % 100000 == 0:\n",
    "            print \"Line %d\\tVocab size: %d\" % (lineno, len(counter))\n",
    "        line = line.strip()\n",
    "        _, msgs = line.split('\\t\\t')\n",
    "        msgs = json.loads(msgs)\n",
    "        tokens = ' '.join(msgs).split()\n",
    "        counter.update(tokens)\n",
    "    return counter"
   ]
  },
  {
   "cell_type": "code",
   "execution_count": null,
   "metadata": {
    "collapsed": true,
    "scrolled": true
   },
   "outputs": [],
   "source": [
    "vocab = build_vocab(fin)"
   ]
  },
  {
   "cell_type": "code",
   "execution_count": 19,
   "metadata": {
    "collapsed": true
   },
   "outputs": [],
   "source": [
    "vocab = vocab.most_common(50000)"
   ]
  },
  {
   "cell_type": "code",
   "execution_count": 20,
   "metadata": {
    "collapsed": true
   },
   "outputs": [],
   "source": [
    "def save_vocab(vocab, fname):\n",
    "    with codecs.open(fname, 'w', encoding='utf8') as fout:\n",
    "        for tok, freq in vocab:\n",
    "            fout.write(tok+'\\n')"
   ]
  },
  {
   "cell_type": "code",
   "execution_count": 21,
   "metadata": {
    "collapsed": true
   },
   "outputs": [],
   "source": [
    "save_vocab(vocab, '../twitter_data/tokens.txt')"
   ]
  },
  {
   "cell_type": "code",
   "execution_count": 1,
   "metadata": {
    "collapsed": true
   },
   "outputs": [],
   "source": [
    "import sys\n",
    "\n",
    "sys.path.insert(0, '../')"
   ]
  },
  {
   "cell_type": "code",
   "execution_count": 2,
   "metadata": {
    "collapsed": true
   },
   "outputs": [],
   "source": [
    "from mymodule.base_stuff import Vocab\n",
    "from mymodule.twitter_stuff import iterate_minibatches_twitter"
   ]
  },
  {
   "cell_type": "code",
   "execution_count": 3,
   "metadata": {},
   "outputs": [
    {
     "name": "stdout",
     "output_type": "stream",
     "text": [
      "спробуй до розтвору добавити піщевого або любого іншого красітіля і всьо:::1:::пасябос . сейчас может заленки попробую капнуть . и такого красителя . \n",
      "в ленте один футбол:::1:::а у меня одни статусы ) \n",
      "кстати , кто-то смотрел хоббита с частотой 48 кадров/с ? как вам ? и если в мск , то в каком кинотеатре ? :::1:::я , качество збс , но сам фильм мне не понравился . \n",
      "по случаю рождества в округе вечером не работают вообще никакие магазины . придется обойтись \"мивиной\" .  ... местная разливуха ? ) ) с рождеством ! ) ) :::2:::вполне можно совместить , чо трезвым по городу болтаться в праздник ! ? ) ) ) \n",
      "местная разливуха ? ) ) с рождеством ! ) )  ... \"мивина\" - це украинский бомжпакет а-ля \"доширак\" . а местная разливуха - \"львiвска горiлка\" ! :::2:::горiлка з \"мивiной\" - це не гарно . вiрно - горiлка з салом ! \n",
      "классно шаманишь в этом блоге ) извини , что не доверила свой нетбук профессионалу . я не знала что ты шаришь . в среду отдам , можно ? :::1:::нет проблем ; ) \n",
      "открыл вывод кэша с paypal , теперь можно банчить на ebay и еще много чего ! хорошее начало года , ящетаю . :::1:::каким образом ? \n",
      "ахаха ну ты хоть одного чурку видел на лыжах или теа более доске ? или одного негра райдерв !  ... почему тем более ? :::2:::чо ? \n",
      "почему тем более ?  ... потому что баж на лыжах нп видел:::2:::ахаха ) ) ) это писал спящий я . ) ) ) хз че за хрень\n",
      "заумные мысли такие . корчит из себя хрен знает кого . фе:::1:::чего ? ? мне просто нравятся эти фразы . поднимают силу духа\n"
     ]
    }
   ],
   "source": [
    "vocab = Vocab.read_from_file('../twitter_data/tokens.txt')\n",
    "it = iterate_minibatches_twitter('../twitter_data/twitter_normed_1k', vocab, 5)"
   ]
  },
  {
   "cell_type": "code",
   "execution_count": 4,
   "metadata": {},
   "outputs": [
    {
     "name": "stdout",
     "output_type": "stream",
     "text": [
      "счас будем гадать: ) подскажите кто как обычно это делает ? : ) :::1:::да уж . зашибись погадали\n",
      "да ладно , он в общем-то и не сомнительный ) ) :::1:::ты допрыгаешься . я тебя потащу с собой . вероятно , ты умрешь от скуки еще до антракта , но это уже не моя проблема . ) \n",
      "какой у меня замечательный мужчина ! ) пока я спала , покормил дома весь наш зоопарк . проснулась , чай принес ) ) :::1:::везет тебе ) ! \n",
      "уже второе отделение , а рожд . встречи так и не раскачались . нет того рождественского настроения , чуда , если хотите . фанерно . бездушно . :::1:::пора бы устраивать свои рождественские встречи ) ) ) \n",
      "ретвитни если у тебя есть человек , по которому ты сходишь с ума . :::1:::и этот человек рома желудь ) \n"
     ]
    }
   ],
   "source": [
    "bc, ba = next(it)"
   ]
  },
  {
   "cell_type": "code",
   "execution_count": 5,
   "metadata": {},
   "outputs": [
    {
     "data": {
      "text/plain": [
       "(5, 28)"
      ]
     },
     "execution_count": 5,
     "metadata": {},
     "output_type": "execute_result"
    }
   ],
   "source": [
    "bc.shape"
   ]
  },
  {
   "cell_type": "code",
   "execution_count": 11,
   "metadata": {},
   "outputs": [
    {
     "data": {
      "text/plain": [
       "array([   31, 13691, 19341,     8, 23932,   564,     4,  1717,    58,\n",
       "        6252,  6357,     1,   816, 10673, 50002,     1, 50004, 17448,\n",
       "       50002,     3,     2,     2,    14,  2438,     6,     2,     2, 50004], dtype=int32)"
      ]
     },
     "execution_count": 11,
     "metadata": {},
     "output_type": "execute_result"
    }
   ],
   "source": [
    "bc[3]"
   ]
  },
  {
   "cell_type": "code",
   "execution_count": 6,
   "metadata": {},
   "outputs": [
    {
     "data": {
      "text/plain": [
       "(5, 17)"
      ]
     },
     "execution_count": 6,
     "metadata": {},
     "output_type": "execute_result"
    }
   ],
   "source": [
    "ba.shape"
   ]
  },
  {
   "cell_type": "code",
   "execution_count": 9,
   "metadata": {},
   "outputs": [
    {
     "data": {
      "text/plain": [
       "array([50001, 50001, 50001,     2, 50001], dtype=int32)"
      ]
     },
     "execution_count": 9,
     "metadata": {},
     "output_type": "execute_result"
    }
   ],
   "source": [
    "ba[:, -2]"
   ]
  },
  {
   "cell_type": "code",
   "execution_count": 10,
   "metadata": {},
   "outputs": [
    {
     "data": {
      "text/plain": [
       "u')'"
      ]
     },
     "execution_count": 10,
     "metadata": {},
     "output_type": "execute_result"
    }
   ],
   "source": [
    "vocab.tokens[2]"
   ]
  },
  {
   "cell_type": "code",
   "execution_count": 16,
   "metadata": {},
   "outputs": [
    {
     "name": "stdout",
     "output_type": "stream",
     "text": [
      "Reading contexts....\n",
      "Saving train/val split...\n",
      "Done!\n"
     ]
    }
   ],
   "source": [
    "import pickle\n",
    "\n",
    "print \"Reading contexts....\"\n",
    "with open('../contexts.pkl', 'rb') as fin:\n",
    "    contexts = pickle.load(fin)\n",
    "\n",
    "train_contexts = contexts[:-10000]\n",
    "val_contexts = contexts[-10000:]\n",
    "\n",
    "print \"Saving train/val split...\"\n",
    "with open('../contexts_train.pkl', 'wb') as fout:\n",
    "    pickle.dump(train_contexts, fout)\n",
    "with open('../contexts_val.pkl', 'wb') as fout:\n",
    "    pickle.dump(val_contexts, fout)\n",
    "    \n",
    "print \"Done!\""
   ]
  },
  {
   "cell_type": "code",
   "execution_count": null,
   "metadata": {
    "collapsed": true
   },
   "outputs": [],
   "source": []
  }
 ],
 "metadata": {
  "kernelspec": {
   "display_name": "Python [default]",
   "language": "python",
   "name": "python2"
  },
  "language_info": {
   "codemirror_mode": {
    "name": "ipython",
    "version": 2
   },
   "file_extension": ".py",
   "mimetype": "text/x-python",
   "name": "python",
   "nbconvert_exporter": "python",
   "pygments_lexer": "ipython2",
   "version": "2.7.13"
  }
 },
 "nbformat": 4,
 "nbformat_minor": 2
}
