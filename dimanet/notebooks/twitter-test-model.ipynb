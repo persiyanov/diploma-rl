{
 "cells": [
  {
   "cell_type": "code",
   "execution_count": 3,
   "metadata": {
    "collapsed": true
   },
   "outputs": [],
   "source": [
    "import sys"
   ]
  },
  {
   "cell_type": "code",
   "execution_count": 4,
   "metadata": {
    "collapsed": true
   },
   "outputs": [],
   "source": [
    "sys.path.insert(0, '../')"
   ]
  },
  {
   "cell_type": "code",
   "execution_count": 9,
   "metadata": {
    "collapsed": true
   },
   "outputs": [],
   "source": [
    "from mymodule.neural.seq2seq import *\n",
    "from mymodule.base_stuff import Vocab"
   ]
  },
  {
   "cell_type": "code",
   "execution_count": 10,
   "metadata": {
    "collapsed": true
   },
   "outputs": [],
   "source": [
    "vocab_path = '../twitter_data/tokens.txt'"
   ]
  },
  {
   "cell_type": "code",
   "execution_count": 12,
   "metadata": {},
   "outputs": [
    {
     "name": "stdout",
     "output_type": "stream",
     "text": [
      "Reading vocab...\n",
      "Creating encoder...\n",
      "Creating decoder...\n",
      "Creating GenTest...\n",
      "Creating GenTrain...\n",
      "Done!!!\n"
     ]
    }
   ],
   "source": [
    "print \"Reading vocab...\"\n",
    "vocab = Vocab.read_from_file(vocab_path)\n",
    "print \"Creating encoder...\"\n",
    "enc = Enc(vocab)\n",
    "print \"Creating decoder...\"\n",
    "dec = Dec(vocab, enc)\n",
    "print \"Creating GenTest...\"\n",
    "gentest = GenTest(vocab, enc, dec)\n",
    "print \"Creating GenTrain...\"\n",
    "gentrain = GenTrain(vocab, enc, dec, gentest)\n",
    "print \"Done!!!\""
   ]
  },
  {
   "cell_type": "code",
   "execution_count": 13,
   "metadata": {
    "collapsed": true
   },
   "outputs": [],
   "source": [
    "from agentnet.utils.persistence import load, save"
   ]
  },
  {
   "cell_type": "code",
   "execution_count": 1,
   "metadata": {
    "collapsed": true
   },
   "outputs": [],
   "source": [
    "from __future__ import unicode_literals"
   ]
  },
  {
   "cell_type": "code",
   "execution_count": 15,
   "metadata": {},
   "outputs": [
    {
     "data": {
      "text/plain": [
       "<agentnet.agent.recurrence.Recurrence at 0x7fbab7604e10>"
      ]
     },
     "execution_count": 15,
     "metadata": {},
     "output_type": "execute_result"
    }
   ],
   "source": [
    "load(gentest.recurrence, '../weights/test_twitter_seq2seq.pkl')"
   ]
  },
  {
   "cell_type": "code",
   "execution_count": 43,
   "metadata": {
    "collapsed": true
   },
   "outputs": [],
   "source": [
    "save(enc.output, '../weights/test_twitter_encoder.pkl')"
   ]
  },
  {
   "cell_type": "code",
   "execution_count": 22,
   "metadata": {},
   "outputs": [
    {
     "name": "stdout",
     "output_type": "stream",
     "text": [
      "юля даша родила а тебя как\n",
      "отлично , а у тебя как ?\n",
      "хахах да ну ее _UNK_\n",
      "когда твое имя нашёл ?\n",
      "я рада что это круто\n",
      "да зачем ты мне звонишь то ?\n",
      "че ну правда _UNK_\n",
      "я нормальная , а мило\n",
      "такая же реакция , ахах\n",
      "я такая _UNK_\n"
     ]
    }
   ],
   "source": [
    "for _ in xrange(10):\n",
    "    print gentest.reply(['меня зовут дима', 'дима ты фашист!'])"
   ]
  },
  {
   "cell_type": "code",
   "execution_count": 1,
   "metadata": {
    "scrolled": true
   },
   "outputs": [
    {
     "name": "stderr",
     "output_type": "stream",
     "text": [
      "646424it [00:10, 66359.95it/s]"
     ]
    },
    {
     "name": "stdout",
     "output_type": "stream",
     "text": [
      "fuck [u'44718469 OS X -\\u043e\\u0432\\u043e\\u0434\\u0430\\u043c (\\u044f\\u043a Linux-\\u043e\\u0432\\u043e\\u0434\\u0430\\u043c): export PS1=\"\\\\\\\\u \\\\\\\\w$ \" \\u0443 \\u043a\\u043e\\u043d\\u0441\\u043e\\u043b\\u0456, \\u0456 \\u0436\\u0438\\u0442\\u0438 \\u0441\\u0442\\u0430\\u043d\\u0435 \\u0437\\u0440\\u0443\\u0447\\u043d\\u0456\\u0448\\u0435 :) \\u0425\\u0442\\u043e \\u0441\\u0430\\u043c \\u0456 \\u0437 \\u043e\\u0434\\u043d\\u0438\\u043c \\u043a\\u043e\\u043c\\u043f\\u043e\\u043c export PS1=\"\\\\', u' \\\\\\\\d \\\\\\\\w$ \"', u'93422140 \\u0456 \\u0449\\u043e \\u0441\\u0442\\u0430\\u043d\\u0435\\u0442\\u044c\\u0441\\u044f?', u'44718469 \\u0437\\u043c\\u0456\\u043d\\u0438\\u0442\\u044c\\u0441\\u044f \\u0437\\u043e\\u0432\\u043d\\u0456\\u0448\\u043d\\u0456\\u0439 \\u0432\\u0438\\u0433\\u043b\\u044f\\u0434 prompt \\u043d\\u0430 \\u0437\\u0440\\u0443\\u0447\\u043d\\u0456\\u0448\\u0438\\u0439. \\u041d\\u0456\\u0447\\u043e\\u0433\\u043e \\u0441\\u0442\\u0440\\u0430\\u0448\\u043d\\u043e\\u0433\\u043e \\u043d\\u0435 \\u0441\\u0442\\u0430\\u043d\\u0435\\u0442\\u044c\\u0441\\u044f, \\u0441\\u043c\\u0456\\u043b\\u0438\\u0432\\u043e \\u043f\\u0440\\u043e\\u0431\\u0443\\u0439\\u0442\\u0435!']\n"
     ]
    },
    {
     "name": "stderr",
     "output_type": "stream",
     "text": [
      "1999937it [00:30, 71911.96it/s]"
     ]
    },
    {
     "name": "stdout",
     "output_type": "stream",
     "text": [
      "fuck [u'137639088 \\u0410 \\u043a\\u0430\\u043a \\u0432 ps \\u0432\\u0437\\u044f\\u0442\\u044c \\u0441\\u043f\\u0438\\u0441\\u043e\\u043a \\u0441\\u0442\\u0440\\u043e\\u043a \\u0438\\u0437 \\u0444\\u0430\\u0439\\u043b\\u0430 \\u0438 \\u043f\\u043e\\u0438\\u0441\\u043a\\u0430\\u0442\\u044c \\u0434\\u0438\\u0440\\u0435\\u043a\\u0442\\u043e\\u0440\\u0438\\u0438, \\u0441\\u043e\\u043e\\u0442\\u0432\\u0435\\u0442\\u0441\\u0442\\u0432\\u0443\\u044e\\u0449\\u0438\\u0435 \\u043d\\u0430\\u0437\\u0432\\u0430\\u043d\\u0438\\u044f\\u043c \\u044d\\u0442\\u0438\\u0445 \\u0441\\u0442\\u0440\\u043e\\u043a? \\u043d\\u0435 \\u043c\\u043e\\u0433\\u0443 \\u043f\\u0440\\u0438\\u0434\\u0443\\u043c\\u0430\\u0442\\u044c/\\u0441\\u0433\\u0443\\u0433\\u043b\\u0438\\u0442\\u044c', u'36925111 \\u0422\\u0435\\u0431\\u0435 \\u0434\\u043e\\u043b\\u0436\\u043d\\u043e \\u0431\\u044b\\u0442\\u044c \\u0441\\u0442\\u044b\\u0434\\u043d\\u043e. \\u041e\\u0434\\u043d\\u043e\\u0439 \\u0441\\u0442\\u0440\\u043e\\u043a\\u043e\\u0439: Get-Content D:\\\\', u'est.txt | foreach {\"$_ -&gt; $(Test-Path $_)\"}', u'137639088 \\u043c\\u043d\\u0435 \\u043e\\u0447\\u0435\\u043d\\u044c \\u0441\\u0442\\u044b\\u0434\\u043d\\u043e, \\u043d\\u043e \\u044f \\u043f\\u043e\\u0441\\u043b\\u0435\\u0434\\u043d\\u0438\\u0435 \\u043d\\u0435\\u0434\\u0435\\u043b\\u0438 \\u043e\\u0447\\u0435\\u043d\\u044c \\u0437\\u0430\\u0451\\u0431\\u0430\\u043d \\u0438 \\u0441\\u043e\\u0432\\u0441\\u0435\\u043c \\u043f\\u043b\\u043e\\u0445\\u043e \\u0434\\u0443\\u043c\\u0430\\u044e( \\u0441\\u043f\\u0430\\u0441\\u0438\\u0431\\u043e!']\n"
     ]
    },
    {
     "name": "stderr",
     "output_type": "stream",
     "text": [
      "2805649it [00:41, 74377.80it/s]"
     ]
    },
    {
     "name": "stdout",
     "output_type": "stream",
     "text": [
      "fuck [u'95617293 \\u0430 \\u0442\\u044b \\u043d\\u0435 \\u0434\\u0443\\u043c\\u0430\\u043b \\u0432 \\u0441\\u0432\\u043e\\u0439 \\u043f\\u043b\\u0430\\u0433\\u0438\\u043d \\u0434\\u043e\\u0431\\u0430\\u0432\\u0438\\u0442\\u044c \\u0444\\u0443\\u043d\\u043a\\u0446\\u0438\\u043e\\u043d\\u0430\\u043b \\u043f\\u043b\\u0435\\u0439\\u0441\\u0445\\u043e\\u043b\\u0434\\u0435\\u0440\\u0430 \\u0434\\u043b\\u044f input\\\\', u'extarea? \\u0414\\u043b\\u044f IE&lt;10 \\u043f\\u0440\\u043e\\u0431\\u043b\\u0435\\u043c\\u0430 \\u0432\\u0435\\u0434\\u044c \\u0430\\u043a\\u0442\\u0443\\u0430\\u043b\\u044c\\u043d\\u0430.', u'20397778 \\u043f\\u043b\\u0430\\u0433\\u0438\\u043d \\u043f\\u0440\\u0435\\u0434\\u043d\\u0430\\u0437\\u043d\\u0430\\u0447\\u0435\\u043d \\u0434\\u043b\\u044f \\u0441\\u0442\\u0438\\u043b\\u0438\\u0437\\u0430\\u0446\\u0438\\u0438, \\u0430 \\u043f\\u043b\\u0435\\u0439\\u0441\\u0445\\u043e\\u043b\\u0434\\u0435\\u0440\\u044b - \\u044d\\u0442\\u043e \\u043d\\u0435 \\u0441\\u0442\\u0438\\u043b\\u0438\\u0437\\u0430\\u0446\\u0438\\u044f.', u'95617293 \\u043d\\u043e \\u044d\\u0442\\u043e \\u0431\\u044b\\u043b\\u043e \\u0431\\u044b \\u043f\\u043e\\u043b\\u0435\\u0437\\u043d\\u043e. \\u041f\\u043e\\u0434\\u043a\\u043b\\u044e\\u0447\\u0438\\u043b \\u043f\\u043b\\u0430\\u0433\\u0438\\u043d \\u0438 \\u0432\\u0441\\u0435 \\u0432 \\u043a\\u043e\\u043c\\u043f\\u043b\\u0435\\u043a\\u0442\\u0435. \\u041a\\u0440\\u043e\\u043c\\u0435 \\u0442\\u043e\\u0433\\u043e, \\u043f\\u043b\\u0435\\u0439\\u0441\\u0445\\u043e\\u043b\\u0434\\u0435\\u0440 \\u0442\\u043e\\u0436\\u0435 \\u043c\\u043e\\u0436\\u043d\\u043e \\u0441\\u0442\\u0438\\u043b\\u0438\\u0437\\u043e\\u0432\\u0430\\u0442\\u044c.']\n"
     ]
    },
    {
     "name": "stderr",
     "output_type": "stream",
     "text": [
      "4912126it [01:10, 65818.06it/s]"
     ]
    },
    {
     "name": "stdout",
     "output_type": "stream",
     "text": [
      "fuck [u'17212410 challenge twelve \\u0435\\u0449\\u0435 \\u043d\\u0435\\u043f\\u043b\\u043e\\u0445\\u043e\\u0439. \\u041f\\u043e\\u043f\\u0440\\u043e\\u0431\\u0443\\u0439, \\u0435\\u0441\\u043b\\u0438 \\u043d\\u0435 \\u0440\\u0435\\u0448\\u0430\\u043b ;)', u'20413564 \\u043f\\u043e\\u0447\\u0435\\u043c\\u0443 /[ \\\\', u']+/ \\u043d\\u0435 \\u043f\\u0440\\u043e\\u0445\\u043e\\u0434\\u0438\\u0442 \\u0442\\u0440\\u0435\\u0442\\u0438\\u0439 \\u0442\\u0435\\u0441\\u0442? \\u0420\\u0435\\u043f\\u043b\\u0435\\u0439\\u0441 \\u0442\\u0438\\u043f\\u0430 \\u043e\\u0434\\u0438\\u043d \\u0440\\u0430\\u0437 \\u0437\\u0430\\u043f\\u0443\\u0441\\u043a\\u0430\\u0435\\u0442\\u0441\\u044f \\u0434\\u043b\\u044f \\u0441\\u0442\\u0440\\u043e\\u043a\\u0438? (\\u043d\\u0430 \\u043f\\u0435\\u0440\\u0432\\u043e\\u0435 \\u0441\\u043e\\u0432\\u043f\\u0430\\u0434\\u0435\\u043d\\u0438\\u0435)', u'17212410 \\\\\\\\s \\u044e\\u0437\\u0430\\u0439, \\u043e\\u043d \\u043c\\u0430\\u0442\\u0447\\u0430\\u043c\\u0438 \\u0432\\u0441\\u0435 \\u043f\\u0440\\u043e\\u0431\\u0435\\u043b\\u044c\\u043d\\u044b\\u0435 \\u0441\\u0438\\u043c\\u0432\\u043e\\u043b\\u044b.']\n"
     ]
    },
    {
     "name": "stderr",
     "output_type": "stream",
     "text": [
      "5666834it [01:20, 74785.38it/s]"
     ]
    },
    {
     "name": "stdout",
     "output_type": "stream",
     "text": [
      "fuck [u'10618282 \\u0427\\u0430\\u043c\\u0443 Total Commander \\u0414\\u0410\\u0413\\u042d\\u0422\\u0423\\u041b\\u042c \\u043f\\u0430 \\u045e\\u0437\\u043c\\u043e\\u045e\\u0447\\u0430\\u043d\\u044c\\u043d\\u0456 \\u0445\\u043e\\u0447\\u0430 \\u0456\\u043d\\u0441\\u0442\\u0430\\u043b\\u044f\\u0432\\u0430\\u0446\\u0446\\u0430 \\u045e c:\\\\', u'otalcmd? \\u0423 \\u0441\\u044c\\u0432\\u0435\\u0446\\u0435 \\u0431\\u0430\\u0440\\u0430\\u0434\\u0430\\u0442\\u044b\\u044f 90-\\u044b\\u044f \\u0437 \\u0434\\u043e\\u0441\\u0430\\u043c? \\u0413\\u0435\\u043d\\u0435\\u0440\\u0430\\u0442\\u0430\\u0440 \\u0441\\u044c\\u043c\\u0435\\u0446\\u044c\\u0446\\u044f!', u'102970490 \\u043e\\u043d \\u043d\\u0430 \\u0414\\u0415\\u041b\\u042c\\u0424\\u0418 \\u043d\\u0430\\u043f\\u0438\\u0441\\u0430\\u043d, \\u0447\\u0442\\u043e \\u0442\\u044b \\u0445\\u043e\\u0447\\u0435\\u0448\\u044c \\u043e\\u0442 \\u043f\\u0440\\u043e\\u0433\\u0440\\u0430\\u043c\\u044b, \\u043d\\u0430\\u043f\\u0438\\u0441\\u0430\\u043d\\u043d\\u043e\\u0439 \\u043d\\u0430 \\u0414\\u0415\\u041b\\u042c\\u0424\\u0418? \\u0422\\u044b \\u0434\\u0430\\u0432\\u0430\\u0439 \\u0435\\u0449\\u0451 \\u042e\\u041d\\u0418\\u041a\\u041e\\u0414 \\u0432 \\u043f\\u0443\\u0442\\u044f\\u0445 \\u0444\\u0430\\u0439\\u043b\\u043e\\u0432 \\u0437\\u0430\\u0445\\u043e\\u0442\\u0438!', u'10618282 \\u0430\\u0445\\u0430\\u0445\\u0430)) \\u041d\\u0435, \\u0434\\u044b\\u043a \\u0442\\u043e\\u0435 \\u043d\\u0430 \\u0447\\u044b\\u043c \\u0451\\u043d \\u043d\\u0430\\u043f\\u0456\\u0441\\u0430\\u043d\\u044b \\u043d\\u0456\\u044f\\u043a \\u043d\\u0435 \\u0437\\u044c\\u0432\\u044f\\u0437\\u0430\\u043d\\u0430 \\u0437 \\u0442\\u044b\\u043c \\u0443 \\u044f\\u043a\\u0443\\u044e \\u0442\\u044d\\u0447\\u043a\\u0443 \\u0451\\u043d\\u043e \\u043f\\u0430\\u0432\\u0456\\u043d\\u043d\\u0430 \\u0441\\u0442\\u0430\\u0432\\u0456\\u0446\\u0446\\u0430) \\u0414\\u0430\\u0440\\u044d\\u0447\\u044b \\u0439 SCP \\u0434\\u0430\\u0433\\u044d\\u0442\\u0443\\u043b\\u044c \\u043d\\u044f\\u043c\\u0430 - \\u0430\\u0446\\u0442\\u043e\\u0439']\n"
     ]
    },
    {
     "name": "stderr",
     "output_type": "stream",
     "text": [
      "5773937it [01:22, 74967.10it/s]"
     ]
    },
    {
     "name": "stdout",
     "output_type": "stream",
     "text": [
      "fuck [u'14499167 &gt;\\u0432\\u044b\\u0431\\u043e\\u0440 \\u0430\\u043d\\u0434\\u0440\\u043e\\u0438\\u0434\\u0430 \\u043d\\u0435 \\u0443\\u0434\\u0438\\u0432\\u0438\\u0442\\u0435\\u043b\\u0435\\u043d, \\u0432\\u0435\\u0434\\u044c \\u044d\\u0442\\u043e \\u0435\\u0434\\u0438\\u043d\\u0441\\u0442\\u0432\\u0435\\u043d\\u043d\\u0430\\u044f \\u043f\\u043e\\u043b\\u043d\\u043e\\u0446\\u0435\\u043d\\u043d\\u0430\\u044f \\u043c\\u043e\\u0431\\u0438\\u043b\\u044c\\u043d\\u0430\\u044f \\u041e\\u0421, \\u0430 \\u043f\\u043e\\u043a\\u0443\\u043f\\u0430\\u0442\\u0435\\u043b\\u0438 \\u043f\\u043e\\u0434\\u043e\\u0431\\u043d\\u044b\\u0445 \\u0434\\u0435\\u0432\\u0430\\u0439\\u0441\\u043e\\u0432 \\u043b\\u044e\\u0434\\u0438 \\u0432\\u043f\\u043e\\u043b\\u043d\\u0435 \\u0441\\u0435\\u0431\\u0435 \\u043f\\u043e\\u043b\\u043d\\u043e\\u0446\\u0435\\u043d\\u043d\\u044b\\u0435.', u'244883387 \\u0421\\u044a\\u0435\\u0431\\u0438 \\u0443\\u0436\\u0435 \\u0438\\u0437 \\\\', u'\\\\\\\\', u'14499167 \\u0434\\u0430 \\u043d\\u0443, \\u0442\\u0430\\u043c \\u0432\\u0435\\u0441\\u0435\\u043b\\u043e']\n"
     ]
    },
    {
     "name": "stderr",
     "output_type": "stream",
     "text": [
      "10114154it [02:22, 75021.88it/s]"
     ]
    },
    {
     "name": "stdout",
     "output_type": "stream",
     "text": [
      "fuck [u'53938072 Msbuild \\u044d\\u0442\\u043e \\u043d\\u0435\\u0447\\u0442\\u043e. \\u041f\\u043e\\u0434\\u0441\\u043e\\u0432\\u044b\\u0432\\u0430\\u0435\\u0448\\u044c \\u0435\\u043c\\u0443 \\u0432 \\u043f\\u0440\\u043e\\u043f\\u0435\\u0440\\u0442\\u044e \\u043f\\u0443\\u0442\\u044c \\u0442\\u0438\\u043f\\u0430 \"C:\\\\\\\\path\\\\', u'o\\\\\\\\folder\\\\\\\\\",\\u0438 \\u043e\\u043d \\u0434\\u0443\\u043c\\u0430\\u0435\\u0442, \\u0447\\u0442\\u043e \\u043f\\u043e\\u0441\\u043b\\u0435\\u0434\\u043d\\u0438\\u0439 \\u0441\\u043b\\u0435\\u0448 \\u044d\\u043a\\u0440\\u0430\\u043d\\u0438\\u0440\\u0443\\u0435\\u0442 \\u043a\\u043e\\u0432\\u044b\\u0447\\u043a\\u0443.', u'53938072 \\u0412 \\u0440\\u0435\\u0437\\u0443\\u043b\\u044c\\u0442\\u0430\\u0442\\u0435 \\u0432 string \\u043f\\u043e\\u043f\\u0430\\u0434\\u0430\\u0435\\u0442 \\u0437\\u043d\\u0430\\u0447\\u0435\\u043d\\u0438\\u0435 \"C:\\\\\\\\\\\\\\\\path\\\\\\\\\\\\', u'o\\\\\\\\\\\\\\\\folder\\\\\\\\\"\". \\u0421 \\u044d\\u043a\\u0440\\u0430\\u043d\\u0438\\u0440\\u043e\\u0432\\u0430\\u043d\\u043d\\u043e\\u0439 \\u043a\\u043e\\u0432\\u044b\\u0447\\u043a\\u043e\\u0439 \\u0432 \\u043a\\u043e\\u043d\\u0446\\u0435, \\u0431\\u043b\\u044f\\u0442\\u044c.', u'163010696 10/10, \\u0434\\u0430\\u0439\\u0442\\u0435 2 \\u0442\\u0430\\u043a\\u0438\\u0445!']\n"
     ]
    },
    {
     "name": "stderr",
     "output_type": "stream",
     "text": [
      "10329968it [02:25, 71187.56it/s]\n"
     ]
    }
   ],
   "source": [
    "from collections import defaultdict\n",
    "import codecs\n",
    "from tqdm import tqdm\n",
    "\n",
    "users_freqs = defaultdict(int)\n",
    "\n",
    "with codecs.open('../twitter_data/yt_twitter_chains_3', encoding='utf8') as fin:\n",
    "    fin.readline()\n",
    "    for line in tqdm(fin):\n",
    "        msgs = line.strip().split('\\\\t')\n",
    "        if len(msgs) != 3:\n",
    "            print \"fuck\", msgs\n",
    "        uid = msgs[-1].split()[0]\n",
    "        users_freqs[uid] += 1"
   ]
  },
  {
   "cell_type": "code",
   "execution_count": 3,
   "metadata": {
    "collapsed": true
   },
   "outputs": [],
   "source": [
    "from collections import Counter\n",
    "\n",
    "counter = Counter(users_freqs)"
   ]
  },
  {
   "cell_type": "code",
   "execution_count": null,
   "metadata": {
    "collapsed": true
   },
   "outputs": [],
   "source": [
    "sum([x[1] for x in counter.most_common(1000)])"
   ]
  },
  {
   "cell_type": "code",
   "execution_count": 4,
   "metadata": {},
   "outputs": [
    {
     "data": {
      "text/plain": [
       "[(u'24203097', 9597),\n",
       " (u'90150797', 8785),\n",
       " (u'1111100311', 8186),\n",
       " (u'242397689', 7196),\n",
       " (u'1008147900', 5574),\n",
       " (u'19503310', 5477),\n",
       " (u'221085841', 5272),\n",
       " (u'33329087', 5176),\n",
       " (u'14774424', 4995),\n",
       " (u'73742267', 4950)]"
      ]
     },
     "execution_count": 4,
     "metadata": {},
     "output_type": "execute_result"
    }
   ],
   "source": [
    "counter.most_common(10)"
   ]
  },
  {
   "cell_type": "code",
   "execution_count": 47,
   "metadata": {},
   "outputs": [
    {
     "data": {
      "text/plain": [
       "0"
      ]
     },
     "execution_count": 47,
     "metadata": {},
     "output_type": "execute_result"
    }
   ],
   "source": [
    "selected_uids['24203097']"
   ]
  },
  {
   "cell_type": "code",
   "execution_count": 7,
   "metadata": {
    "collapsed": true
   },
   "outputs": [],
   "source": [
    "selected_uids = [x[0] for x in counter.most_common(1000)]\n",
    "selected_uids = {uid:i for i,uid in enumerate(selected_uids)}"
   ]
  },
  {
   "cell_type": "code",
   "execution_count": 24,
   "metadata": {
    "collapsed": true
   },
   "outputs": [],
   "source": [
    "import pickle\n",
    "with open('../twitter_data/selected_uids_dict.pkl', 'wb') as fout:\n",
    "    pickle.dump(selected_uids, fout)"
   ]
  },
  {
   "cell_type": "code",
   "execution_count": 2,
   "metadata": {
    "collapsed": true
   },
   "outputs": [],
   "source": [
    "import sys\n",
    "sys.path.insert(0, '../')"
   ]
  },
  {
   "cell_type": "code",
   "execution_count": 3,
   "metadata": {
    "collapsed": true
   },
   "outputs": [],
   "source": [
    "from mymodule.base_stuff import Vocab"
   ]
  },
  {
   "cell_type": "code",
   "execution_count": 4,
   "metadata": {
    "collapsed": true
   },
   "outputs": [],
   "source": [
    "vocab = Vocab.read_from_file('../twitter_data/tokens.txt')"
   ]
  },
  {
   "cell_type": "code",
   "execution_count": 7,
   "metadata": {
    "collapsed": true
   },
   "outputs": [],
   "source": [
    "with codecs.open('../twitter_data/selected_uids.txt', 'w', encoding='utf8') as fout:\n",
    "    for uid in selected_uids:\n",
    "        fout.write(str(uid)+'\\n')"
   ]
  },
  {
   "cell_type": "markdown",
   "metadata": {},
   "source": [
    "## Prepare data for DSSM training"
   ]
  },
  {
   "cell_type": "code",
   "execution_count": 25,
   "metadata": {},
   "outputs": [
    {
     "name": "stderr",
     "output_type": "stream",
     "text": [
      "10329968it [02:46, 62117.55it/s]\n"
     ]
    }
   ],
   "source": [
    "with codecs.open('../twitter_data/yt_twitter_chains_3', encoding='utf8') as fin, codecs.open('../twitter_data/dssm_data_selected_users', 'w', encoding='utf8') as fout:\n",
    "    fin.readline() # read \"value\" line\n",
    "    for line in tqdm(fin):\n",
    "        msgs = line.strip().split('\\\\t')\n",
    "        last_msg = msgs[-1]\n",
    "        uid = last_msg.split()[0]\n",
    "        msg = ' '.join(last_msg.split()[1:])\n",
    "        if uid in selected_uids:\n",
    "            fout.write(\"{}\\t{}\\n\".format(selected_uids[uid], msg))"
   ]
  },
  {
   "cell_type": "markdown",
   "metadata": {},
   "source": [
    "## Prepare data for finetuning on user `24203097`"
   ]
  },
  {
   "cell_type": "code",
   "execution_count": 9,
   "metadata": {
    "collapsed": true
   },
   "outputs": [],
   "source": [
    "def strip_uids(chain):\n",
    "    \"\"\"chain: \"123 привет\\t321 приветики!\\t123 как делищи?\"\n",
    "    \"\"\"\n",
    "    msgs = chain.strip().split('\\\\t')\n",
    "    msgs = [' '.join(msg.split()[1:]) for msg in msgs]\n",
    "    return '\\\\t'.join(msgs)"
   ]
  },
  {
   "cell_type": "code",
   "execution_count": 45,
   "metadata": {},
   "outputs": [
    {
     "name": "stderr",
     "output_type": "stream",
     "text": [
      "10329968it [02:57, 58358.47it/s]\n"
     ]
    }
   ],
   "source": [
    "UID = '24203097'\n",
    "with codecs.open('../twitter_data/yt_twitter_chains_3', encoding='utf8') as fin, codecs.open('../twitter_data/user_{}_chains'.format(UID), 'w', encoding='utf8') as fout:\n",
    "    fin.readline() # read \"value\" line\n",
    "    for line in tqdm(fin):\n",
    "        msgs = line.strip().split('\\\\t')\n",
    "        last_msg = msgs[-1]\n",
    "        uid = last_msg.split()[0]\n",
    "        msg = ' '.join(last_msg.split()[1:])\n",
    "        if uid == UID:\n",
    "            fout.write(strip_uids(line)+'\\n')"
   ]
  },
  {
   "cell_type": "markdown",
   "metadata": {},
   "source": [
    "## Prepare data for finetuning on all users using dssm score"
   ]
  },
  {
   "cell_type": "code",
   "execution_count": 46,
   "metadata": {},
   "outputs": [
    {
     "name": "stderr",
     "output_type": "stream",
     "text": [
      "10329968it [04:21, 39460.93it/s]\n"
     ]
    }
   ],
   "source": [
    "with codecs.open('../twitter_data/yt_twitter_chains_3', encoding='utf8') as fin, codecs.open('../twitter_data/selected_user_chains', 'w', encoding='utf8') as fout:\n",
    "    fin.readline() # read \"value\" line\n",
    "    for line in tqdm(fin):\n",
    "        uid = line.strip().split('\\\\t')[-1].split()[0]\n",
    "        msg = strip_uids(line)\n",
    "        if uid in selected_uids:\n",
    "            fout.write(u\"{}\\t{}\\n\".format(selected_uids[uid], msg))"
   ]
  },
  {
   "cell_type": "code",
   "execution_count": null,
   "metadata": {
    "collapsed": true
   },
   "outputs": [],
   "source": [
    "counter.most_common(1)"
   ]
  },
  {
   "cell_type": "code",
   "execution_count": 41,
   "metadata": {},
   "outputs": [
    {
     "data": {
      "text/plain": [
       "788178"
      ]
     },
     "execution_count": 41,
     "metadata": {},
     "output_type": "execute_result"
    }
   ],
   "source": [
    "len(selected_chains)"
   ]
  }
 ],
 "metadata": {
  "kernelspec": {
   "display_name": "Python [default]",
   "language": "python",
   "name": "python2"
  },
  "language_info": {
   "codemirror_mode": {
    "name": "ipython",
    "version": 2
   },
   "file_extension": ".py",
   "mimetype": "text/x-python",
   "name": "python",
   "nbconvert_exporter": "python",
   "pygments_lexer": "ipython2",
   "version": "2.7.13"
  }
 },
 "nbformat": 4,
 "nbformat_minor": 2
}
