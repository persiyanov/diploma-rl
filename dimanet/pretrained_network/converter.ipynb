{
 "cells": [
  {
   "cell_type": "code",
   "execution_count": 1,
   "metadata": {
    "collapsed": false
   },
   "outputs": [],
   "source": [
    "%load_ext autoreload\n",
    "%autoreload 2"
   ]
  },
  {
   "cell_type": "markdown",
   "metadata": {},
   "source": [
    "# data"
   ]
  },
  {
   "cell_type": "code",
   "execution_count": 2,
   "metadata": {
    "collapsed": true
   },
   "outputs": [],
   "source": [
    "with open(\"./tokens.txt\") as fin:\n",
    "    tokens = filter(len,fin.read().split('\\n'))\n",
    "    \n",
    "tokens.append(\"_BOS_\") #beginning of sentence. Omitted in danet\n",
    "tokens.append(\"_PAD_\") #padding. Omitted in danet\n",
    "\n",
    "UNK_ix,BOS_ix,EOS_ix,PAD_ix = map(tokens.index,[\"_UNK_\",\"_BOS_\",\"_EOS_\",\"_PAD_\"])\n",
    "n_tokens = len(tokens)\n",
    "\n",
    "from collections import defaultdict\n",
    "token_to_ix = defaultdict(lambda:UNK_ix,{t:i for i,t in enumerate(tokens)})"
   ]
  },
  {
   "cell_type": "code",
   "execution_count": 3,
   "metadata": {
    "collapsed": true
   },
   "outputs": [],
   "source": [
    "with open(\"./sp.speakers.c5.txt.val.predictions\") as fin:\n",
    "    probas = map(lambda line:map(float,line.split()),fin)\n",
    "    \n",
    "with open(\"./sp.speakers.c5.txt.val\") as fin:\n",
    "    phrases,answers = zip(*map(lambda line: line.split('\\t'),fin))\n",
    "    "
   ]
  },
  {
   "cell_type": "code",
   "execution_count": 4,
   "metadata": {
    "collapsed": false
   },
   "outputs": [
    {
     "name": "stdout",
     "output_type": "stream",
     "text": [
      "oh my god i can ' t believe it ! ! ! _EOS_ hello hello , are you still there ? _EOS_ they want to sign me to the _UNK_ _UNK_ ! _EOS_ you want to sign ms . lopez ? _EOS_ oh my god , it ' s happening for me ! _EOS_ _Cartman_\tyes ! yes , we can record an album next week ! sure we can write ten songs ! we ' ll start tonight ! ! _EOS_\r\n",
      "they want to sign me to the _UNK_ _UNK_ ! _EOS_ you want to sign ms . lopez ? _EOS_ oh my god , it ' s happening for me ! _EOS_ yes ! yes , we can record an album next week ! sure we can write ten songs ! we ' ll start tonight ! ! _EOS_ we ' re gonna be _UNK_ ! _EOS_ _Cartman_\tcome on , we gotta get to work on some songs ! _EOS_\r\n",
      "_EOS_ _Cartman_\tmr . broflovski ! mr . broflovski , there a smug storm ! we have to go ! _EOS_\r\n",
      "_EOS_ mr . broflovski ! mr . broflovski , there a smug storm ! we have to go ! _EOS_ being smug is a good thing . _EOS_ _Cartman_\toh my christ ! _EOS_\r\n",
      "mr . broflovski ! mr . broflovski , there a smug storm ! we have to go ! _EOS_ being smug is a good thing . _EOS_ oh my christ ! _EOS_ the acid . dude , i ' m totally tripping balls . _EOS_ i ' m totally tripping balls . i ' m totally tripping balls . _EOS_ _Cartman_\twe have to get out of here ! now ! _EOS_\r\n",
      "_EOS_ _Cartman_\ti ' m sure this is exactly how kurt cobain would want to be remembered . _EOS_\r\n",
      "why sure fellas . _EOS_ dude , what are you doing ? ! _EOS_ just hangin ' out . what are you up to ? _EOS_ you need to stop recommending that app to people ! _EOS_ ( yeah ! ) _EOS_ _Cartman_\teveryone we know says they heard about it from you ! _EOS_\r\n",
      "just hangin ' out . what are you up to ? _EOS_ you need to stop recommending that app to people ! _EOS_ ( yeah ! ) _EOS_ everyone we know says they heard about it from you ! _EOS_ i just think it ' s a fabulous app , that ' s all . _EOS_ _Cartman_\tit ' s not a fabulous app ! it ' s fuckin ' stupid ! _EOS_\r\n",
      "_EOS_ _Cartman_\th ' you guys ! come quick ! _EOS_\r\n",
      "_EOS_ dean _UNK_ , a representative from another prestigious institution is here to see you . _EOS_ a what ? send him in . _EOS_ _Cartman_\t_UNK_ _UNK_ ! the name is eric p cartman . i ' m a well - respected owner in the slave trade . _EOS_\r\n"
     ]
    }
   ],
   "source": [
    "!head sp.speakers.c5.txt.val"
   ]
  },
  {
   "cell_type": "code",
   "execution_count": 5,
   "metadata": {
    "collapsed": false
   },
   "outputs": [],
   "source": [
    "import numpy as np\n",
    "assert np.allclose(\n",
    "    map(len,probas),\n",
    "    map(len,map(str.split,answers))\n",
    "    )"
   ]
  },
  {
   "cell_type": "code",
   "execution_count": 6,
   "metadata": {
    "collapsed": true
   },
   "outputs": [],
   "source": [
    "\n",
    "def preprocess(line):\n",
    "    return map(token_to_ix.__getitem__,line.split())\n",
    "\n",
    "def phrase_to_matrix(phrases,max_len = None,PAD_ix=PAD_ix):\n",
    "    \n",
    "    phrases_ix = map(preprocess,phrases)\n",
    "    max_len = max_len or max(map(len,phrases_ix))\n",
    "    \n",
    "    matrix = np.zeros((len(phrases),max_len),dtype='int32') + PAD_ix\n",
    "    \n",
    "    for i,phrase_ix in enumerate(phrases_ix):\n",
    "        matrix[i,:min(len(phrase_ix),max_len)] = phrase_ix[:max_len]\n",
    "        \n",
    "    return matrix\n",
    "\n"
   ]
  },
  {
   "cell_type": "markdown",
   "metadata": {},
   "source": [
    "# model"
   ]
  },
  {
   "cell_type": "code",
   "execution_count": 7,
   "metadata": {
    "collapsed": false
   },
   "outputs": [],
   "source": [
    "model_path = \"weights/\"\n",
    "grad_clipping=5"
   ]
  },
  {
   "cell_type": "code",
   "execution_count": 8,
   "metadata": {
    "collapsed": false
   },
   "outputs": [],
   "source": [
    "import numpy as np\n",
    "import os\n",
    "def read_wmtx(fname,dtype='float32',keepdims=False):\n",
    "    \"reads matrix/vector from text file\"\n",
    "    with open(fname) as fin:\n",
    "        rows = fin.read().split('\\n')[1:-1]        \n",
    "        rows = map(lambda row: map(float,filter(len,row.split(' '))),rows)\n",
    "        if not keepdims:\n",
    "            while len(rows)==1:\n",
    "                rows=rows[0]\n",
    "        return np.array(rows,dtype='float32')\n"
   ]
  },
  {
   "cell_type": "code",
   "execution_count": 9,
   "metadata": {
    "collapsed": false
   },
   "outputs": [],
   "source": [
    "#read shared embedding matrix\n",
    "\n",
    "danet_emb_W = read_wmtx(os.path.join(model_path,\"layer_context_embedding_0.wmtx\"))\n",
    "danet_emb_b = read_wmtx(os.path.join(model_path,\"layer_context_embedding_biases.wmtx\"))\n",
    "\n",
    "#ACTUAL embedding W - add b and append b for BOS\n",
    "emb_W = np.concatenate((danet_emb_W+danet_emb_b[None,:],\n",
    "                        danet_emb_b[None,:],#BOS\n",
    "                        danet_emb_b[None,:],#PAD\n",
    "                       ),axis=0)\n",
    "\n",
    "#assert np.all(emb_W[BOS_ix]== danet_emb_b)"
   ]
  },
  {
   "cell_type": "code",
   "execution_count": 10,
   "metadata": {
    "collapsed": true
   },
   "outputs": [],
   "source": [
    "import glob\n",
    "\n",
    "def load_LSTMLayer_from_danet(lstm,path=model_path,prefix=\"layer_context_lstm\",verbose=False):\n",
    "    \n",
    "    #count lstm inputs, exclude recurrent weight and b\n",
    "    n_inputs = len(glob.glob(os.path.join(path,prefix+'_pre_cell_value_*')))-2 \n",
    "    inputs = range(n_inputs) #[matrices corresponding to non-recurrent links]\n",
    "    hid = n_inputs #id of hidden->hidden connections\n",
    "    \n",
    "    conversion_dict= {\n",
    "\n",
    "        lstm.W_in_to_cell:[prefix+'_pre_cell_value_%i.wmtx'%i for i in inputs],\n",
    "        lstm.W_hid_to_cell:[prefix+'_pre_cell_value_%i.wmtx'%hid],\n",
    "        lstm.b_cell:[prefix+'_pre_cell_value_biases.wmtx'],\n",
    "\n",
    "        lstm.W_in_to_forgetgate:[prefix+'_pre_forget_gate_%i.wmtx'%i for i in inputs],\n",
    "        lstm.W_hid_to_forgetgate:[prefix+'_pre_forget_gate_%i.wmtx'%hid],\n",
    "        lstm.b_forgetgate: [prefix+'_pre_forget_gate_biases.wmtx'],\n",
    "\n",
    "        lstm.W_in_to_ingate:[prefix+'_pre_input_gate_%i.wmtx'%i for i in inputs],\n",
    "        lstm.W_hid_to_ingate:[prefix+'_pre_input_gate_%i.wmtx'%hid],\n",
    "        lstm.b_ingate:[prefix+'_pre_input_gate_biases.wmtx'],\n",
    "\n",
    "        lstm.W_in_to_outgate:[prefix+'_pre_output_gate_%i.wmtx'%i for i in inputs],\n",
    "        lstm.W_hid_to_outgate:[prefix+'_pre_output_gate_%i.wmtx'%hid],\n",
    "        lstm.b_outgate:[prefix+'_pre_output_gate_biases.wmtx'],\n",
    "    }\n",
    "    for param,fnames in conversion_dict.items():\n",
    "        matrices = []\n",
    "        for fname in fnames:\n",
    "            fpath = os.path.join(path,fname)\n",
    "            wmtx = read_wmtx(fpath)\n",
    "            matrices.append(wmtx)\n",
    "        full_wmtx = np.concatenate(matrices,0)\n",
    "        if verbose:\n",
    "            print \"loading\",','.join(fnames),'shape=',full_wmtx.shape,\n",
    "            print \"as\",param.name,param.get_value().shape\n",
    "        assert full_wmtx.shape == param.get_value().shape\n",
    "        param.set_value(full_wmtx)\n",
    "    return lstm"
   ]
  },
  {
   "cell_type": "code",
   "execution_count": 11,
   "metadata": {
    "collapsed": false
   },
   "outputs": [
    {
     "name": "stderr",
     "output_type": "stream",
     "text": [
      "/home/jheuristic/anaconda2/lib/python2.7/site-packages/ipykernel/__main__.py:14: UserWarning: i did not prepend BOS in the encoder. Am i right?\n"
     ]
    }
   ],
   "source": [
    "from warnings import warn\n",
    "\n",
    "import theano\n",
    "import theano.tensor as T\n",
    "from wrong_lstm_layer import WrongLSTMLayer\n",
    "from lasagne.layers import *\n",
    "\n",
    "class encoder:\n",
    "        \n",
    "    input_phrase  = T.imatrix(\"encoder phrase tokens\")\n",
    "    \n",
    "    #bos_column = T.zeros((input_phrase.shape[0],1),'int32')+BOS_ix\n",
    "    #input_phrase_bos = T.concatenate((bos_column,input_phrase),axis=1)  #prepend BOS\n",
    "    warn(\"i did not prepend BOS in the encoder. Am i right?\")\n",
    "    \n",
    "    l_in = InputLayer((None,None),input_phrase,name='context input')\n",
    "    l_mask = InputLayer((None,None),T.neq(input_phrase,PAD_ix),'context mask')\n",
    "    \n",
    "    l_emb = EmbeddingLayer(l_in,n_tokens,emb_W.shape[1], \n",
    "                             W=emb_W,name=\"context embedding\")\n",
    "    \n",
    "    \n",
    "        \n",
    "    ####LSTMLayer with incorrect outputgate####\n",
    "        \n",
    "    lstm_units = read_wmtx(os.path.join(model_path,\"layer_context_lstm_pre_forget_gate_biases.wmtx\")).shape[0]\n",
    "\n",
    "    \n",
    "    l_lstm = WrongLSTMLayer(\n",
    "                        l_emb,\n",
    "                        lstm_units,\n",
    "                        name='encoder_lstm',\n",
    "                        grad_clipping=grad_clipping,\n",
    "                        mask_input = l_mask,\n",
    "                        only_return_final=True,\n",
    "                        peepholes=False)\n",
    "    \n",
    "    l_lstm = load_LSTMLayer_from_danet(\n",
    "                l_lstm,\n",
    "                model_path,\n",
    "                'layer_context_lstm')\n",
    "    \n",
    "    \n",
    "    output = l_lstm\n",
    "        \n",
    "\n",
    "\n",
    "        \n",
    "        \n"
   ]
  },
  {
   "cell_type": "code",
   "execution_count": 12,
   "metadata": {
    "collapsed": false
   },
   "outputs": [],
   "source": [
    "from agentnet.memory import LSTMCell"
   ]
  },
  {
   "cell_type": "code",
   "execution_count": 15,
   "metadata": {
    "collapsed": false
   },
   "outputs": [],
   "source": [
    "def load_LSTMdecoder_from_danet(params,lstm_name,path=model_path,prefix=\"layer_reply_lstm\",verbose=False):\n",
    "    \n",
    "    emb,encoder,out = range(3)\n",
    "    \n",
    "    conversion_dict = {\n",
    "         \"%s.b_to_ingate\"%(lstm_name):prefix+'_pre_input_gate_biases.wmtx',\n",
    "         \"%s.W_out_to_ingate\"%(lstm_name):prefix+'_pre_input_gate_%i.wmtx'%out,\n",
    "         \"%s.W_emb_to_ingate\"%(lstm_name):prefix+'_pre_input_gate_%i.wmtx'%emb,\n",
    "         \"%s.W_encoder_to_ingate\"%(lstm_name):prefix+'_pre_input_gate_%i.wmtx'%encoder,\n",
    "         \"%s.b_to_forgetgate\"%(lstm_name):prefix+'_pre_forget_gate_biases.wmtx',\n",
    "         \"%s.W_out_to_forgetgate\"%(lstm_name):prefix+'_pre_forget_gate_%i.wmtx'%out,\n",
    "         \"%s.W_emb_to_forgetgate\"%(lstm_name):prefix+'_pre_forget_gate_%i.wmtx'%emb,\n",
    "         \"%s.W_encoder_to_forgetgate\"%(lstm_name):prefix+'_pre_forget_gate_%i.wmtx'%encoder,\n",
    "         \"%s.b_to_cell\"%(lstm_name):prefix+'_pre_cell_value_biases.wmtx',\n",
    "         \"%s.W_out_to_cell\"%(lstm_name):prefix+'_pre_cell_value_%i.wmtx'%out,\n",
    "         \"%s.W_emb_to_cell\"%(lstm_name):prefix+'_pre_cell_value_%i.wmtx'%emb,\n",
    "         \"%s.W_encoder_to_cell\"%(lstm_name):prefix+'_pre_cell_value_%i.wmtx'%encoder,\n",
    "         \"%s.b_to_outgate\"%(lstm_name):prefix+'_pre_output_gate_biases.wmtx',\n",
    "         \"%s.W_out_to_outgate\"%(lstm_name):prefix+'_pre_output_gate_%i.wmtx'%out,\n",
    "         \"%s.W_emb_to_outgate\"%(lstm_name):prefix+'_pre_output_gate_%i.wmtx'%emb,\n",
    "         \"%s.W_encoder_to_outgate\"%(lstm_name):prefix+'_pre_output_gate_%i.wmtx'%encoder,\n",
    "    }\n",
    "    \n",
    "    param_dict = {param.name:param for param in params}\n",
    "    assert len(param_dict) == len(params)\n",
    "    \n",
    "    \n",
    "    for param_name in conversion_dict:\n",
    "        \n",
    "        \n",
    "        fpath = os.path.join(path,conversion_dict[param_name])\n",
    "        wmtx = read_wmtx(fpath)\n",
    "            \n",
    "        if verbose:\n",
    "            print \"loading\",conversion_dict[param_name],'shape=',wmtx.shape,\n",
    "            print \"as\",param_name,param_dict[param_name].get_value().shape\n",
    "        assert wmtx.shape == param_dict[param_name].get_value().shape\n",
    "\n",
    "        param_dict[param_name].set_value(wmtx)\n",
    "\n"
   ]
  },
  {
   "cell_type": "code",
   "execution_count": 78,
   "metadata": {
    "collapsed": false
   },
   "outputs": [
    {
     "name": "stdout",
     "output_type": "stream",
     "text": [
      "loading layer_reply_lstm_pre_forget_gate_biases.wmtx shape= (1024,) as decoder_lstm.b_to_forgetgate (1024,)\n",
      "loading layer_reply_lstm_pre_cell_value_biases.wmtx shape= (1024,) as decoder_lstm.b_to_cell (1024,)\n",
      "loading layer_reply_lstm_pre_forget_gate_2.wmtx shape= (1024, 1024) as decoder_lstm.W_out_to_forgetgate (1024, 1024)\n",
      "loading layer_reply_lstm_pre_input_gate_1.wmtx shape= (1024, 1024) as decoder_lstm.W_encoder_to_ingate (1024, 1024)\n",
      "loading layer_reply_lstm_pre_input_gate_biases.wmtx shape= (1024,) as decoder_lstm.b_to_ingate (1024,)\n",
      "loading layer_reply_lstm_pre_input_gate_2.wmtx shape= (1024, 1024) as decoder_lstm.W_out_to_ingate (1024, 1024)\n",
      "loading layer_reply_lstm_pre_forget_gate_1.wmtx shape= (1024, 1024) as decoder_lstm.W_encoder_to_forgetgate (1024, 1024)\n",
      "loading layer_reply_lstm_pre_output_gate_1.wmtx shape= (1024, 1024) as decoder_lstm.W_encoder_to_outgate (1024, 1024)\n",
      "loading layer_reply_lstm_pre_forget_gate_0.wmtx shape= (512, 1024) as decoder_lstm.W_emb_to_forgetgate (512, 1024)\n",
      "loading layer_reply_lstm_pre_output_gate_2.wmtx shape= (1024, 1024) as decoder_lstm.W_out_to_outgate (1024, 1024)\n",
      "loading layer_reply_lstm_pre_cell_value_1.wmtx shape= (1024, 1024) as decoder_lstm.W_encoder_to_cell (1024, 1024)\n",
      "loading layer_reply_lstm_pre_cell_value_2.wmtx shape= (1024, 1024) as decoder_lstm.W_out_to_cell (1024, 1024)\n",
      "loading layer_reply_lstm_pre_input_gate_0.wmtx shape= (512, 1024) as decoder_lstm.W_emb_to_ingate (512, 1024)\n",
      "loading layer_reply_lstm_pre_cell_value_0.wmtx shape= (512, 1024) as decoder_lstm.W_emb_to_cell (512, 1024)\n",
      "loading layer_reply_lstm_pre_output_gate_biases.wmtx shape= (1024,) as decoder_lstm.b_to_outgate (1024,)\n",
      "loading layer_reply_lstm_pre_output_gate_0.wmtx shape= (512, 1024) as decoder_lstm.W_emb_to_outgate (512, 1024)\n"
     ]
    }
   ],
   "source": [
    "from wrong_lstm_cell import WrongLSTMCell\n",
    "from agentnet import Recurrence\n",
    "from agentnet.resolver import  ProbabilisticResolver\n",
    "class decoder:\n",
    "    lstm_units = encoder.output.output_shape[1]\n",
    "    \n",
    "    prev_cell = InputLayer((None,lstm_units),name='cell')\n",
    "    prev_out = InputLayer((None,lstm_units),name='out')\n",
    "    \n",
    "    #input\n",
    "    inp_word = InputLayer((None,))\n",
    "    word_embedding = EmbeddingLayer(inp_word,n_tokens,emb_W.shape[1],\n",
    "                                         W=encoder.l_emb.W,name='emb')\n",
    "    encoder_lstm = InputLayer((None,lstm_units),name='encoder')\n",
    "    \n",
    "    #recurrent units\n",
    "    new_cell,new_out = WrongLSTMCell(prev_cell,prev_out,\n",
    "                                     input_or_inputs=[word_embedding,encoder_lstm],\n",
    "                                     name='decoder_lstm',peepholes=False\n",
    "                                    )\n",
    "    \n",
    "    load_LSTMdecoder_from_danet(get_all_params(new_out,trainable=True),'decoder_lstm',verbose=True)\n",
    "\n",
    "    #predicting output\n",
    "    W_bottleneck = read_wmtx(os.path.join(model_path,\"layer_fc_intermediate_decoder_0.wmtx\"))\n",
    "    b_bottleneck = read_wmtx(os.path.join(model_path,\"layer_fc_intermediate_decoder_biases.wmtx\"))        \n",
    "    bottleneck_units = W_bottleneck.shape[-1]\n",
    "\n",
    "    bottleneck = DenseLayer(new_out,bottleneck_units,\n",
    "                              nonlinearity=T.tanh,\n",
    "                              W = W_bottleneck,\n",
    "                              b = b_bottleneck,\n",
    "                              name='decoder intermediate')\n",
    "\n",
    "    W_output = read_wmtx(os.path.join(model_path,\"layer_fc_decoder_0.wmtx\"))\n",
    "    b_output = read_wmtx(os.path.join(model_path,\"layer_fc_decoder_biases.wmtx\"))        \n",
    "    #add two remaining tokens: BOS and PAD with large negative b to minimize influence\n",
    "    W_output = np.concatenate([W_output,np.zeros_like(W_output[:,:2])],-1)\n",
    "    b_output = np.concatenate([b_output,np.zeros_like(b_output[:2])-100],-1)\n",
    "    \n",
    "    \n",
    "    next_word_probs = DenseLayer(bottleneck,n_tokens,\n",
    "                                   nonlinearity = T.nnet.softmax,\n",
    "                                   W = W_output,\n",
    "                                   b = b_output,\n",
    "                                 name='decoder next word probas')\n",
    "\n",
    "    next_words = ProbabilisticResolver(next_word_probs,assume_normalized=True)"
   ]
  },
  {
   "cell_type": "code",
   "execution_count": 79,
   "metadata": {
    "collapsed": false
   },
   "outputs": [
    {
     "name": "stderr",
     "output_type": "stream",
     "text": [
      "/home/jheuristic/Downloads/AgentNet/agentnet/agent/recurrence.py:188: UserWarning: State_variables recommended type is OrderedDict.\n",
      "                Otherwise, order of agent state outputs from get_sessions and get_agent_reaction methods\n",
      "                may depend on python configuration.\n",
      "\n",
      "                Current order is: [<lasagne.layers.merge.ElemwiseMergeLayer object at 0x7f37ace39810>, <lasagne.layers.special.NonlinearityLayer object at 0x7f37ace395d0>]\n",
      "                You may find OrderedDict in standard collections module: from collections import OrderedDict\n",
      "                \n",
      "  \"\"\".format(state_variables=list(self.state_variables.keys())))\n"
     ]
    }
   ],
   "source": [
    "class trainer:\n",
    "    #training recurrence\n",
    "    reference_answers = T.imatrix(\"decoder reference answers\")\n",
    "    bos_column = T.zeros((reference_answers.shape[0],1),'int32')+BOS_ix\n",
    "    reference_answers_bos = T.concatenate((bos_column,reference_answers ),axis=1)  #prepend BOS\n",
    "        \n",
    "    l_ref = InputLayer((None,None),reference_answers_bos,name='context input')\n",
    "    l_ref_mask = InputLayer((None,None),T.neq(reference_answers_bos,PAD_ix),'context mask')\n",
    "\n",
    "    recurrence = Recurrence(input_sequences={decoder.inp_word:l_ref},\n",
    "                           input_nonsequences={decoder.encoder_lstm:encoder.output},\n",
    "                           state_variables={decoder.new_cell:decoder.prev_cell,\n",
    "                                            decoder.new_out:decoder.prev_out},\n",
    "                           tracked_outputs=[decoder.next_word_probs],\n",
    "                           mask_input=l_ref_mask,\n",
    "                           unroll_scan=False,)\n",
    "    \n",
    "    \n",
    "    \n",
    "    out = get_output(recurrence[decoder.next_word_probs])\n",
    "    \n",
    "    likelihood = out[T.arange(out.shape[0])[:,None],T.arange(out.shape[1]-1)[None,:], reference_answers]\n",
    "    \n",
    "    predict_proba = theano.function([encoder.input_phrase,reference_answers],likelihood)\n",
    "    "
   ]
  },
  {
   "cell_type": "code",
   "execution_count": 80,
   "metadata": {
    "collapsed": false
   },
   "outputs": [
    {
     "name": "stderr",
     "output_type": "stream",
     "text": [
      "/home/jheuristic/Downloads/AgentNet/agentnet/agent/recurrence.py:188: UserWarning: State_variables recommended type is OrderedDict.\n",
      "                Otherwise, order of agent state outputs from get_sessions and get_agent_reaction methods\n",
      "                may depend on python configuration.\n",
      "\n",
      "                Current order is: [<lasagne.layers.merge.ElemwiseMergeLayer object at 0x7f37ace39810>, <lasagne.layers.special.NonlinearityLayer object at 0x7f37ace395d0>, <agentnet.resolver.probabilistic.ProbabilisticResolver object at 0x7f37aeabf450>]\n",
      "                You may find OrderedDict in standard collections module: from collections import OrderedDict\n",
      "                \n",
      "  \"\"\".format(state_variables=list(self.state_variables.keys())))\n"
     ]
    }
   ],
   "source": [
    "class generator:\n",
    "    \n",
    "    n_steps = T.iscalar()\n",
    "    bos_input_layer = InputLayer((None,),T.zeros((encoder.input_phrase.shape[0],),'int32')+BOS_ix, name=\"first input\")\n",
    "\n",
    "    recurrence = Recurrence(\n",
    "                           input_nonsequences={decoder.encoder_lstm:encoder.output},\n",
    "                           state_variables={decoder.new_cell:decoder.prev_cell,\n",
    "                                            decoder.new_out:decoder.prev_out,\n",
    "                                            decoder.next_words:decoder.inp_word},\n",
    "                           tracked_outputs=[decoder.next_words],\n",
    "                           state_init={decoder.next_words:bos_input_layer},\n",
    "                           n_steps=n_steps,\n",
    "                           unroll_scan=False,)\n",
    "    \n",
    "    \n",
    "    \n",
    "    out = get_output(recurrence[decoder.next_words])\n",
    "    \n",
    "    \n",
    "    \n",
    "    generate = theano.function([encoder.input_phrase,n_steps],out,\n",
    "                              updates = recurrence.get_automatic_updates())\n",
    "    @staticmethod\n",
    "    def reply(phrase,max_len=100):\n",
    "        phrase_ix = phrase_to_matrix([phrase])\n",
    "        answer_ix = generator.generate(phrase_ix,max_len)[0]\n",
    "        if EOS_ix in answer_ix:\n",
    "            answer_ix = answer_ix[:list(answer_ix).index(EOS_ix)]\n",
    "        return ' '.join(map(tokens.__getitem__, answer_ix))\n",
    "        "
   ]
  },
  {
   "cell_type": "code",
   "execution_count": 81,
   "metadata": {
    "collapsed": false
   },
   "outputs": [],
   "source": [
    "from agentnet.utils.persistence import save,load\n",
    "save(generator.recurrence,\"cartmanez_from_danet.pcl\")"
   ]
  },
  {
   "cell_type": "code",
   "execution_count": 72,
   "metadata": {
    "collapsed": false
   },
   "outputs": [
    {
     "data": {
      "text/plain": [
       "\"i ' m all right .\""
      ]
     },
     "execution_count": 72,
     "metadata": {},
     "output_type": "execute_result"
    }
   ],
   "source": [
    "generator.reply(\" how are you doing ? \",10)"
   ]
  },
  {
   "cell_type": "code",
   "execution_count": 41,
   "metadata": {
    "collapsed": false
   },
   "outputs": [
    {
     "name": "stderr",
     "output_type": "stream",
     "text": [
      "\r",
      "  0%|          | 0/432 [00:00<?, ?it/s]"
     ]
    },
    {
     "name": "stdout",
     "output_type": "stream",
     "text": [
      "A: oh my god i can ' t believe it ! ! ! _EOS_ hello hello , are you still there ? _EOS_ they want to sign me to the _UNK_ _UNK_ ! _EOS_ you want to sign ms . lopez ? _EOS_ oh my god , it ' s happening for me ! _EOS_ _Cartman_\n",
      "B: yes ! yes , we can record an album next week ! sure we can write ten songs ! we ' ll start tonight ! ! _EOS_\n",
      "\n"
     ]
    },
    {
     "name": "stderr",
     "output_type": "stream",
     "text": [
      "\n"
     ]
    },
    {
     "ename": "KeyboardInterrupt",
     "evalue": "",
     "output_type": "error",
     "traceback": [
      "\u001b[1;31m---------------------------------------------------------------------------\u001b[0m",
      "\u001b[1;31mKeyboardInterrupt\u001b[0m                         Traceback (most recent call last)",
      "\u001b[1;32m<ipython-input-41-b86ef9b08822>\u001b[0m in \u001b[0;36m<module>\u001b[1;34m()\u001b[0m\n\u001b[0;32m      6\u001b[0m     \u001b[1;32mprint\u001b[0m \u001b[1;34m'A:'\u001b[0m\u001b[1;33m,\u001b[0m \u001b[0mphrases\u001b[0m\u001b[1;33m[\u001b[0m\u001b[0mi\u001b[0m\u001b[1;33m]\u001b[0m\u001b[1;33m\u001b[0m\u001b[0m\n\u001b[0;32m      7\u001b[0m     \u001b[1;32mprint\u001b[0m \u001b[1;34m'B:'\u001b[0m\u001b[1;33m,\u001b[0m \u001b[0manswers\u001b[0m\u001b[1;33m[\u001b[0m\u001b[0mi\u001b[0m\u001b[1;33m]\u001b[0m\u001b[1;33m\u001b[0m\u001b[0m\n\u001b[1;32m----> 8\u001b[1;33m     \u001b[0mprobs_predicted\u001b[0m\u001b[1;33m.\u001b[0m\u001b[0mappend\u001b[0m\u001b[1;33m(\u001b[0m\u001b[0mpredict_proba\u001b[0m\u001b[1;33m(\u001b[0m\u001b[0mphrase_to_matrix\u001b[0m\u001b[1;33m(\u001b[0m\u001b[0mphrases\u001b[0m\u001b[1;33m[\u001b[0m\u001b[0mi\u001b[0m\u001b[1;33m:\u001b[0m\u001b[0mi\u001b[0m\u001b[1;33m+\u001b[0m\u001b[1;36m1\u001b[0m\u001b[1;33m]\u001b[0m\u001b[1;33m)\u001b[0m\u001b[1;33m,\u001b[0m\u001b[0mphrase_to_matrix\u001b[0m\u001b[1;33m(\u001b[0m\u001b[0manswers\u001b[0m\u001b[1;33m[\u001b[0m\u001b[0mi\u001b[0m\u001b[1;33m:\u001b[0m\u001b[0mi\u001b[0m\u001b[1;33m+\u001b[0m\u001b[1;36m1\u001b[0m\u001b[1;33m]\u001b[0m\u001b[1;33m)\u001b[0m\u001b[1;33m)\u001b[0m\u001b[1;33m[\u001b[0m\u001b[1;36m0\u001b[0m\u001b[1;33m]\u001b[0m\u001b[1;33m)\u001b[0m\u001b[1;33m\u001b[0m\u001b[0m\n\u001b[0m\u001b[0;32m      9\u001b[0m     \u001b[0mplt\u001b[0m\u001b[1;33m.\u001b[0m\u001b[0mplot\u001b[0m\u001b[1;33m(\u001b[0m\u001b[0mprobs_predicted\u001b[0m\u001b[1;33m[\u001b[0m\u001b[0mi\u001b[0m\u001b[1;33m]\u001b[0m\u001b[1;33m,\u001b[0m\u001b[0mlabel\u001b[0m\u001b[1;33m=\u001b[0m\u001b[1;34m'pred'\u001b[0m\u001b[1;33m,\u001b[0m\u001b[0mmarker\u001b[0m\u001b[1;33m=\u001b[0m\u001b[1;34m'+'\u001b[0m\u001b[1;33m)\u001b[0m\u001b[1;33m\u001b[0m\u001b[0m\n\u001b[0;32m     10\u001b[0m     \u001b[0mplt\u001b[0m\u001b[1;33m.\u001b[0m\u001b[0mplot\u001b[0m\u001b[1;33m(\u001b[0m\u001b[0mprobas\u001b[0m\u001b[1;33m[\u001b[0m\u001b[0mi\u001b[0m\u001b[1;33m]\u001b[0m\u001b[1;33m,\u001b[0m\u001b[0mlabel\u001b[0m\u001b[1;33m=\u001b[0m\u001b[1;34m'ref'\u001b[0m\u001b[1;33m,\u001b[0m\u001b[0mmarker\u001b[0m\u001b[1;33m=\u001b[0m\u001b[1;34m'+'\u001b[0m\u001b[1;33m)\u001b[0m\u001b[1;33m\u001b[0m\u001b[0m\n",
      "\u001b[1;32m/home/jheuristic/anaconda2/lib/python2.7/site-packages/theano/compile/function_module.pyc\u001b[0m in \u001b[0;36m__call__\u001b[1;34m(self, *args, **kwargs)\u001b[0m\n\u001b[0;32m    864\u001b[0m         \u001b[1;32mtry\u001b[0m\u001b[1;33m:\u001b[0m\u001b[1;33m\u001b[0m\u001b[0m\n\u001b[0;32m    865\u001b[0m             \u001b[0moutputs\u001b[0m \u001b[1;33m=\u001b[0m\u001b[0;31m\\\u001b[0m\u001b[1;33m\u001b[0m\u001b[0m\n\u001b[1;32m--> 866\u001b[1;33m                 \u001b[0mself\u001b[0m\u001b[1;33m.\u001b[0m\u001b[0mfn\u001b[0m\u001b[1;33m(\u001b[0m\u001b[1;33m)\u001b[0m \u001b[1;32mif\u001b[0m \u001b[0moutput_subset\u001b[0m \u001b[1;32mis\u001b[0m \u001b[0mNone\u001b[0m \u001b[1;32melse\u001b[0m\u001b[0;31m\\\u001b[0m\u001b[1;33m\u001b[0m\u001b[0m\n\u001b[0m\u001b[0;32m    867\u001b[0m                 \u001b[0mself\u001b[0m\u001b[1;33m.\u001b[0m\u001b[0mfn\u001b[0m\u001b[1;33m(\u001b[0m\u001b[0moutput_subset\u001b[0m\u001b[1;33m=\u001b[0m\u001b[0moutput_subset\u001b[0m\u001b[1;33m)\u001b[0m\u001b[1;33m\u001b[0m\u001b[0m\n\u001b[0;32m    868\u001b[0m         \u001b[1;32mexcept\u001b[0m \u001b[0mException\u001b[0m\u001b[1;33m:\u001b[0m\u001b[1;33m\u001b[0m\u001b[0m\n",
      "\u001b[1;32m/home/jheuristic/anaconda2/lib/python2.7/site-packages/theano/scan_module/scan_op.pyc\u001b[0m in \u001b[0;36mrval\u001b[1;34m(p, i, o, n, allow_gc)\u001b[0m\n\u001b[0;32m    949\u001b[0m         def rval(p=p, i=node_input_storage, o=node_output_storage, n=node,\n\u001b[0;32m    950\u001b[0m                  allow_gc=allow_gc):\n\u001b[1;32m--> 951\u001b[1;33m             \u001b[0mr\u001b[0m \u001b[1;33m=\u001b[0m \u001b[0mp\u001b[0m\u001b[1;33m(\u001b[0m\u001b[0mn\u001b[0m\u001b[1;33m,\u001b[0m \u001b[1;33m[\u001b[0m\u001b[0mx\u001b[0m\u001b[1;33m[\u001b[0m\u001b[1;36m0\u001b[0m\u001b[1;33m]\u001b[0m \u001b[1;32mfor\u001b[0m \u001b[0mx\u001b[0m \u001b[1;32min\u001b[0m \u001b[0mi\u001b[0m\u001b[1;33m]\u001b[0m\u001b[1;33m,\u001b[0m \u001b[0mo\u001b[0m\u001b[1;33m)\u001b[0m\u001b[1;33m\u001b[0m\u001b[0m\n\u001b[0m\u001b[0;32m    952\u001b[0m             \u001b[1;32mfor\u001b[0m \u001b[0mo\u001b[0m \u001b[1;32min\u001b[0m \u001b[0mnode\u001b[0m\u001b[1;33m.\u001b[0m\u001b[0moutputs\u001b[0m\u001b[1;33m:\u001b[0m\u001b[1;33m\u001b[0m\u001b[0m\n\u001b[0;32m    953\u001b[0m                 \u001b[0mcompute_map\u001b[0m\u001b[1;33m[\u001b[0m\u001b[0mo\u001b[0m\u001b[1;33m]\u001b[0m\u001b[1;33m[\u001b[0m\u001b[1;36m0\u001b[0m\u001b[1;33m]\u001b[0m \u001b[1;33m=\u001b[0m \u001b[0mTrue\u001b[0m\u001b[1;33m\u001b[0m\u001b[0m\n",
      "\u001b[1;32m/home/jheuristic/anaconda2/lib/python2.7/site-packages/theano/scan_module/scan_op.pyc\u001b[0m in \u001b[0;36m<lambda>\u001b[1;34m(node, args, outs)\u001b[0m\n\u001b[0;32m    938\u001b[0m                         \u001b[0margs\u001b[0m\u001b[1;33m,\u001b[0m\u001b[1;33m\u001b[0m\u001b[0m\n\u001b[0;32m    939\u001b[0m                         \u001b[0mouts\u001b[0m\u001b[1;33m,\u001b[0m\u001b[1;33m\u001b[0m\u001b[0m\n\u001b[1;32m--> 940\u001b[1;33m                         self, node)\n\u001b[0m\u001b[0;32m    941\u001b[0m         \u001b[1;32mexcept\u001b[0m \u001b[1;33m(\u001b[0m\u001b[0mImportError\u001b[0m\u001b[1;33m,\u001b[0m \u001b[0mtheano\u001b[0m\u001b[1;33m.\u001b[0m\u001b[0mgof\u001b[0m\u001b[1;33m.\u001b[0m\u001b[0mcmodule\u001b[0m\u001b[1;33m.\u001b[0m\u001b[0mMissingGXX\u001b[0m\u001b[1;33m)\u001b[0m\u001b[1;33m:\u001b[0m\u001b[1;33m\u001b[0m\u001b[0m\n\u001b[0;32m    942\u001b[0m             \u001b[0mp\u001b[0m \u001b[1;33m=\u001b[0m \u001b[0mself\u001b[0m\u001b[1;33m.\u001b[0m\u001b[0mexecute\u001b[0m\u001b[1;33m\u001b[0m\u001b[0m\n",
      "\u001b[1;32mtheano/scan_module/scan_perform.pyx\u001b[0m in \u001b[0;36mtheano.scan_module.scan_perform.perform (/home/jheuristic/.theano/compiledir_Linux-4.2--generic-x86_64-with-debian-jessie-sid-x86_64-2.7.12-64/scan_perform/mod.cpp:4193)\u001b[1;34m()\u001b[0m\n",
      "\u001b[1;32m/home/jheuristic/anaconda2/lib/python2.7/site-packages/theano/gof/op.pyc\u001b[0m in \u001b[0;36mrval\u001b[1;34m(p, i, o, n)\u001b[0m\n\u001b[0;32m    906\u001b[0m             \u001b[1;31m# default arguments are stored in the closure of `rval`\u001b[0m\u001b[1;33m\u001b[0m\u001b[1;33m\u001b[0m\u001b[0m\n\u001b[0;32m    907\u001b[0m             \u001b[1;32mdef\u001b[0m \u001b[0mrval\u001b[0m\u001b[1;33m(\u001b[0m\u001b[0mp\u001b[0m\u001b[1;33m=\u001b[0m\u001b[0mp\u001b[0m\u001b[1;33m,\u001b[0m \u001b[0mi\u001b[0m\u001b[1;33m=\u001b[0m\u001b[0mnode_input_storage\u001b[0m\u001b[1;33m,\u001b[0m \u001b[0mo\u001b[0m\u001b[1;33m=\u001b[0m\u001b[0mnode_output_storage\u001b[0m\u001b[1;33m,\u001b[0m \u001b[0mn\u001b[0m\u001b[1;33m=\u001b[0m\u001b[0mnode\u001b[0m\u001b[1;33m)\u001b[0m\u001b[1;33m:\u001b[0m\u001b[1;33m\u001b[0m\u001b[0m\n\u001b[1;32m--> 908\u001b[1;33m                 \u001b[0mr\u001b[0m \u001b[1;33m=\u001b[0m \u001b[0mp\u001b[0m\u001b[1;33m(\u001b[0m\u001b[0mn\u001b[0m\u001b[1;33m,\u001b[0m \u001b[1;33m[\u001b[0m\u001b[0mx\u001b[0m\u001b[1;33m[\u001b[0m\u001b[1;36m0\u001b[0m\u001b[1;33m]\u001b[0m \u001b[1;32mfor\u001b[0m \u001b[0mx\u001b[0m \u001b[1;32min\u001b[0m \u001b[0mi\u001b[0m\u001b[1;33m]\u001b[0m\u001b[1;33m,\u001b[0m \u001b[0mo\u001b[0m\u001b[1;33m)\u001b[0m\u001b[1;33m\u001b[0m\u001b[0m\n\u001b[0m\u001b[0;32m    909\u001b[0m                 \u001b[1;32mfor\u001b[0m \u001b[0mo\u001b[0m \u001b[1;32min\u001b[0m \u001b[0mnode\u001b[0m\u001b[1;33m.\u001b[0m\u001b[0moutputs\u001b[0m\u001b[1;33m:\u001b[0m\u001b[1;33m\u001b[0m\u001b[0m\n\u001b[0;32m    910\u001b[0m                     \u001b[0mcompute_map\u001b[0m\u001b[1;33m[\u001b[0m\u001b[0mo\u001b[0m\u001b[1;33m]\u001b[0m\u001b[1;33m[\u001b[0m\u001b[1;36m0\u001b[0m\u001b[1;33m]\u001b[0m \u001b[1;33m=\u001b[0m \u001b[0mTrue\u001b[0m\u001b[1;33m\u001b[0m\u001b[0m\n",
      "\u001b[1;32m/home/jheuristic/anaconda2/lib/python2.7/site-packages/theano/tensor/basic.pyc\u001b[0m in \u001b[0;36mperform\u001b[1;34m(self, node, inp, out)\u001b[0m\n\u001b[0;32m   5476\u001b[0m         \u001b[1;31m# gives a numpy float object but we need to return a 0d\u001b[0m\u001b[1;33m\u001b[0m\u001b[1;33m\u001b[0m\u001b[0m\n\u001b[0;32m   5477\u001b[0m         \u001b[1;31m# ndarray\u001b[0m\u001b[1;33m\u001b[0m\u001b[1;33m\u001b[0m\u001b[0m\n\u001b[1;32m-> 5478\u001b[1;33m         \u001b[0mz\u001b[0m\u001b[1;33m[\u001b[0m\u001b[1;36m0\u001b[0m\u001b[1;33m]\u001b[0m \u001b[1;33m=\u001b[0m \u001b[0mnumpy\u001b[0m\u001b[1;33m.\u001b[0m\u001b[0masarray\u001b[0m\u001b[1;33m(\u001b[0m\u001b[0mnumpy\u001b[0m\u001b[1;33m.\u001b[0m\u001b[0mdot\u001b[0m\u001b[1;33m(\u001b[0m\u001b[0mx\u001b[0m\u001b[1;33m,\u001b[0m \u001b[0my\u001b[0m\u001b[1;33m)\u001b[0m\u001b[1;33m)\u001b[0m\u001b[1;33m\u001b[0m\u001b[0m\n\u001b[0m\u001b[0;32m   5479\u001b[0m \u001b[1;33m\u001b[0m\u001b[0m\n\u001b[0;32m   5480\u001b[0m     \u001b[1;32mdef\u001b[0m \u001b[0mgrad\u001b[0m\u001b[1;33m(\u001b[0m\u001b[0mself\u001b[0m\u001b[1;33m,\u001b[0m \u001b[0minp\u001b[0m\u001b[1;33m,\u001b[0m \u001b[0mgrads\u001b[0m\u001b[1;33m)\u001b[0m\u001b[1;33m:\u001b[0m\u001b[1;33m\u001b[0m\u001b[0m\n",
      "\u001b[1;31mKeyboardInterrupt\u001b[0m: "
     ]
    }
   ],
   "source": [
    "from tqdm import tqdm\n",
    "import matplotlib.pyplot as plt\n",
    "%matplotlib inline \n",
    "probs_predicted = []\n",
    "for i in tqdm(range(len(answers))):\n",
    "    print 'A:', phrases[i]\n",
    "    print 'B:', answers[i]\n",
    "    probs_predicted.append(predict_proba(phrase_to_matrix(phrases[i:i+1]),phrase_to_matrix(answers[i:i+1]))[0])\n",
    "    plt.plot(probs_predicted[i],label='pred',marker='+')\n",
    "    plt.plot(probas[i],label='ref',marker='+')\n",
    "    plt.yscale('log')\n",
    "    plt.legend()\n",
    "    plt.grid()\n",
    "    plt.show()\n",
    "    \n",
    "from scipy.stats import spearmanr,pearsonr\n",
    "print spearmanr(probs_predicted[0],probas[0])\n",
    "print pearsonr(probs_predicted[0],probas[0])"
   ]
  },
  {
   "cell_type": "markdown",
   "metadata": {},
   "source": [
    "# trash line"
   ]
  },
  {
   "cell_type": "code",
   "execution_count": null,
   "metadata": {
    "collapsed": true
   },
   "outputs": [],
   "source": []
  },
  {
   "cell_type": "code",
   "execution_count": null,
   "metadata": {
    "collapsed": true
   },
   "outputs": [],
   "source": []
  },
  {
   "cell_type": "code",
   "execution_count": null,
   "metadata": {
    "collapsed": true
   },
   "outputs": [],
   "source": []
  },
  {
   "cell_type": "code",
   "execution_count": null,
   "metadata": {
    "collapsed": false
   },
   "outputs": [],
   "source": [
    "from theano import tensor as T\n",
    "from lasagne.layers import *\n",
    "import os\n",
    "\n",
    "\n",
    "#embedding\n",
    "\n",
    "emb_B = read_wmtx(os.path.join(enc_path,\"layer_context_embedding_biases.wmtx\"))#!unused\n",
    "emb_W = read_wmtx(os.path.join(enc_path,\"layer_context_embedding_0.wmtx\"))\n",
    "n_tokens,word_embedding_size = emb_W.shape\n",
    "\n",
    "prev_phrase = T.imatrix('input tokens')\n",
    "#mask-out the PAD tokens for short phrases\n",
    "prev_phrase_mask = T.neq(prev_phrase,1)#PAD token,)\n"
   ]
  },
  {
   "cell_type": "code",
   "execution_count": null,
   "metadata": {
    "collapsed": false
   },
   "outputs": [],
   "source": [
    "read_wmtx(os.path.join(enc_path, 'layer_reply_lstm_pre_cell_value_0.wmtx',)).shape\n"
   ]
  },
  {
   "cell_type": "code",
   "execution_count": null,
   "metadata": {
    "collapsed": true
   },
   "outputs": [],
   "source": [
    "gru0_units=1024\n",
    "grad_clip=5\n",
    "decoder_bottleneck_size = 256"
   ]
  },
  {
   "cell_type": "code",
   "execution_count": null,
   "metadata": {
    "collapsed": false
   },
   "outputs": [],
   "source": [
    "\n",
    "import lasagne\n",
    "from wrong_lstm_cell import WrongLSTMCell\n",
    "from agentnet.resolver import ProbabilisticResolver\n",
    "###one-step update of decoder recurrence. Used for both training and generation.\n",
    "class decoder_step:\n",
    "    \n",
    "\n",
    "    prev_word = InputLayer((None,),name='decoder prev output inp')\n",
    "\n",
    "    prev_output_emb = EmbeddingLayer(prev_word,\n",
    "                                     n_tokens,\n",
    "                                     word_embedding_size,\n",
    "                                     W= encoder.l_emb.W,\n",
    "                                     name='dec input 0')\n",
    "    \n",
    "    encoder_last_state_inp = InputLayer((None,gru0_units),name='dec input 1')\n",
    "\n",
    "    #previous GRU state goes here\n",
    "    prev_lstm_cell = InputLayer([None,gru0_units],name='decoder prev lstm cell')\n",
    "    prev_lstm_hid = InputLayer([None,gru0_units],name='decoder prev lstm hid')\n",
    "    \n",
    "\n",
    "    #gru update\n",
    "    lstm_cell,lstm_hid = WrongLSTMCell(prev_lstm_cell,prev_lstm_hid,[prev_output_emb,encoder_last_state_inp],name='dec lstm',peepholes=False)\n",
    "\n",
    "    \n",
    "    l_intermediate = DenseLayer(lstm_hid,256,nonlinearity=lasagne.nonlinearities.tanh,name='decoder intermediate')\n",
    "    \n",
    "    #predicted probabilities of next word -- with temperature applied\n",
    "    next_word_probas = DenseLayer(l_intermediate,n_tokens,\n",
    "                                   nonlinearity=lambda x: lasagne.nonlinearities.softmax(x*greed),\n",
    "                                   #softmax with temperature\n",
    "                                   name='decoder next letter probas')\n",
    "    \n",
    "\n",
    "    #actual next word picked with output probabilities\n",
    "    next_word = ProbabilisticResolver(next_word_probas,\n",
    "                                       assume_normalized=True,\n",
    "                                       name='decoder next letter picker')\n",
    "    \n",
    "\n"
   ]
  },
  {
   "cell_type": "code",
   "execution_count": null,
   "metadata": {
    "collapsed": false
   },
   "outputs": [],
   "source": [
    "sorted({par.name:par for par in encoder.l_lstm.get_params()})"
   ]
  },
  {
   "cell_type": "code",
   "execution_count": null,
   "metadata": {
    "collapsed": false
   },
   "outputs": [],
   "source": []
  },
  {
   "cell_type": "code",
   "execution_count": null,
   "metadata": {
    "collapsed": false
   },
   "outputs": [],
   "source": [
    "filter(lambda n: n not in conversion_dict.values(), matrix_names)[:10]"
   ]
  },
  {
   "cell_type": "code",
   "execution_count": null,
   "metadata": {
    "collapsed": false
   },
   "outputs": [],
   "source": [
    "# 0        1          2          3\n",
    "#ingate,forgetgate,cell input, outgate\n",
    "\n",
    "\n"
   ]
  },
  {
   "cell_type": "code",
   "execution_count": null,
   "metadata": {
    "collapsed": false
   },
   "outputs": [],
   "source": [
    "import numpy as np\n",
    "def read_wmtx(fname,dtype='float32',keepdims=False):\n",
    "    with open(fname) as fin:\n",
    "        \n",
    "        rows = fin.read().split('\\n')[1:-1]        \n",
    "        \n",
    "        rows = map(lambda row: map(float,filter(len,row.split(' '))),rows)\n",
    "        \n",
    "        if not keepdims:\n",
    "            while len(rows)==1:\n",
    "                rows=rows[0]\n",
    "        \n",
    "        return np.array(rows,dtype='float32')\n",
    "\n",
    "\n",
    "channels={'chl0':'ingate',\n",
    "   'chl1':'forgetgate',\n",
    "   'chl2':'cell',\n",
    "   'chl3':'outgate'\n",
    "   }\n",
    "for par in get_all_params(decoder_step.next_word):\n",
    "    if any(par.name.endswith(sfx) for sfx in channels):\n",
    "        par.name = par.name[:-4]+channels[par.name[-4:]]\n",
    "\n",
    "dec_params = {par.name:par for par in get_all_params(decoder_step.next_word)}\n",
    "\n",
    "\n",
    "\n",
    "\n",
    "    \n",
    "conversion_dict = {encoder.l_emb.W:\"layer_context_embedding_0.wmtx\",}\n",
    "\n",
    "conversion_dict.update(convert_lstm(encoder.l_lstm,\"layer_context_lstm\"))\n",
    "\n",
    "\n",
    "conversion_dict.update({\n",
    "    dec_params[k]:v for k,v in {\n",
    "            'decoder intermediate.W':'layer_fc_intermediate_decoder_0.wmtx',\n",
    "            'decoder intermediate.b':'layer_fc_intermediate_decoder_biases.wmtx',\n",
    "            'decoder next letter probas.W':'layer_fc_decoder_0.wmtx',\n",
    "            'decoder next letter probas.b':'layer_fc_decoder_biases.wmtx',\n",
    "            \n",
    "            'dec lstm.gates.W_dec input 0_cell':'layer_reply_lstm_pre_cell_value_0.wmtx',\n",
    "            'dec lstm.gates.W_dec input 1_cell':'layer_reply_lstm_pre_cell_value_1.wmtx',\n",
    "            'dec lstm.gates.W_decoder prev lstm hid_cell':'layer_reply_lstm_pre_cell_value_2.wmtx',\n",
    "            'dec lstm.gates.b_cell':'layer_reply_lstm_pre_cell_value_biases.wmtx',\n",
    "            \n",
    "            'dec lstm.gates.W_dec input 0_forgetgate':'layer_reply_lstm_pre_forget_gate_0.wmtx',\n",
    "            'dec lstm.gates.W_dec input 1_forgetgate':'layer_reply_lstm_pre_forget_gate_1.wmtx',\n",
    "            'dec lstm.gates.W_decoder prev lstm hid_forgetgate':'layer_reply_lstm_pre_forget_gate_2.wmtx',\n",
    "            'dec lstm.gates.b_forgetgate':'layer_reply_lstm_pre_forget_gate_biases.wmtx',\n",
    "            \n",
    "            'dec lstm.gates.W_dec input 0_ingate':'layer_reply_lstm_pre_input_gate_0.wmtx',\n",
    "            'dec lstm.gates.W_dec input 1_ingate':'layer_reply_lstm_pre_input_gate_1.wmtx',\n",
    "            'dec lstm.gates.W_decoder prev lstm hid_ingate':'layer_reply_lstm_pre_input_gate_2.wmtx',\n",
    "            'dec lstm.gates.b_ingate':'layer_reply_lstm_pre_input_gate_biases.wmtx',\n",
    "            \n",
    "            \n",
    "            'dec lstm.gates.W_dec input 0_outgate':'layer_reply_lstm_pre_output_gate_0.wmtx',\n",
    "            'dec lstm.gates.W_dec input 1_outgate':'layer_reply_lstm_pre_output_gate_1.wmtx',\n",
    "            'dec lstm.gates.W_decoder prev lstm hid_outgate':'layer_reply_lstm_pre_output_gate_2.wmtx',\n",
    "            'dec lstm.gates.b_outgate':'layer_reply_lstm_pre_output_gate_biases.wmtx'\n",
    "\n",
    "        }.items()\n",
    "    })\n",
    "\n",
    "\n",
    "for k,v in conversion_dict.items():\n",
    "    assert tuple(k.shape.eval()) == read_wmtx(os.path.join(enc_path,v)).shape"
   ]
  },
  {
   "cell_type": "code",
   "execution_count": null,
   "metadata": {
    "collapsed": true
   },
   "outputs": [],
   "source": [
    "### Use the same decoder to generate tokens.\n",
    "# Do this by feeding it's output back as it's input\n",
    "from collections import OrderedDict\n",
    "\n",
    "class generative:\n",
    "\n",
    "\n",
    "    recurrent_states = OrderedDict({\n",
    "            decoder_step.l_gru0:decoder_step.l_prev_gru0,\n",
    "            decoder_step.next_word:decoder_step.prev_word\n",
    "        })\n",
    "    \n",
    "\n",
    "\n",
    "    recurrence = Recurrence(state_variables=recurrent_states,\n",
    "                            state_init = {decoder_step.l_gru0 : encoder.output},\n",
    "                            tracked_outputs=(decoder_step.next_word_probas,decoder_step.next_word),\n",
    "                            batch_size=batch_size,\n",
    "                            n_steps = max_len,\n",
    "                            unroll_scan=unroll_scan,\n",
    "                            )\n",
    "\n",
    "\n",
    "\n",
    "    state_seqs, (probas_seq,output_tokens_seq) = recurrence.get_sequence_layers()\n",
    "\n",
    "    reply_tokens = lasagne.layers.get_output(output_tokens_seq)\n",
    "    \n",
    "    apply_fun = theano.function([prev_phrase],reply_tokens,\n",
    "                                 updates=recurrence.get_automatic_updates())"
   ]
  },
  {
   "cell_type": "code",
   "execution_count": null,
   "metadata": {
    "collapsed": false
   },
   "outputs": [],
   "source": [
    "from agentnet.memory import GRUCell\n",
    "from agentnet.resolver import ProbabilisticResolver\n",
    "from agentnet.agent import Recurrence\n",
    "\n",
    "\n"
   ]
  },
  {
   "cell_type": "code",
   "execution_count": null,
   "metadata": {
    "collapsed": false
   },
   "outputs": [],
   "source": [
    "rows[0]"
   ]
  },
  {
   "cell_type": "code",
   "execution_count": null,
   "metadata": {
    "collapsed": false
   },
   "outputs": [],
   "source": [
    "lines[-1]"
   ]
  }
 ],
 "metadata": {
  "anaconda-cloud": {},
  "kernelspec": {
   "display_name": "Python [conda root]",
   "language": "python",
   "name": "conda-root-py"
  },
  "language_info": {
   "codemirror_mode": {
    "name": "ipython",
    "version": 3
   },
   "file_extension": ".py",
   "mimetype": "text/x-python",
   "name": "python",
   "nbconvert_exporter": "python",
   "pygments_lexer": "ipython3",
   "version": "3.5.2"
  }
 },
 "nbformat": 4,
 "nbformat_minor": 0
}
