{
 "cells": [
  {
   "cell_type": "code",
   "execution_count": 1,
   "metadata": {
    "collapsed": false
   },
   "outputs": [
    {
     "name": "stdout",
     "output_type": "stream",
     "text": [
      "env: THEANO_FLAGS=device=gpu1\n"
     ]
    }
   ],
   "source": [
    "%env THEANO_FLAGS=device=gpu1\n",
    "%load_ext autoreload\n",
    "%autoreload 2\n",
    "import matplotlib.pyplot as plt\n",
    "%matplotlib inline"
   ]
  },
  {
   "cell_type": "markdown",
   "metadata": {},
   "source": [
    "# data"
   ]
  },
  {
   "cell_type": "code",
   "execution_count": 2,
   "metadata": {
    "collapsed": true
   },
   "outputs": [],
   "source": [
    "with open(\"./tokens.txt\") as fin:\n",
    "    tokens = filter(len,fin.read().split('\\n'))\n",
    "    \n",
    "tokens.append(\"_BOS_\") #beginning of sentence. Omitted in danet\n",
    "tokens.append(\"_PAD_\") #padding. Omitted in danet\n",
    "\n",
    "UNK_ix,BOS_ix,EOS_ix,PAD_ix = map(tokens.index,[\"_UNK_\",\"_BOS_\",\"_EOS_\",\"_PAD_\"])\n",
    "n_tokens = len(tokens)\n",
    "\n",
    "from collections import defaultdict\n",
    "token_to_ix = defaultdict(lambda:UNK_ix,{t:i for i,t in enumerate(tokens)})"
   ]
  },
  {
   "cell_type": "code",
   "execution_count": 3,
   "metadata": {
    "collapsed": false
   },
   "outputs": [],
   "source": [
    "import regex\n",
    "def preprocess(lines,speaker=None,add_eos=True):\n",
    "    if type(lines) in (str,unicode):\n",
    "        lines = [lines]\n",
    "    \n",
    "    context=[]\n",
    "    for line in lines:\n",
    "        line = line.lower()\n",
    "        line = regex.sub(ur'(\\p{P}|`|~)', ur' \\1 ', line)\n",
    "        line_ix = map(token_to_ix.__getitem__,filter(len,line.split()))\n",
    "        if add_eos:\n",
    "            line_ix.append(EOS_ix)\n",
    "        context += line_ix\n",
    "            \n",
    "    if speaker is not None:\n",
    "        context.append(speaker)\n",
    "        \n",
    "    return context\n",
    "\n",
    "def ix_to_matrix(phrases_ix,max_len = None,):\n",
    "    max_len = max_len or max(map(len,phrases_ix))\n",
    "    \n",
    "    matrix = np.zeros((len(phrases_ix),max_len),dtype='int32') + PAD_ix\n",
    "    \n",
    "    for i,phrase_ix in enumerate(phrases_ix):\n",
    "        matrix[i,:min(len(phrase_ix),max_len)] = phrase_ix[:max_len]\n",
    "        \n",
    "    return matrix\n",
    "\n",
    "def phrase_to_matrix(contexts,max_len = None,**kwargs):\n",
    "            \n",
    "    return ix_to_matrix([preprocess(phrases,**kwargs) for phrases in contexts],max_len=max_len)\n",
    "\n"
   ]
  },
  {
   "cell_type": "markdown",
   "metadata": {},
   "source": [
    "# model"
   ]
  },
  {
   "cell_type": "code",
   "execution_count": 4,
   "metadata": {
    "collapsed": false
   },
   "outputs": [
    {
     "name": "stderr",
     "output_type": "stream",
     "text": [
      "WARNING (theano.sandbox.cuda): The cuda backend is deprecated and will be removed in the next release (v0.10).  Please switch to the gpuarray backend. You can get more information about how to switch at this URL:\n",
      " https://github.com/Theano/Theano/wiki/Converting-to-the-new-gpu-back-end%28gpuarray%29\n",
      "\n",
      "/anaconda2/lib/python2.7/site-packages/theano/sandbox/cuda/__init__.py:558: UserWarning: Theano flag device=gpu* (old gpu back-end) only support floatX=float32. You have floatX=float64. Use the new gpu back-end with device=cuda* for that value of floatX.\n",
      "  warnings.warn(msg)\n",
      "Using gpu device 1: GeForce GTX 1080 (CNMeM is disabled, cuDNN 5110)\n"
     ]
    }
   ],
   "source": [
    "from warnings import warn\n",
    "import numpy as np\n",
    "import theano\n",
    "theano.config.floatX='float32'\n",
    "import theano.tensor as T\n",
    "import lasagne\n",
    "from lasagne.layers import *\n",
    "\n"
   ]
  },
  {
   "cell_type": "code",
   "execution_count": 5,
   "metadata": {
    "collapsed": false
   },
   "outputs": [],
   "source": [
    "\n",
    "\n",
    "grad_clipping=5\n",
    "lstm_units = 1024\n",
    "emb_size=512\n",
    "\n",
    "\n",
    "temperature = theano.shared(np.float32(1.))\n",
    "semantic_space_size = 1024\n",
    "\n"
   ]
  },
  {
   "cell_type": "code",
   "execution_count": null,
   "metadata": {
    "collapsed": true
   },
   "outputs": [],
   "source": []
  },
  {
   "cell_type": "code",
   "execution_count": 6,
   "metadata": {
    "collapsed": false
   },
   "outputs": [],
   "source": [
    "\n",
    "from pretrained_network.wrong_lstm_layer import WrongLSTMLayer\n",
    "\n",
    "class context2vec:\n",
    "            \n",
    "    l_in = InputLayer((None,None),name='context input')\n",
    "    l_mask = ExpressionLayer(l_in,lambda x:T.neq(x,PAD_ix),name='context mask')\n",
    "    \n",
    "    l_emb = EmbeddingLayer(l_in,n_tokens,emb_size,name=\"context embedding\")\n",
    "    \n",
    "    \n",
    "    ####LSTMLayer with incorrect outputgate####\n",
    "    \n",
    "    l_lstm = WrongLSTMLayer(\n",
    "                        l_emb,\n",
    "                        lstm_units,\n",
    "                        name='context_encoder_lstm',\n",
    "                        grad_clipping=grad_clipping,\n",
    "                        mask_input = l_mask,\n",
    "                        only_return_final=True,\n",
    "                        peepholes=False)\n",
    "    \n",
    "    output = DenseLayer(l_lstm,semantic_space_size,name=\"context_output\",\n",
    "                        nonlinearity=T.nnet.sigmoid)\n",
    "    \n",
    "    weights = get_all_params(output,trainable=True)\n",
    "\n",
    "        \n",
    "class answer2vec:\n",
    "            \n",
    "    l_in = InputLayer((None,None),name='answer input')\n",
    "    l_mask = ExpressionLayer(l_in,lambda x:T.neq(x,PAD_ix),name='answer mask')\n",
    "    \n",
    "    l_emb = EmbeddingLayer(l_in,n_tokens,emb_size,W = context2vec.l_emb.W,\n",
    "                           name=\"answer embedding\")\n",
    "    \n",
    "    \n",
    "    ####LSTMLayer with incorrect outputgate####\n",
    "    \n",
    "    l_lstm = WrongLSTMLayer(\n",
    "                        l_emb,\n",
    "                        lstm_units,\n",
    "                        name='answer_encoder_lstm',\n",
    "                        grad_clipping=grad_clipping,\n",
    "                        mask_input = l_mask,\n",
    "                        only_return_final=True,\n",
    "                        peepholes=False)\n",
    "    \n",
    "    output = DenseLayer(l_lstm,semantic_space_size,name=\"answer=_output\",\n",
    "                        nonlinearity=T.nnet.sigmoid)\n",
    "        \n",
    "    \n",
    "    weights = get_all_params(output,trainable=True)\n",
    "\n",
    "\n",
    "        \n",
    "        \n",
    "\n",
    "\n",
    "        \n",
    "        \n"
   ]
  },
  {
   "cell_type": "code",
   "execution_count": 7,
   "metadata": {
    "collapsed": false
   },
   "outputs": [
    {
     "data": {
      "text/plain": [
       "<pretrained_network.wrong_lstm_layer.WrongLSTMLayer at 0x7f6b0e8cffd0>"
      ]
     },
     "execution_count": 7,
     "metadata": {},
     "output_type": "execute_result"
    }
   ],
   "source": [
    "from agentnet.utils.persistence import load\n",
    "load(context2vec.l_lstm,\"pretrained_network/encoder.pcl\")\n",
    "load(answer2vec.l_lstm,\"pretrained_network/encoder.pcl\")"
   ]
  },
  {
   "cell_type": "code",
   "execution_count": 8,
   "metadata": {
    "collapsed": false
   },
   "outputs": [],
   "source": [
    "get_norm = lambda v: (v**2).sum(axis=-1)**.5\n",
    "get_cosine = lambda v1,v2: (v1*v2).sum(axis=-1) / (get_norm(v1)*get_norm(v2))\n",
    "\n",
    "class dssm:\n",
    "    context_ix  = T.imatrix(\"context tokens\")\n",
    "    good_answer_ix  = T.imatrix(\"good answer tokens\")\n",
    "    bad_answer_ix  = T.imatrix(\"bad answer tokens\")\n",
    "    delta = theano.shared(np.float32(0.5))\n",
    "    \n",
    "    v_context = get_output(context2vec.output,context_ix)\n",
    "    v_good_answer = get_output(answer2vec.output,good_answer_ix)\n",
    "    v_bad_answer = get_output(answer2vec.output,bad_answer_ix)\n",
    "    \n",
    "    assert v_context.ndim == v_good_answer.ndim == v_bad_answer.ndim == 2\n",
    "    \n",
    "    good_similarity = get_cosine(v_context,v_good_answer)\n",
    "    bad_similarity = get_cosine(v_context,v_bad_answer)\n",
    "    \n",
    "    pairwise_hinge_loss = T.nnet.relu(bad_similarity - good_similarity + delta).mean()\n",
    "    \n",
    "    all_weights = list(set(context2vec.weights+answer2vec.weights))\n",
    "    \n",
    "    updates = lasagne.updates.adam(pairwise_hinge_loss,all_weights,learning_rate=1e-4)\n",
    "    \n",
    "    \n",
    "    train_step = theano.function([context_ix,good_answer_ix,bad_answer_ix],pairwise_hinge_loss,\n",
    "                                 updates=updates)\n",
    "    \n",
    "    evaluate = theano.function([context_ix,good_answer_ix,bad_answer_ix],pairwise_hinge_loss)\n",
    "    \n",
    "    score = theano.function([context_ix,good_answer_ix],good_similarity)\n",
    "    \n"
   ]
  },
  {
   "cell_type": "markdown",
   "metadata": {},
   "source": [
    "### training"
   ]
  },
  {
   "cell_type": "code",
   "execution_count": 9,
   "metadata": {
    "collapsed": false
   },
   "outputs": [],
   "source": [
    "from prefetch_generator import background\n",
    "@background(max_prefetch=10)\n",
    "def generate_data(data_rows,batch_size=32,context_length = 3,n_iter=np.inf):\n",
    "    i=0\n",
    "    while True:\n",
    "        batch_ix = np.random.randint(0,len(data_rows)-context_length-1,batch_size)\n",
    "        context_ix = batch_ix[:,None] + np.arange(context_length)[None,:]\n",
    "        answer_ix = batch_ix + context_length\n",
    "        batch_x = ix_to_matrix(map(np.concatenate,data_rows[context_ix]))\n",
    "        batch_y = ix_to_matrix(data_rows[answer_ix])\n",
    "        yield batch_x,batch_y\n",
    "        i+=1\n",
    "        if i>=n_iter:\n",
    "            break\n",
    "\n"
   ]
  },
  {
   "cell_type": "code",
   "execution_count": 10,
   "metadata": {
    "collapsed": false
   },
   "outputs": [
    {
     "name": "stderr",
     "output_type": "stream",
     "text": [
      "/anaconda2/lib/python2.7/site-packages/ipykernel/__main__.py:10: UnicodeWarning: Unicode equal comparison failed to convert both arguments to Unicode - interpreting them as being unequal\n"
     ]
    },
    {
     "name": "stdout",
     "output_type": "stream",
     "text": [
      "\n"
     ]
    }
   ],
   "source": [
    "from tqdm import tqdm\n",
    "\n",
    "with open(\"open_subtitles_en_raw\") as fin:\n",
    "    \n",
    "    rows = map(lambda s: s.decode('utf-8'),fin.read().split('\\n')[:-1])\n",
    "    rows = map(preprocess,tqdm(rows))\n",
    "    rows = np.array(map(np.array,rows))"
   ]
  },
  {
   "cell_type": "code",
   "execution_count": 20,
   "metadata": {
    "collapsed": true
   },
   "outputs": [],
   "source": [
    "loss_history = []\n",
    "val_score_history = []"
   ]
  },
  {
   "cell_type": "code",
   "execution_count": null,
   "metadata": {
    "collapsed": false
   },
   "outputs": [
    {
     "name": "stdout",
     "output_type": "stream",
     "text": [
      "mean loss =  0.262894\n",
      "mean val loss =  0.285154\n"
     ]
    },
    {
     "data": {
      "image/png": "[encoded data removed]",
      "text/plain": [
       "<matplotlib.figure.Figure at 0x7fbc1685f590>"
      ]
     },
     "metadata": {},
     "output_type": "display_data"
    },
    {
     "name": "stderr",
     "output_type": "stream",
     "text": [
      "278it [00:37,  7.36it/s]"
     ]
    }
   ],
   "source": [
    "from IPython.display import clear_output\n",
    "from pandas import ewma\n",
    "n_batches=100\n",
    "rows_train = rows[:len(rows)*9/10]\n",
    "rows_val = rows[len(rows)*9/10:]\n",
    "\n",
    "\n",
    "while True:\n",
    "    for i,(bx,by) in tqdm(enumerate(generate_data(rows_train,batch_size=64,n_iter=n_batches*5))):\n",
    "        assert len(bx)%2==0\n",
    "        half = len(bx)/2\n",
    "        batch_context = bx[:half]\n",
    "        batch_good_answer = by[:half]\n",
    "        batch_bad_answer = by[half:]\n",
    "\n",
    "        loss=dssm.train_step(batch_context,batch_good_answer,batch_bad_answer)\n",
    "        if i%5==0:\n",
    "            loss_history.append(loss)\n",
    "    \n",
    "    for i,(bx,by) in tqdm(enumerate(generate_data(rows_val,batch_size=16,n_iter=n_batches))):\n",
    "        assert len(bx)%2==0\n",
    "        half = len(bx)/2\n",
    "        batch_context = bx[:half]\n",
    "        batch_good_answer = by[:half]\n",
    "        batch_bad_answer = by[half:]\n",
    "\n",
    "        val_score_history.append(dssm.evaluate(batch_context,batch_good_answer,batch_bad_answer))\n",
    "    \n",
    "    \n",
    "    clear_output(True)\n",
    "    plt.plot(loss_history,label='train loss')\n",
    "    plt.plot(val_score_history,label='val loss')\n",
    "    plt.plot(ewma(np.array(loss_history),span=50),label='train loss ma')\n",
    "    plt.plot(ewma(np.array(val_score_history),span=50),label='val loss ma')\n",
    "    print \"mean loss = \",np.mean(loss_history[-n_batches:])\n",
    "    print \"mean val loss = \",np.mean(val_score_history[-n_batches:])\n",
    "    \n",
    "    plt.grid()\n",
    "    plt.legend()\n",
    "    plt.show()\n",
    "    \n"
   ]
  },
  {
   "cell_type": "code",
   "execution_count": 14,
   "metadata": {
    "collapsed": false
   },
   "outputs": [],
   "source": [
    "from agentnet.utils.persistence import save\n",
    "save([context2vec.output,answer2vec.output],\"pretrained_network/dssm_simple.pcl\")"
   ]
  },
  {
   "cell_type": "code",
   "execution_count": null,
   "metadata": {
    "collapsed": false
   },
   "outputs": [],
   "source": [
    "dssm.score(bx,by) - dssm.score(bx,by[::-1])"
   ]
  },
  {
   "cell_type": "code",
   "execution_count": null,
   "metadata": {
    "collapsed": false
   },
   "outputs": [],
   "source": [
    "dssm.score(bx,by)"
   ]
  }
 ],
 "metadata": {
  "kernelspec": {
   "display_name": "Python 2",
   "language": "python",
   "name": "python2"
  },
  "language_info": {
   "codemirror_mode": {
    "name": "ipython",
    "version": 2
   },
   "file_extension": ".py",
   "mimetype": "text/x-python",
   "name": "python",
   "nbconvert_exporter": "python",
   "pygments_lexer": "ipython2",
   "version": "2.7.13"
  }
 },
 "nbformat": 4,
 "nbformat_minor": 0
}
